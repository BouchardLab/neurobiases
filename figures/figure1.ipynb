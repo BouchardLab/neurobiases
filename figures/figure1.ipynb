{
 "cells": [
  {
   "cell_type": "code",
   "execution_count": null,
   "id": "f1935c5a",
   "metadata": {},
   "outputs": [],
   "source": [
    "import h5py\n",
    "import matplotlib.pyplot as plt\n",
    "import mpl_lego.colors as colors\n",
    "import neuropacks as packs\n",
    "import numpy as np\n",
    "import os\n",
    "\n",
    "from mpl_lego.ellipse import plot_cov_ellipse\n",
    "from neurobiases import analysis\n",
    "from neurobiases.utils import all_correlations\n",
    "\n",
    "from mpl_lego.labels import bold_text\n",
    "\n",
    "%matplotlib inline"
   ]
  },
  {
   "cell_type": "code",
   "execution_count": null,
   "id": "5d3e1c7e",
   "metadata": {},
   "outputs": [],
   "source": [
    "plt.rcParams.update({\n",
    "    \"text.usetex\": True,\n",
    "    \"font.family\": \"serif\",\n",
    "    \"font.sans-serif\": [\"Computer Modern Roman\"]})"
   ]
  },
  {
   "cell_type": "code",
   "execution_count": null,
   "id": "9b2c2aa6",
   "metadata": {},
   "outputs": [],
   "source": [
    "ccycle = colors.get_default_ccycle()"
   ]
  },
  {
   "cell_type": "code",
   "execution_count": null,
   "id": "b6abb53c",
   "metadata": {},
   "outputs": [],
   "source": [
    "# Base paths\n",
    "base_path = '/storage/data'\n",
    "# PVC11 path\n",
    "pvc11_path = os.path.join(base_path, 'pvc11/data/spikes_gratings/data_monkey1_gratings.mat')\n",
    "ecog_path = os.path.join(base_path, 'ecog/r32_b7.mat')\n",
    "# Create neuropack\n",
    "pvc11 = packs.PVC11(data_path=pvc11_path)\n",
    "ecog = packs.ECOG(data_path=ecog_path)"
   ]
  },
  {
   "cell_type": "code",
   "execution_count": null,
   "id": "3dd07708",
   "metadata": {},
   "outputs": [],
   "source": [
    "hg_responses = np.mean(ecog.responses[:, :, :, :, :, 2], axis=1).reshape((101, -1)).T"
   ]
  },
  {
   "cell_type": "code",
   "execution_count": null,
   "id": "ea0d4fa1",
   "metadata": {},
   "outputs": [],
   "source": [
    "ecog_highest = np.flip(np.argsort(np.max(hg_responses, axis=1)))"
   ]
  },
  {
   "cell_type": "code",
   "execution_count": null,
   "id": "e5f33220",
   "metadata": {},
   "outputs": [],
   "source": [
    "pvc11 = packs.PVC11(pvc11_path)\n",
    "spike_times = pvc11.events.ravel()"
   ]
  },
  {
   "cell_type": "code",
   "execution_count": null,
   "id": "0fd92f2c",
   "metadata": {},
   "outputs": [],
   "source": [
    "counts = np.zeros_like(spike_times)\n",
    "\n",
    "for neuron in range(counts.size):\n",
    "    counts[neuron] = spike_times[neuron].size\n",
    "\n",
    "pvc_highest = np.flip(np.argsort(counts))"
   ]
  },
  {
   "cell_type": "code",
   "execution_count": null,
   "id": "81583a6a",
   "metadata": {},
   "outputs": [],
   "source": [
    "fig, axes = plt.subplots(2, 2, figsize=(12, 8))\n",
    "plt.subplots_adjust(wspace=0.4, hspace=0.5)\n",
    "\n",
    "for idx, neuron_idx in enumerate(pvc_highest[:20]):\n",
    "    times = spike_times[neuron_idx]\n",
    "    axes[0, 0].scatter(1000 * times, idx * np.ones_like(times), marker='|', color='black', s=100)\n",
    "\n",
    "for idx, e_idx in enumerate(ecog_highest[0:10000:500]):\n",
    "    ecog_response = hg_responses[e_idx]\n",
    "    ecog_response /= np.max(ecog_response)\n",
    "    times = np.arange(ecog_response.size) * 1000 / 200\n",
    "    axes[1, 0].plot(times, 1.2 * idx + ecog_response, color='black')\n",
    "    \n",
    "\n",
    "X_pvc11 = pvc11.get_response_matrix()\n",
    "stimuli_pvc11 = pvc11.get_design_matrix()\n",
    "ncs_pvc11 = all_correlations(X_pvc11, stimuli_pvc11)\n",
    "\n",
    "axes[0, 1].hist(ncs_pvc11, histtype='step', color='black', lw=2)\n",
    "\n",
    "X_ecog = ecog.get_response_matrix(bounds=(40, 60), band='HG')\n",
    "stimuli_ecog = ecog.get_design_matrix(form='frequency')\n",
    "ncs_ecog = all_correlations(X_ecog, stimuli_ecog)\n",
    "\n",
    "axes[1, 1].hist(ncs_ecog, histtype='step', color='black', lw=2)\n",
    "\n",
    "\n",
    "\n",
    "axes[0, 1].hist(ncs_pvc11, histtype='step', color='black', lw=2)\n",
    "axes[0, 0].set_xlim([0, 400])\n",
    "axes[1, 0].set_xlim([0, 400])\n",
    "\n",
    "axes[0, 1].set_xlim([-1, 1])\n",
    "axes[1, 1].set_xlim([-1, 1])\n",
    "\n",
    "axes[0, 0].set_xticks([0, 100, 200, 300, 400])\n",
    "axes[0, 1].set_xticks([1, -0.5, 0, 0.5, 1.])\n",
    "axes[1, 0].set_xticks([0, 100, 200, 300, 400])\n",
    "axes[1, 1].set_xticks([-1, -0.5, 0, 0.5, 1])\n",
    "\n",
    "axes[0, 0].set_xlabel(bold_text('Time since onset (ms)'), fontsize=15)\n",
    "axes[1, 0].set_xlabel(bold_text('Time since onset (ms)'), fontsize=15)\n",
    "axes[0, 1].set_xlabel(bold_text('Noise Correlation'), fontsize=15)\n",
    "axes[1, 1].set_xlabel(bold_text('Noise Correlation'), fontsize=15)\n",
    "\n",
    "axes[0, 0].set_ylabel(bold_text('Unit'), fontsize=15)\n",
    "axes[1, 0].set_ylabel(bold_text('Unit'), fontsize=15)\n",
    "axes[1, 1].set_ylabel(bold_text('Frequency'), fontsize=15)\n",
    "axes[0, 1].set_ylabel(bold_text('Frequency'), fontsize=15)\n",
    "\n",
    "\n",
    "for ax in axes[:, 0]:\n",
    "    ax.set_yticks([])\n",
    "    \n",
    "for ax in axes.ravel():\n",
    "    ax.tick_params(labelsize=13)\n",
    "    \n",
    "plt.savefig('figure1_sub.pdf', bbox_inches='tight')"
   ]
  }
 ],
 "metadata": {
  "kernelspec": {
   "display_name": "neuro",
   "language": "python",
   "name": "neuro"
  },
  "language_info": {
   "codemirror_mode": {
    "name": "ipython",
    "version": 3
   },
   "file_extension": ".py",
   "mimetype": "text/x-python",
   "name": "python",
   "nbconvert_exporter": "python",
   "pygments_lexer": "ipython3",
   "version": "3.7.9"
  }
 },
 "nbformat": 4,
 "nbformat_minor": 5
}
