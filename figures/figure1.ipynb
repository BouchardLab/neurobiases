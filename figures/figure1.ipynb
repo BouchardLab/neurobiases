{
 "cells": [
  {
   "cell_type": "code",
   "execution_count": null,
   "id": "1f82cb6d",
   "metadata": {},
   "outputs": [],
   "source": [
    "import h5py\n",
    "import matplotlib.pyplot as plt\n",
    "import mpl_lego.colors as colors\n",
    "import neuropacks as packs\n",
    "import numpy as np\n",
    "import os\n",
    "\n",
    "from mpl_lego.ellipse import plot_cov_ellipse\n",
    "from neurobiases import analysis\n",
    "\n",
    "%matplotlib inline"
   ]
  },
  {
   "cell_type": "code",
   "execution_count": null,
   "id": "459c4651",
   "metadata": {},
   "outputs": [],
   "source": [
    "plt.rcParams.update({\n",
    "    \"text.usetex\": True,\n",
    "    \"font.family\": \"serif\",\n",
    "    \"font.sans-serif\": [\"Computer Modern Roman\"]})"
   ]
  },
  {
   "cell_type": "code",
   "execution_count": null,
   "id": "c87ccc72",
   "metadata": {},
   "outputs": [],
   "source": [
    "ccycle = colors.get_default_ccycle()"
   ]
  },
  {
   "cell_type": "code",
   "execution_count": null,
   "id": "39ccefbf",
   "metadata": {},
   "outputs": [],
   "source": [
    "# Base paths\n",
    "data_path = '/storage/data'\n",
    "fits_path = '/storage/fits/neurobiases'\n",
    "# PVC11 path\n",
    "data_path = os.path.join(data_path, 'pvc11/data/spikes_gratings/data_monkey1_gratings.mat')\n",
    "# Create neuropack\n",
    "pvc11 = packs.PVC11(data_path=data_path)\n",
    "# Fits path for PVC11-1\n",
    "fits_path = os.path.join(fits_path, 'pvc11/pvc11_monkey1.h5')\n",
    "fits = h5py.File(fits_path, 'r')"
   ]
  },
  {
   "cell_type": "code",
   "execution_count": null,
   "id": "da0a7edd",
   "metadata": {},
   "outputs": [],
   "source": [
    "tuning_coefs = fits['t_cosine2_ols/tuning_coefs'][0]\n",
    "tuning_intercepts = fits['t_cosine2_ols/intercepts'][0]\n",
    "tuning_preferences = fits['t_cosine2_ols/tuning_preferences'][0]\n",
    "coupling_coefs = fits['c_lasso/coupling_coefs'][0]\n",
    "coupling_coefs_srt = coupling_coefs[np.argsort(tuning_preferences)]"
   ]
  },
  {
   "cell_type": "code",
   "execution_count": null,
   "id": "128843ab",
   "metadata": {},
   "outputs": [],
   "source": [
    "# Figure parameters\n",
    "ax_label_size = 16\n",
    "ax_tick_size = 12"
   ]
  },
  {
   "cell_type": "code",
   "execution_count": null,
   "id": "1d8ecbac",
   "metadata": {},
   "outputs": [],
   "source": [
    "fig, ax = plt.subplots(1, 1, figsize=(4, 4))\n",
    "# Choose random tuning curves\n",
    "rng = np.random.default_rng(43840912)\n",
    "examples = rng.integers(low=0, high=tuning_coefs.shape[0], size=len(ccycle))\n",
    "\n",
    "for idx, example in enumerate(examples):\n",
    "    angles, tc = pvc11.get_tuning_curve(\n",
    "        form='cosine2',\n",
    "        tuning_coefs=tuning_coefs[example],\n",
    "        intercept=tuning_intercepts[example])\n",
    "\n",
    "    ax.plot(\n",
    "        angles,\n",
    "        tc,\n",
    "        color=ccycle[idx],\n",
    "        linewidth=3,\n",
    "        alpha=0.75)\n",
    "\n",
    "ax.set_xlim([0, 330])\n",
    "ax.set_ylim([-0.2, 4])       \n",
    "ax.set_xticks([0, 90, 180, 270])\n",
    "ax.set_yticks([0, 1, 2, 3, 4])\n",
    "ax.set_xlabel(r'\\textbf{Stimulus (degrees)}', fontsize=ax_label_size)\n",
    "ax.set_ylabel(r'\\textbf{Mean Response}', fontsize=ax_label_size)\n",
    "ax.tick_params(labelsize=ax_tick_size)"
   ]
  }
 ],
 "metadata": {
  "kernelspec": {
   "display_name": "neuro",
   "language": "python",
   "name": "neuro"
  },
  "language_info": {
   "codemirror_mode": {
    "name": "ipython",
    "version": 3
   },
   "file_extension": ".py",
   "mimetype": "text/x-python",
   "name": "python",
   "nbconvert_exporter": "python",
   "pygments_lexer": "ipython3",
   "version": "3.7.9"
  }
 },
 "nbformat": 4,
 "nbformat_minor": 5
}
