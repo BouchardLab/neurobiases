{
 "cells": [
  {
   "cell_type": "code",
   "execution_count": 61,
   "id": "9f690e85-21b8-4c1e-9166-2f0f34e5761c",
   "metadata": {},
   "outputs": [],
   "source": [
    "import h5py\n",
    "import matplotlib.pyplot as plt\n",
    "import numpy as np\n",
    "import os\n",
    "\n",
    "from matplotlib.ticker import FormatStrFormatter\n",
    "from mpl_lego import colorbar\n",
    "\n",
    "%matplotlib inline"
   ]
  },
  {
   "cell_type": "code",
   "execution_count": 2,
   "id": "29084b37-51ce-4a65-83e9-c5ca5267bb54",
   "metadata": {},
   "outputs": [],
   "source": [
    "plt.rcParams.update({'text.usetex': True, 'font.family': 'serif'})"
   ]
  },
  {
   "cell_type": "code",
   "execution_count": 38,
   "id": "f874e3e7-d067-48d0-bb26-c46db995d13b",
   "metadata": {},
   "outputs": [],
   "source": [
    "path = os.path.join(os.environ['HOME'], \"fits/neurobiases/exp17/exp17_em_0_0_2_0.h5\")"
   ]
  },
  {
   "cell_type": "code",
   "execution_count": 39,
   "id": "facdff7d-68a7-4efe-8850-971e35c3d619",
   "metadata": {},
   "outputs": [],
   "source": [
    "results = h5py.File(path, \"r\")"
   ]
  },
  {
   "cell_type": "code",
   "execution_count": 40,
   "id": "526fa3f9-5c41-4137-bed2-2e6054fbb751",
   "metadata": {},
   "outputs": [
    {
     "data": {
      "text/plain": [
       "['B_est',\n",
       " 'B_est_coarse',\n",
       " 'B_est_fine',\n",
       " 'B_true',\n",
       " 'Ks',\n",
       " 'L_est',\n",
       " 'L_est_coarse',\n",
       " 'L_est_fine',\n",
       " 'L_true',\n",
       " 'Psi_est',\n",
       " 'Psi_est_coarse',\n",
       " 'Psi_est_fine',\n",
       " 'Psi_true',\n",
       " 'a_est',\n",
       " 'a_est_coarse',\n",
       " 'a_est_fine',\n",
       " 'a_true',\n",
       " 'aics_best',\n",
       " 'aics_coarse',\n",
       " 'aics_fine',\n",
       " 'b_est',\n",
       " 'b_est_coarse',\n",
       " 'b_est_fine',\n",
       " 'b_true',\n",
       " 'bics_best',\n",
       " 'bics_coarse',\n",
       " 'bics_fine',\n",
       " 'coupling_lambdas',\n",
       " 'coupling_lambdas_fine',\n",
       " 'scores_best',\n",
       " 'scores_coarse',\n",
       " 'scores_fine',\n",
       " 'tuning_lambdas',\n",
       " 'tuning_lambdas_fine']"
      ]
     },
     "execution_count": 40,
     "metadata": {},
     "output_type": "execute_result"
    }
   ],
   "source": [
    "list(results)"
   ]
  },
  {
   "cell_type": "code",
   "execution_count": 132,
   "id": "893a8570-dd3c-4845-8d0b-f27a3d979aa2",
   "metadata": {},
   "outputs": [
    {
     "data": {
      "text/plain": [
       "array([1.00000000e-03, 1.83298071e-03, 3.35981829e-03, 6.15848211e-03,\n",
       "       1.12883789e-02, 2.06913808e-02, 3.79269019e-02, 6.95192796e-02,\n",
       "       1.27427499e-01, 2.33572147e-01, 4.28133240e-01, 7.84759970e-01,\n",
       "       1.43844989e+00, 2.63665090e+00, 4.83293024e+00, 8.85866790e+00,\n",
       "       1.62377674e+01, 2.97635144e+01, 5.45559478e+01, 1.00000000e+02])"
      ]
     },
     "execution_count": 132,
     "metadata": {},
     "output_type": "execute_result"
    }
   ],
   "source": [
    "coupling_lambdas_coarse"
   ]
  },
  {
   "cell_type": "code",
   "execution_count": 134,
   "id": "afc3ed3e-ff2e-4e88-b61e-8054b602a7aa",
   "metadata": {},
   "outputs": [
    {
     "data": {
      "text/plain": [
       "array([0.01034569, 0.01112876, 0.0119711 , 0.0128772 , 0.01385189,\n",
       "       0.01490034, 0.01602816, 0.01724134, 0.01854635, 0.01995013,\n",
       "       0.02146017, 0.0230845 , 0.02483178, 0.02671131, 0.02873311,\n",
       "       0.03090794, 0.03324738, 0.03576389, 0.03847088, 0.04138276])"
      ]
     },
     "execution_count": 134,
     "metadata": {},
     "output_type": "execute_result"
    }
   ],
   "source": [
    "np.logspace(np.log10(0.5 * coupling_lambdas_coarse[best_aic_coarse[0]]),\n",
    "            np.log10((1/0.5) * coupling_lambdas_coarse[best_aic_coarse[0]]),\n",
    "            20)"
   ]
  },
  {
   "cell_type": "code",
   "execution_count": 127,
   "id": "7b9c391e-6ed8-4915-a7e9-a5b39365be92",
   "metadata": {},
   "outputs": [
    {
     "data": {
      "text/plain": [
       "0.02069138081114789"
      ]
     },
     "execution_count": 127,
     "metadata": {},
     "output_type": "execute_result"
    }
   ],
   "source": [
    "tuning_lambdas_coarse[best_aic_coarse[1]]"
   ]
  },
  {
   "cell_type": "code",
   "execution_count": 124,
   "id": "371a79ef-f5ef-4d64-be09-21881d0fe289",
   "metadata": {},
   "outputs": [
    {
     "data": {
      "text/plain": [
       "array([[ 0.72965744,  0.34160836,  0.        ,  0.30086789,  0.        ,\n",
       "         0.06954911,  0.        ,  0.57427963, -0.34118921,  0.        ],\n",
       "       [ 0.02259294,  0.        , -1.03812425, -0.32639713, -0.27359983,\n",
       "         0.11382689,  0.53381139,  0.26917813, -0.63366814,  0.        ],\n",
       "       [ 0.        , -0.64686238, -1.0553173 , -0.89367417, -0.50128873,\n",
       "        -0.37813392, -0.15413261,  0.16213793,  0.07587528,  0.00325409]])"
      ]
     },
     "execution_count": 124,
     "metadata": {},
     "output_type": "execute_result"
    }
   ],
   "source": [
    "results['b_est_fine'][best_mll_fine].squeeze()"
   ]
  },
  {
   "cell_type": "code",
   "execution_count": 88,
   "id": "405807cd-17ca-4cc2-bfa9-f288cf6a6cd1",
   "metadata": {},
   "outputs": [
    {
     "data": {
      "text/plain": [
       "array([[0., 0., 0., 0., 0., 0., 0., 0., 0., 0.],\n",
       "       [0., 0., 0., 0., 0., 0., 0., 0., 0., 0.],\n",
       "       [0., 0., 0., 0., 0., 0., 0., 0., 0., 0.]])"
      ]
     },
     "execution_count": 88,
     "metadata": {},
     "output_type": "execute_result"
    }
   ],
   "source": [
    "results['b_est'][:]"
   ]
  },
  {
   "cell_type": "code",
   "execution_count": 56,
   "id": "7c309793-6f66-4e0c-bb13-9c977c727f24",
   "metadata": {},
   "outputs": [],
   "source": [
    "a_est_coarse = np.squeeze(results[\"a_est_coarse\"])\n",
    "a_est_fine = np.squeeze(results[\"a_est_fine\"])\n",
    "a_est = np.squeeze(results[\"a_est\"])\n",
    "a_true = results[\"a_true\"][:]\n",
    "\n",
    "b_est_coarse = np.squeeze(results[\"b_est_coarse\"])\n",
    "b_est_fine = np.squeeze(results[\"b_est_fine\"])\n",
    "b_est = np.squeeze(results[\"b_est\"])\n",
    "b_true = results[\"b_true\"][:]\n",
    "\n",
    "aics_coarse = np.squeeze(results[\"aics_coarse\"][:])\n",
    "aics_fine = np.squeeze(results[\"aics_fine\"][:])\n",
    "aics_coarse_med = np.median(aics_coarse, axis=-1)\n",
    "aics_fine_med = np.median(aics_fine, axis=-1)\n",
    "best_aic_coarse = np.unravel_index(np.argmin(aics_coarse_med), aics_coarse_med.shape)\n",
    "best_aic_fine = np.unravel_index(np.argmin(aics_fine_med), aics_fine_med.shape)\n",
    "\n",
    "bics_coarse = np.squeeze(results[\"bics_coarse\"][:])\n",
    "bics_fine = np.squeeze(results[\"bics_fine\"][:])\n",
    "bics_coarse_med = np.median(bics_coarse, axis=-1)\n",
    "bics_fine_med = np.median(bics_fine, axis=-1)\n",
    "best_bic_coarse = np.unravel_index(np.argmin(bics_coarse_med), bics_coarse_med.shape)\n",
    "best_bic_fine = np.unravel_index(np.argmin(bics_fine_med), bics_fine_med.shape)\n",
    "\n",
    "mlls_coarse = np.squeeze(results[\"scores_coarse\"][:])\n",
    "mlls_fine = np.squeeze(results[\"scores_fine\"][:])\n",
    "mlls_coarse_med = np.median(mlls_coarse, axis=-1)\n",
    "mlls_fine_med = np.median(mlls_fine, axis=-1)\n",
    "best_mll_coarse = np.unravel_index(np.argmax(mlls_coarse_med), mlls_coarse_med.shape)\n",
    "best_mll_fine = np.unravel_index(np.argmax(mlls_fine_med), mlls_fine_med.shape)\n",
    "\n",
    "coupling_lambdas_coarse = results['coupling_lambdas'][:]\n",
    "coupling_lambdas_fine = results['coupling_lambdas_fine'][:]\n",
    "tuning_lambdas_coarse = results['tuning_lambdas'][:]\n",
    "tuning_lambdas_fine = results['tuning_lambdas_fine'][:]"
   ]
  },
  {
   "cell_type": "code",
   "execution_count": 57,
   "id": "8e5d36f6-7279-4293-8eb0-8e8687a2688b",
   "metadata": {},
   "outputs": [],
   "source": [
    "a_sr_coarse = np.median(np.count_nonzero(a_est_coarse, axis=-1) / a_true.size, axis=-1)\n",
    "b_sr_coarse = np.median(np.count_nonzero(b_est_coarse, axis=-1) / b_true.size, axis=-1)\n",
    "a_sr_fine = np.median(np.count_nonzero(a_est_fine, axis=-1) / a_true.size, axis=-1)\n",
    "b_sr_fine = np.median(np.count_nonzero(b_est_fine, axis=-1) / b_true.size, axis=-1)"
   ]
  },
  {
   "cell_type": "code",
   "execution_count": 121,
   "id": "fdb58fe1-7c3e-45c5-8470-63c3e6c5d202",
   "metadata": {},
   "outputs": [
    {
     "data": {
      "image/png": "[encoded data removed]",
      "text/plain": [
       "<Figure size 864x432 with 3 Axes>"
      ]
     },
     "metadata": {
      "needs_background": "light"
     },
     "output_type": "display_data"
    }
   ],
   "source": [
    "fig, axes = plt.subplots(1, 2, figsize=(12, 6))\n",
    "\n",
    "plt.subplots_adjust(wspace=0.3)\n",
    "img1 = axes[0].imshow(\n",
    "    a_sr_coarse,\n",
    "    origin='lower',\n",
    "    vmin=0,\n",
    "    vmax=1,\n",
    "    cmap='Greys_r')\n",
    "img2 = axes[1].imshow(\n",
    "    b_sr_coarse,\n",
    "    origin='lower',\n",
    "    vmin=0,\n",
    "    vmax=1,\n",
    "    cmap='Greys_r')\n",
    "\n",
    "for ax in axes:\n",
    "    ax.scatter(best_mll_coarse[1], best_mll_coarse[0], color='red', marker='x')\n",
    "    ax.scatter(best_aic_coarse[1], best_aic_coarse[0], color='green', marker='x')\n",
    "    ax.scatter(best_bic_coarse[1], best_bic_coarse[0], color='blue', marker='x')\n",
    "colorbar.append_colorbar_to_axis(axes[1], img2)\n",
    "\n",
    "axes[0].set_title(r'\\textbf{Coupling}', fontsize=20)\n",
    "axes[1].set_title(r'\\textbf{Tuning}', fontsize=20)\n",
    "for ax in axes:\n",
    "    ax.tick_params(labelsize=15)\n",
    "    ax.set_xticks(np.append(np.arange(0, 20, 4), 19))\n",
    "    ax.set_xticklabels(np.round(tuning_lambdas_coarse[ax.get_xticks()], decimals=3))\n",
    "    ax.set_yticks(np.append(np.arange(0, 20, 4), 19))\n",
    "    ax.set_yticklabels(np.round(coupling_lambdas_coarse[ax.get_yticks()], decimals=3))\n",
    "    ax.set_xlabel(r'\\textbf{Tuning Lambda}', fontsize=15)\n",
    "    ax.set_ylabel(r'\\textbf{Coupling Lambda}', fontsize=15)\n",
    "\n",
    "plt.show()"
   ]
  },
  {
   "cell_type": "code",
   "execution_count": 120,
   "id": "bac53588-80cb-4494-974f-84dd2080ae81",
   "metadata": {},
   "outputs": [
    {
     "data": {
      "image/png": "[encoded data removed]",
      "text/plain": [
       "<Figure size 864x432 with 3 Axes>"
      ]
     },
     "metadata": {
      "needs_background": "light"
     },
     "output_type": "display_data"
    }
   ],
   "source": [
    "fig, axes = plt.subplots(1, 2, figsize=(12, 6))\n",
    "\n",
    "img1 = axes[0].imshow(\n",
    "    a_sr_fine,\n",
    "    origin='lower',\n",
    "    vmin=0,\n",
    "    vmax=1,\n",
    "    cmap='Greys_r')\n",
    "img2 = axes[1].imshow(\n",
    "    b_sr_fine,\n",
    "    origin='lower',\n",
    "    vmin=0,\n",
    "    vmax=1,\n",
    "    cmap='Greys_r')\n",
    "\n",
    "axes[0].set_title(r'\\textbf{Coupling}', fontsize=20)\n",
    "axes[1].set_title(r'\\textbf{Tuning}', fontsize=20)\n",
    "\n",
    "for ax in axes:\n",
    "    ax.scatter(best_mll_fine[1], best_mll_fine[0], color='red', marker='x')\n",
    "    ax.scatter(best_aic_fine[1], best_aic_fine[0], color='green', marker='x')\n",
    "    ax.scatter(best_bic_fine[1], best_bic_fine[0], color='blue', marker='x')\n",
    "\n",
    "    ax.tick_params(labelsize=15)\n",
    "    ax.set_xticks(np.append(np.arange(0, 20, 4), 19))\n",
    "    ax.set_xticklabels(np.round(tuning_lambdas_fine[ax.get_xticks()], decimals=3))\n",
    "    ax.set_yticks(np.append(np.arange(0, 20, 4), 19))\n",
    "    ax.set_yticklabels(np.round(coupling_lambdas_fine[ax.get_yticks()], decimals=3))\n",
    "    ax.set_xlabel(r'\\textbf{Tuning Lambda}', fontsize=15)\n",
    "    ax.set_ylabel(r'\\textbf{Coupling Lambda}', fontsize=15)\n",
    "\n",
    "colorbar.append_colorbar_to_axis(axes[1], img2)\n",
    "\n",
    "plt.show()"
   ]
  },
  {
   "cell_type": "code",
   "execution_count": 35,
   "id": "1d665da1-3dfd-4e17-9b21-45cd00e03e35",
   "metadata": {},
   "outputs": [
    {
     "data": {
      "image/png": "[encoded data removed]",
      "text/plain": [
       "<Figure size 864x432 with 4 Axes>"
      ]
     },
     "metadata": {
      "needs_background": "light"
     },
     "output_type": "display_data"
    }
   ],
   "source": [
    "fig, axes = plt.subplots(1, 2, figsize=(12, 6))\n",
    "\n",
    "plt.subplots_adjust(wspace=0.5)\n",
    "img1 = axes[0].imshow(\n",
    "    aics_coarse_med,\n",
    "    origin='lower',\n",
    "    vmax=-2849,\n",
    "    cmap='Greys_r')\n",
    "img2 = axes[1].imshow(\n",
    "    aics_fine_med,\n",
    "    origin='lower',\n",
    "    vmax=-2849,\n",
    "    cmap='Greys_r')\n",
    "\n",
    "axes[0].scatter(best_aic_coarse[1], best_aic_coarse[0], color='blue', marker='x')\n",
    "axes[1].scatter(best_aic_fine[1], best_aic_fine[0], color='blue', marker='x')\n",
    "colorbar.append_colorbar_to_axis(axes[0], img1)\n",
    "colorbar.append_colorbar_to_axis(axes[1], img2)\n",
    "\n",
    "for ax in axes:\n",
    "    ax.tick_params(labelsize=15)\n",
    "    ax.set_xticks(np.arange(0, 20, 4))\n",
    "    ax.set_yticks(np.arange(0, 20, 4))\n",
    "    ax.set_xlabel(r'\\textbf{Tuning Lambda}', fontsize=15)\n",
    "    ax.set_ylabel(r'\\textbf{Coupling Lambda}', fontsize=15)\n",
    "plt.show()"
   ]
  },
  {
   "cell_type": "code",
   "execution_count": 36,
   "id": "13a10398-ecf4-48bf-b284-6d9ec7cde9de",
   "metadata": {},
   "outputs": [
    {
     "data": {
      "image/png": "[encoded data removed]",
      "text/plain": [
       "<Figure size 864x432 with 4 Axes>"
      ]
     },
     "metadata": {
      "needs_background": "light"
     },
     "output_type": "display_data"
    }
   ],
   "source": [
    "fig, axes = plt.subplots(1, 2, figsize=(12, 6))\n",
    "\n",
    "plt.subplots_adjust(wspace=0.5)\n",
    "img1 = axes[0].imshow(\n",
    "    bics_coarse_med,\n",
    "    origin='lower',\n",
    "    vmax=-2415,\n",
    "    cmap='Greys_r')\n",
    "img2 = axes[1].imshow(\n",
    "    bics_fine_med,\n",
    "    origin='lower',\n",
    "    vmax=-2415,\n",
    "    cmap='Greys_r')\n",
    "\n",
    "axes[0].scatter(best_bic_coarse[1], best_bic_coarse[0], color='blue', marker='x')\n",
    "axes[1].scatter(best_bic_fine[1], best_bic_fine[0], color='blue', marker='x')\n",
    "colorbar.append_colorbar_to_axis(axes[0], img1)\n",
    "colorbar.append_colorbar_to_axis(axes[1], img2)\n",
    "\n",
    "for ax in axes:\n",
    "    ax.tick_params(labelsize=15)\n",
    "    ax.set_xticks(np.arange(0, 20, 4))\n",
    "    ax.set_yticks(np.arange(0, 20, 4))\n",
    "    ax.set_xlabel(r'\\textbf{Tuning Lambda}', fontsize=15)\n",
    "    ax.set_ylabel(r'\\textbf{Coupling Lambda}', fontsize=15)\n",
    "plt.show()"
   ]
  },
  {
   "cell_type": "code",
   "execution_count": 37,
   "id": "c3474e78-e0f4-4344-944f-d979d46e0f65",
   "metadata": {},
   "outputs": [
    {
     "data": {
      "image/png": "[encoded data removed]",
      "text/plain": [
       "<Figure size 864x432 with 4 Axes>"
      ]
     },
     "metadata": {
      "needs_background": "light"
     },
     "output_type": "display_data"
    }
   ],
   "source": [
    "fig, axes = plt.subplots(1, 2, figsize=(12, 6))\n",
    "\n",
    "plt.subplots_adjust(wspace=0.5)\n",
    "img1 = axes[0].imshow(\n",
    "    mlls_coarse_med,\n",
    "    origin='lower',\n",
    "    vmin=693,\n",
    "    cmap='Greys_r')\n",
    "img2 = axes[1].imshow(\n",
    "    mlls_fine_med,\n",
    "    origin='lower',\n",
    "    cmap='Greys_r')\n",
    "\n",
    "axes[0].scatter(best_mll_coarse[1], best_mll_coarse[0], color='blue', marker='x')\n",
    "axes[1].scatter(best_mll_fine[1], best_mll_fine[0], color='blue', marker='x')\n",
    "colorbar.append_colorbar_to_axis(axes[0], img1)\n",
    "colorbar.append_colorbar_to_axis(axes[1], img2)\n",
    "\n",
    "for ax in axes:\n",
    "    ax.tick_params(labelsize=15)\n",
    "    ax.set_xticks(np.arange(0, 20, 4))\n",
    "    ax.set_yticks(np.arange(0, 20, 4))\n",
    "    ax.set_xlabel(r'\\textbf{Tuning Lambda}', fontsize=15)\n",
    "    ax.set_ylabel(r'\\textbf{Coupling Lambda}', fontsize=15)\n",
    "plt.show()"
   ]
  },
  {
   "cell_type": "code",
   "execution_count": null,
   "id": "729d035c-2be3-4f3e-a920-eb963428c32c",
   "metadata": {},
   "outputs": [],
   "source": []
  }
 ],
 "metadata": {
  "kernelspec": {
   "display_name": "neuro",
   "language": "python",
   "name": "neuro"
  },
  "language_info": {
   "codemirror_mode": {
    "name": "ipython",
    "version": 3
   },
   "file_extension": ".py",
   "mimetype": "text/x-python",
   "name": "python",
   "nbconvert_exporter": "python",
   "pygments_lexer": "ipython3",
   "version": "3.7.9"
  }
 },
 "nbformat": 4,
 "nbformat_minor": 5
}
