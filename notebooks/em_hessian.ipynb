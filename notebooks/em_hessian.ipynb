{
 "cells": [
  {
   "cell_type": "code",
   "execution_count": null,
   "metadata": {},
   "outputs": [],
   "source": [
    "import matplotlib.pyplot as plt\n",
    "import numpy as np\n",
    "\n",
    "from importlib import reload\n",
    "from matplotlib import rc\n",
    "from neurobiases import (TriangularModel,\n",
    "                         EMSolver,\n",
    "                         em_utils,\n",
    "                         solver_utils)\n",
    "%matplotlib inline"
   ]
  },
  {
   "cell_type": "code",
   "execution_count": null,
   "metadata": {},
   "outputs": [],
   "source": [
    "# Create triangular model and draw data\n",
    "tm = TriangularModel(\n",
    "    model='linear',\n",
    "    parameter_design='direct_response',\n",
    "    M=10,\n",
    "    N=10,\n",
    "    K=1,\n",
    "    corr_cluster=0.25,\n",
    "    corr_back=0.1,\n",
    "    coupling_distribution='gaussian',\n",
    "    coupling_sparsity=0.5,\n",
    "    coupling_loc=0,\n",
    "    coupling_scale=0.25,\n",
    "    coupling_rng=2332,\n",
    "    tuning_distribution='gaussian',\n",
    "    tuning_sparsity=0.5,\n",
    "    tuning_loc=0,\n",
    "    tuning_scale=0.25,\n",
    "    tuning_rng=23456542,\n",
    "    stim_distribution='uniform')\n",
    "X, Y, y = tm.generate_samples(n_samples=1000, rng=2332)"
   ]
  },
  {
   "cell_type": "code",
   "execution_count": null,
   "metadata": {},
   "outputs": [],
   "source": [
    "# Run sparse solver\n",
    "solver_sparse = EMSolver(\n",
    "    X, Y, y, K=1,\n",
    "    solver='ow_lbfgs',\n",
    "    max_iter=1000,\n",
    "    tol=1e-8,\n",
    "    c_coupling=8e-2,\n",
    "    c_tuning=1.3e-1,\n",
    "    penalize_B=False,\n",
    "    rng=948512\n",
    ")\n",
    "# Get initializations\n",
    "params_init_sparse = solver_sparse.get_params()\n",
    "# Fit EM using sparse optimizer\n",
    "solver_sparse.fit_em(verbose=True, store_parameters=True, refit=False)\n",
    "params_final_sparse = solver_sparse.get_params()\n",
    "solver_sparse.set_masks(a_mask=solver_sparse.a.ravel() != 0, b_mask=solver_sparse.b.ravel() != 0)"
   ]
  },
  {
   "cell_type": "code",
   "execution_count": null,
   "metadata": {},
   "outputs": [],
   "source": [
    "# Run non-sparse solver (penalties = 0), suffers from identifiability\n",
    "solver_nonsparse = EMSolver(\n",
    "    X, Y, y, K=1,\n",
    "    solver='ow_lbfgs',\n",
    "    max_iter=1000,\n",
    "    tol=1e-8,\n",
    "    c_tuning=0,\n",
    "    c_coupling=0,\n",
    "    penalize_B=False,\n",
    "    rng=948512\n",
    ")\n",
    "# Get initializations\n",
    "params_init_nonsparse = solver_nonsparse.get_params()\n",
    "# Fit EM using sparse optimizer\n",
    "solver_nonsparse.fit_em(verbose=True, store_parameters=True, refit=False)\n",
    "params_final_nonsparse = solver_nonsparse.get_params()"
   ]
  },
  {
   "cell_type": "code",
   "execution_count": null,
   "metadata": {},
   "outputs": [],
   "source": [
    "# Run non-sparse solver (penalties = 0), suffers from identifiability\n",
    "solver_oracle = EMSolver(\n",
    "    X, Y, y, K=1,\n",
    "    solver='ow_lbfgs',\n",
    "    max_iter=1000,\n",
    "    tol=1e-8,\n",
    "    a_mask=tm.a.ravel() != 0,\n",
    "    b_mask=tm.b.ravel() != 0,\n",
    "    c_tuning=0,\n",
    "    c_coupling=0,\n",
    "    penalize_B=False,\n",
    "    rng=948512\n",
    ")\n",
    "# Get initializations\n",
    "params_init_oracle = solver_oracle.get_params()\n",
    "# Fit EM using sparse optimizer\n",
    "solver_oracle.fit_em(verbose=True, store_parameters=True, refit=False)\n",
    "params_final_oracle = solver_oracle.get_params()"
   ]
  },
  {
   "cell_type": "code",
   "execution_count": null,
   "metadata": {},
   "outputs": [],
   "source": [
    "n_points_sparse = solver_sparse.ll_path.size\n",
    "interp_sparse = np.linspace(params_init_sparse, params_final_sparse, n_points_sparse)\n",
    "mlls_interp_sparse = np.zeros(n_points_sparse)\n",
    "\n",
    "for idx, interp in enumerate(interp_sparse):\n",
    "    a, b, B, Psi_tr, L = solver_sparse.split_params(interp)\n",
    "    mlls_interp_sparse[idx] = em_utils.marginal_log_likelihood_linear_tm(\n",
    "        X=X, Y=Y, y=y, a=a, b=b, B=B, L=L,\n",
    "        Psi=solver_sparse.Psi_tr_to_Psi(Psi_tr)\n",
    "    )"
   ]
  },
  {
   "cell_type": "code",
   "execution_count": null,
   "metadata": {},
   "outputs": [],
   "source": [
    "n_points_nonsparse = solver_nonsparse.ll_path.size\n",
    "interp_nonsparse = np.linspace(params_init_nonsparse, params_final_nonsparse, n_points_nonsparse)\n",
    "mlls_interp_nonsparse = np.zeros(n_points_nonsparse)\n",
    "\n",
    "for idx, interp in enumerate(interp_nonsparse):\n",
    "    a, b, B, Psi_tr, L = solver_nonsparse.split_params(interp)\n",
    "    mlls_interp_nonsparse[idx] = em_utils.marginal_log_likelihood_linear_tm(\n",
    "        X=X, Y=Y, y=y, a=a, b=b, B=B, L=L,\n",
    "        Psi=solver_nonsparse.Psi_tr_to_Psi(Psi_tr)\n",
    "    )"
   ]
  },
  {
   "cell_type": "code",
   "execution_count": null,
   "metadata": {},
   "outputs": [],
   "source": [
    "n_points_oracle = solver_oracle.ll_path.size\n",
    "interp_oracle = np.linspace(params_init_oracle, params_final_oracle, n_points_oracle)\n",
    "mlls_interp_oracle = np.zeros(n_points_oracle)\n",
    "\n",
    "for idx, interp in enumerate(interp_oracle):\n",
    "    a, b, B, Psi_tr, L = solver_oracle.split_params(interp)\n",
    "    mlls_interp_oracle[idx] = em_utils.marginal_log_likelihood_linear_tm(\n",
    "        X=X, Y=Y, y=y, a=a, b=b, B=B, L=L,\n",
    "        Psi=solver_oracle.Psi_tr_to_Psi(Psi_tr)\n",
    "    )"
   ]
  },
  {
   "cell_type": "code",
   "execution_count": null,
   "metadata": {},
   "outputs": [],
   "source": [
    "fig, axes = plt.subplots(1, 3, figsize=(12, 3))\n",
    "\n",
    "for ax, solver, mlls in zip(axes,\n",
    "                      [solver_sparse, solver_nonsparse, solver_oracle],\n",
    "                      [mlls_interp_sparse, mlls_interp_nonsparse, mlls_interp_oracle]):\n",
    "    ax.plot(solver.ll_path, color='k', linewidth=2)\n",
    "    ax.plot(mlls, color='red', linewidth=2)\n",
    "    ax.vlines(np.cumsum(solver.steps), 0, 20000, color='gray', linewidth=0.5)\n",
    "    ax.set_xscale('log')\n",
    "    \n",
    "    ax.tick_params(labelsize=13)\n",
    "    ax.set_xlabel(r'\\textbf{Iterations}', fontsize=13)\n",
    "    ax.set_ylabel(r'\\textbf{Marginal log-likelihood}', fontsize=13)\n",
    "    \n",
    "axes[0].set_title(r'\\textbf{Sparse}', fontsize=15)\n",
    "axes[1].set_title(r'\\textbf{Non-Sparse}', fontsize=15)\n",
    "axes[2].set_title(r'\\textbf{Oracle}', fontsize=15)\n",
    "\n",
    "plt.tight_layout()\n",
    "plt.savefig('ll_path.pdf', bbox_inches='tight')"
   ]
  },
  {
   "cell_type": "code",
   "execution_count": null,
   "metadata": {},
   "outputs": [],
   "source": [
    "fig, axes = plt.subplots(1, 3, figsize=(12, 3))\n",
    "\n",
    "for ax, solver, mlls in zip(axes,\n",
    "                      [solver_sparse, solver_nonsparse, solver_oracle],\n",
    "                      [mlls_interp_sparse, mlls_interp_nonsparse, mlls_interp_oracle]):\n",
    "    ax.plot(solver.a_path, linewidth=2)\n",
    "    ax.set_xscale('log')\n",
    "    \n",
    "    ax.tick_params(labelsize=13)\n",
    "    ax.set_xlabel(r'\\textbf{Iterations}', fontsize=13)\n",
    "    ax.set_ylabel(r'\\textbf{Coupling Parameters}', fontsize=13)\n",
    "    ax.set_ylim([0, 0.75])\n",
    "    \n",
    "axes[0].set_title(r'\\textbf{Sparse}', fontsize=15)\n",
    "axes[1].set_title(r'\\textbf{Non-Sparse}', fontsize=15)\n",
    "axes[2].set_title(r'\\textbf{Oracle}', fontsize=15)\n",
    "\n",
    "plt.tight_layout()\n",
    "plt.savefig('coupling.pdf', bbox_inches='tight')"
   ]
  },
  {
   "cell_type": "code",
   "execution_count": null,
   "metadata": {},
   "outputs": [],
   "source": [
    "fig, axes = plt.subplots(1, 3, figsize=(12, 3))\n",
    "\n",
    "for ax, solver, mlls in zip(axes,\n",
    "                      [solver_sparse, solver_nonsparse, solver_oracle],\n",
    "                      [mlls_interp_sparse, mlls_interp_nonsparse, mlls_interp_oracle]):\n",
    "    ax.plot(solver.b_path, linewidth=2)\n",
    "    ax.set_xscale('log')\n",
    "    \n",
    "    ax.tick_params(labelsize=13)\n",
    "    ax.set_xlabel(r'\\textbf{Iterations}', fontsize=13)\n",
    "    ax.set_ylabel(r'\\textbf{Tuning Parameters}', fontsize=13)\n",
    "    ax.set_ylim([0, 1.5])\n",
    "    \n",
    "axes[0].set_title(r'\\textbf{Sparse}', fontsize=15)\n",
    "axes[1].set_title(r'\\textbf{Non-Sparse}', fontsize=15)\n",
    "axes[2].set_title(r'\\textbf{Oracle}', fontsize=15)\n",
    "\n",
    "plt.tight_layout()\n",
    "plt.savefig('tuning.pdf', bbox_inches='tight')"
   ]
  },
  {
   "cell_type": "code",
   "execution_count": null,
   "metadata": {},
   "outputs": [],
   "source": [
    "hessian1 = solver_sparse.marginal_likelihood_hessian()\n",
    "hessian2 = solver_sparse.marginal_likelihood_hessian(mask=True)\n",
    "hessian3 = solver_nonsparse.marginal_likelihood_hessian()\n",
    "hessian4 = solver_oracle.marginal_likelihood_hessian()\n",
    "hessian5 = solver_oracle.marginal_likelihood_hessian(mask=True)\n",
    "\n",
    "u1 = np.linalg.eigvalsh(hessian1)\n",
    "u2 = np.linalg.eigvalsh(hessian2)\n",
    "u3 = np.linalg.eigvalsh(hessian3)\n",
    "u4 = np.linalg.eigvalsh(hessian4)\n",
    "u5 = np.linalg.eigvalsh(hessian5)"
   ]
  },
  {
   "cell_type": "code",
   "execution_count": null,
   "metadata": {},
   "outputs": [],
   "source": [
    "fig, ax = plt.subplots(1, 1, figsize=(6, 5))\n",
    "\n",
    "ax.plot(np.abs(u1), marker='o')\n",
    "ax.plot(np.abs(u2), marker='o')\n",
    "ax.plot(np.abs(u1[u1 < 0]), marker='o', color='black', markersize=7)\n",
    "ax.set_yscale('log')\n",
    "\n",
    "ax.tick_params(labelsize=14)\n",
    "ax.set_xlabel(r'\\textbf{Index}', fontsize=20)\n",
    "ax.set_ylabel(r'$|$\\textbf{Eigenvalue}$|$', fontsize=20)\n",
    "ax.set_title(r'$K=1$', fontsize=20)\n",
    "plt.savefig('k=1_eigs.pdf', bbox_inches='tight')"
   ]
  },
  {
   "cell_type": "code",
   "execution_count": null,
   "metadata": {},
   "outputs": [],
   "source": [
    "# Run sparse solver\n",
    "test = EMSolver(\n",
    "    X, Y, y, K=3,\n",
    "    solver='ow_lbfgs',\n",
    "    max_iter=1000,\n",
    "    tol=1e-8,\n",
    "    c_coupling=8e-2,\n",
    "    c_tuning=1.3e-1,\n",
    "    penalize_B=False,\n",
    "    rng=948512,\n",
    "    initialization='random'\n",
    ")"
   ]
  },
  {
   "cell_type": "code",
   "execution_count": null,
   "metadata": {},
   "outputs": [],
   "source": [
    "hessian1 = test.marginal_likelihood_hessian()\n",
    "u1 = np.linalg.eigvalsh(hessian1)"
   ]
  },
  {
   "cell_type": "code",
   "execution_count": null,
   "metadata": {},
   "outputs": [],
   "source": [
    "fig, axes = plt.subplots(1, 2, figsize=(10, 4))\n",
    "\n",
    "axes[0].plot(np.abs(u1), marker='o')\n",
    "axes[0].plot(np.abs(u1[u1 < 0]), marker='o', color='black', markersize=7)\n",
    "axes[0].set_yscale('log')\n",
    "\n",
    "axes[1].plot(np.abs(u1), marker='o')\n",
    "axes[1].plot(np.abs(u1[u1 < 0]), marker='o', color='black', markersize=7)\n",
    "axes[1].set_yscale('log')\n",
    "\n",
    "\n",
    "axes[0].tick_params(labelsize=14)\n",
    "axes[0].set_xlabel(r'\\textbf{Index}', fontsize=20)\n",
    "axes[0].set_ylabel(r'$|$\\textbf{Eigenvalue}$|$', fontsize=20)\n",
    "axes[0].set_title(r'$K=3$', fontsize=20)\n",
    "\n",
    "axes[1].tick_params(labelsize=14)\n",
    "axes[1].set_xlabel(r'\\textbf{Index}', fontsize=20)\n",
    "axes[1].set_ylabel(r'$|$\\textbf{Eigenvalue}$|$', fontsize=20)\n",
    "axes[1].set_title(r'$K=3$ (Zoomed in)', fontsize=20)\n",
    "axes[1].set_xlim([20, 40])\n",
    "plt.tight_layout()\n",
    "plt.savefig('k=3_eigs.pdf', bbox_inches='tight')"
   ]
  },
  {
   "cell_type": "code",
   "execution_count": null,
   "metadata": {},
   "outputs": [],
   "source": []
  }
 ],
 "metadata": {
  "kernelspec": {
   "display_name": "neuro",
   "language": "python",
   "name": "neuro"
  },
  "language_info": {
   "codemirror_mode": {
    "name": "ipython",
    "version": 3
   },
   "file_extension": ".py",
   "mimetype": "text/x-python",
   "name": "python",
   "nbconvert_exporter": "python",
   "pygments_lexer": "ipython3",
   "version": "3.7.9"
  },
  "varInspector": {
   "cols": {
    "lenName": 16,
    "lenType": 16,
    "lenVar": 40
   },
   "kernels_config": {
    "python": {
     "delete_cmd_postfix": "",
     "delete_cmd_prefix": "del ",
     "library": "var_list.py",
     "varRefreshCmd": "print(var_dic_list())"
    },
    "r": {
     "delete_cmd_postfix": ") ",
     "delete_cmd_prefix": "rm(",
     "library": "var_list.r",
     "varRefreshCmd": "cat(var_dic_list()) "
    }
   },
   "types_to_exclude": [
    "module",
    "function",
    "builtin_function_or_method",
    "instance",
    "_Feature"
   ],
   "window_display": false
  }
 },
 "nbformat": 4,
 "nbformat_minor": 4
}
