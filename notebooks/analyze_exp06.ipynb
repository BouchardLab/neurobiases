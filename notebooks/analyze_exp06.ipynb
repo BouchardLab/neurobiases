{
 "cells": [
  {
   "cell_type": "code",
   "execution_count": null,
   "metadata": {},
   "outputs": [],
   "source": [
    "import matplotlib.pyplot as plt\n",
    "import matplotlib.colors as colors\n",
    "import neurobiases\n",
    "import numpy as np\n",
    "import os\n",
    "\n",
    "from sklearn.utils.extmath import cartesian\n",
    "\n",
    "%matplotlib inline"
   ]
  },
  {
   "cell_type": "code",
   "execution_count": null,
   "metadata": {},
   "outputs": [],
   "source": [
    "results_path_a = os.path.join(os.environ['HOME'], 'fits/neurobiases/exp6a.npz')\n",
    "results_path_b = os.path.join(os.environ['HOME'], 'fits/neurobiases/exp6b.npz')"
   ]
  },
  {
   "cell_type": "code",
   "execution_count": null,
   "metadata": {},
   "outputs": [],
   "source": [
    "results_em = np.load(results_path_a)\n",
    "results_tc = np.load(results_path_b)"
   ]
  },
  {
   "cell_type": "code",
   "execution_count": null,
   "metadata": {},
   "outputs": [],
   "source": [
    "a_true = results_em['a_true'][:]\n",
    "b_true = results_em['b_true'][:]\n",
    "B_true = results_em['B_true'][:].reshape((10, 10))\n",
    "Psi_true = results_em['Psi_true'][:]\n",
    "\n",
    "a_est_em = results_em['a_est'][:]\n",
    "a_est_tc = results_tc['a_est'][:]\n",
    "b_est_em = results_em['b_est'][:]\n",
    "b_est_tc = results_tc['b_est'][:]\n",
    "B_est = results_em['B_est'][:]\n",
    "Psi_est = results_em['Psi_est'][:]\n",
    "scores_em = results_em['scores'][:].reshape((30, 30, -1))\n",
    "scores_tc = results_tc['scores'][:].reshape((30, 30, -1))\n",
    "bics_em = results_em['bics'][:].reshape((30, 30, -1))\n",
    "bics_tc = results_tc['bics'][:].reshape((30, 30, -1))"
   ]
  },
  {
   "cell_type": "code",
   "execution_count": null,
   "metadata": {},
   "outputs": [],
   "source": [
    "N = a_true.size\n",
    "M = b_true.size"
   ]
  },
  {
   "cell_type": "code",
   "execution_count": null,
   "metadata": {},
   "outputs": [],
   "source": [
    "ticks_em = [0, 6, 12, 18, 24, 29]\n",
    "xticklabels_em = ['1e-6', '1e-5', '1e-4', '1e-3', '1e-2', '1e-1']\n",
    "yticklabels_em = ['1e-4', '1e-3', '1e-2', '1e-1', '1e-0', '1e1']"
   ]
  },
  {
   "cell_type": "code",
   "execution_count": null,
   "metadata": {},
   "outputs": [],
   "source": [
    "ticks_tc = [0, 8, 15, 22, 29]\n",
    "xticklabels_tc = ['1e-3', '1e-2', '1e-1', '1e0', '1e1']\n",
    "yticklabels_tc = ['1e-3', '1e-2', '1e-1', '1e0', '1e1']"
   ]
  },
  {
   "cell_type": "code",
   "execution_count": null,
   "metadata": {},
   "outputs": [],
   "source": [
    "fig, axes = plt.subplots(1, 2, figsize=(10, 5))\n",
    "\n",
    "axes[0].plot(np.sort(a_true), color='black', marker='o', markersize=8)\n",
    "axes[1].plot(np.sort(b_true), color='black', marker='o', markersize=8)\n",
    "\n",
    "for ax in axes:\n",
    "    ax.set_ylim([-2, 2])\n",
    "    ax.set_xlim([-0.1, 9.1])\n",
    "    ax.axhline(0, color='r', linestyle='--')\n",
    "    ax.tick_params(labelsize=14)\n",
    "    ax.set_xlabel(r'\\textbf{Parameter Index}', fontsize=18)\n",
    "    \n",
    "axes[0].set_ylabel(r'\\textbf{Tuning Parameters}', fontsize=18)\n",
    "axes[1].set_ylabel(r'\\textbf{Coupling Parameters}', fontsize=18)\n",
    "plt.tight_layout()\n",
    "plt.savefig('exp6_ground_truth_parameters.pdf')\n"
   ]
  },
  {
   "cell_type": "markdown",
   "metadata": {},
   "source": [
    "# Cross-validated Log-likelihood"
   ]
  },
  {
   "cell_type": "code",
   "execution_count": null,
   "metadata": {},
   "outputs": [],
   "source": [
    "mean_lls_em = np.mean(scores_em, axis=2)\n",
    "mean_lls_tc = np.mean(-scores_tc, axis=2)\n",
    "best_ll_em = np.unravel_index(np.argmax(mean_lls_em), mean_lls_em.shape)\n",
    "best_ll_tc = np.unravel_index(np.argmax(mean_lls_tc), mean_lls_tc.shape)"
   ]
  },
  {
   "cell_type": "code",
   "execution_count": null,
   "metadata": {},
   "outputs": [],
   "source": [
    "fig, ax = plt.subplots(1, 1, figsize=(6, 4))\n",
    "ax.plot(np.sort(-mean_lls_em.ravel()), linewidth=3, color='black')\n",
    "ax.set_xlabel(r'\\textbf{CV Index}', fontsize=20)\n",
    "ax.set_ylabel(r'\\textbf{Mean Negative LL}', fontsize=20)\n",
    "\n",
    "ax.set_xlim([0, 900])\n",
    "ax.set_ylim([-np.max(mean_lls_em), -np.percentile(mean_lls_em, q=10)])\n",
    "ax.tick_params(labelsize=15)\n",
    "ax.set_title(r'\\textbf{EM}', fontsize=20)\n",
    "plt.show()"
   ]
  },
  {
   "cell_type": "code",
   "execution_count": null,
   "metadata": {},
   "outputs": [],
   "source": [
    "fig, ax = plt.subplots(1, 1, figsize=(5, 5))\n",
    "\n",
    "img = ax.imshow(mean_lls_em, vmin=np.percentile(mean_lls_em, q=90), vmax=np.max(mean_lls_em))\n",
    "ax.set_xlabel(r'\\textbf{Tuning Penalty}', fontsize=16)\n",
    "ax.set_ylabel(r'\\textbf{Coupling Penalty}', fontsize=16)\n",
    "\n",
    "ax.set_xticks(ticks_em)\n",
    "ax.set_yticks(ticks_em)\n",
    "ax.set_xticklabels(xticklabels_em, fontsize=12)\n",
    "ax.set_yticklabels(yticklabels_em, fontsize=12)\n",
    "\n",
    "ax.scatter(best_ll_em[1], best_ll_em[0], color='red', marker='x')\n",
    "\n",
    "[[x0, y0], [x1, y1]] = ax.get_position().get_points()\n",
    "cax = fig.add_axes([x1 + 0.05 * (x1 - x0), y0, 0.05 * (x1 - x0), (y1 - y0)])\n",
    "cb = fig.colorbar(img, cax=cax)\n",
    "cb.ax.tick_params(labelsize=10)\n",
    "cb.ax.set_ylabel(r'\\textbf{Held out Log-Likelihood}', fontsize=15, labelpad=20, rotation=270)\n",
    "\n",
    "ax.set_title(r'\\textbf{EM}', fontsize=20)\n",
    "plt.savefig('exp6_ll_grid_em.pdf', bbox_inches='tight')\n",
    "plt.show()"
   ]
  },
  {
   "cell_type": "code",
   "execution_count": null,
   "metadata": {},
   "outputs": [],
   "source": [
    "fig, ax = plt.subplots(1, 1, figsize=(5, 5))\n",
    "\n",
    "img = ax.imshow(mean_lls_tc, vmin=np.percentile(mean_lls_tc, q=90), vmax=np.max(mean_lls_tc))\n",
    "ax.set_xlabel(r'\\textbf{Tuning Penalty}', fontsize=16)\n",
    "ax.set_ylabel(r'\\textbf{Coupling Penalty}', fontsize=16)\n",
    "\n",
    "ax.set_xticks(ticks_tc)\n",
    "ax.set_yticks(ticks_tc)\n",
    "ax.set_xticklabels(xticklabels_tc, fontsize=12)\n",
    "ax.set_yticklabels(yticklabels_tc, fontsize=12)\n",
    "\n",
    "ax.scatter(best_ll_tc[1], best_ll_tc[0], color='red', marker='x')\n",
    "\n",
    "[[x0, y0], [x1, y1]] = ax.get_position().get_points()\n",
    "cax = fig.add_axes([x1 + 0.05 * (x1 - x0), y0, 0.05 * (x1 - x0), (y1 - y0)])\n",
    "cb = fig.colorbar(img, cax=cax)\n",
    "cb.ax.tick_params(labelsize=10)\n",
    "cb.ax.set_ylabel(r'\\textbf{Held out Log-Likelihood}', fontsize=15, labelpad=20, rotation=270)\n",
    "ax.set_title(r'\\textbf{TC}', fontsize=20)\n",
    "\n",
    "plt.savefig('exp6_ll_grid_tc.pdf', bbox_inches='tight')\n",
    "plt.show()"
   ]
  },
  {
   "cell_type": "markdown",
   "metadata": {},
   "source": [
    "# Bayesian Information Criterion"
   ]
  },
  {
   "cell_type": "code",
   "execution_count": null,
   "metadata": {},
   "outputs": [],
   "source": [
    "mean_bics_em = np.mean(bics_em, axis=-1)\n",
    "mean_bics_tc = np.mean(bics_tc, axis=-1)\n",
    "best_bic_em = np.unravel_index(np.argmin(mean_bics_em), mean_bics_em.shape)\n",
    "best_bic_tc = np.unravel_index(np.argmin(mean_bics_tc), mean_bics_tc.shape)"
   ]
  },
  {
   "cell_type": "code",
   "execution_count": null,
   "metadata": {},
   "outputs": [],
   "source": [
    "fig, ax = plt.subplots(1, 1, figsize=(6, 4))\n",
    "ax.plot(np.sort(mean_bics_em.ravel()), linewidth=3, color='black')\n",
    "ax.set_xlabel(r'\\textbf{CV Index}', fontsize=20)\n",
    "ax.set_ylabel(r'\\textbf{Mean BIC}', fontsize=20)\n",
    "\n",
    "ax.set_xlim([0, 900])\n",
    "ax.set_ylim([mean_bics_em.min(), mean_bics_em.max()])\n",
    "ax.tick_params(labelsize=15)\n",
    "plt.show()"
   ]
  },
  {
   "cell_type": "code",
   "execution_count": null,
   "metadata": {},
   "outputs": [],
   "source": [
    "fig, ax = plt.subplots(1, 1, figsize=(5, 5))\n",
    "\n",
    "img = ax.imshow(mean_bics_em, vmin=np.min(mean_bics_em), vmax=np.percentile(mean_bics_em, q=20))\n",
    "\n",
    "ax.set_xlabel(r'\\textbf{Tuning Penalty}', fontsize=16)\n",
    "ax.set_ylabel(r'\\textbf{Coupling Penalty}', fontsize=16)\n",
    "\n",
    "ax.set_xticks(ticks_em)\n",
    "ax.set_yticks(ticks_em)\n",
    "ax.set_xticklabels(xticklabels_em, fontsize=12)\n",
    "ax.set_yticklabels(yticklabels_em, fontsize=12)\n",
    "\n",
    "ax.scatter(best_bic_em[1], best_bic_em[0], color='red', marker='x')\n",
    "\n",
    "[[x0, y0], [x1, y1]] = ax.get_position().get_points()\n",
    "cax = fig.add_axes([x1 + 0.05 * (x1 - x0), y0, 0.05 * (x1 - x0), (y1 - y0)])\n",
    "cb = fig.colorbar(img, cax=cax)\n",
    "cb.ax.tick_params(labelsize=10)\n",
    "cb.ax.set_ylabel(r'\\textbf{BIC}', fontsize=15, labelpad=20, rotation=270)\n",
    "plt.savefig('exp6_bic_grid_em.pdf', bbox_inches='tight')\n",
    "plt.show()"
   ]
  },
  {
   "cell_type": "code",
   "execution_count": null,
   "metadata": {},
   "outputs": [],
   "source": [
    "fig, ax = plt.subplots(1, 1, figsize=(5, 5))\n",
    "\n",
    "img = ax.imshow(mean_bics_tc, vmin=np.min(mean_bics_tc), vmax=np.percentile(mean_bics_tc, q=20))\n",
    "\n",
    "ax.set_xlabel(r'\\textbf{Tuning Penalty}', fontsize=16)\n",
    "ax.set_ylabel(r'\\textbf{Coupling Penalty}', fontsize=16)\n",
    "\n",
    "ax.set_xticks(ticks_tc)\n",
    "ax.set_yticks(ticks_tc)\n",
    "ax.set_xticklabels(xticklabels_tc, fontsize=12)\n",
    "ax.set_yticklabels(yticklabels_tc, fontsize=12)\n",
    "\n",
    "ax.scatter(best_bic_tc[1], best_bic_tc[0], color='red', marker='x')\n",
    "\n",
    "[[x0, y0], [x1, y1]] = ax.get_position().get_points()\n",
    "cax = fig.add_axes([x1 + 0.05 * (x1 - x0), y0, 0.05 * (x1 - x0), (y1 - y0)])\n",
    "cb = fig.colorbar(img, cax=cax)\n",
    "cb.ax.tick_params(labelsize=10)\n",
    "cb.ax.set_ylabel(r'\\textbf{BIC}', fontsize=15, labelpad=20, rotation=270)\n",
    "plt.savefig('exp6_bic_grid_tc.pdf', bbox_inches='tight')\n",
    "plt.show()"
   ]
  },
  {
   "cell_type": "markdown",
   "metadata": {},
   "source": [
    "# Selection Ratio"
   ]
  },
  {
   "cell_type": "code",
   "execution_count": null,
   "metadata": {},
   "outputs": [],
   "source": [
    "a_srs = np.median((np.count_nonzero(a_est_em, axis=2) / N).reshape((30, 30, -1)), axis=2)\n",
    "b_srs = np.median((np.count_nonzero(b_est_em, axis=2) / M).reshape((30, 30, -1)), axis=2)\n",
    "B_srs = np.median((np.count_nonzero(B_est, axis=(2, 3)) / (N * M)).reshape((30, 30, -1)), axis=2)"
   ]
  },
  {
   "cell_type": "code",
   "execution_count": null,
   "metadata": {},
   "outputs": [],
   "source": [
    "fig, axes = plt.subplots(1, 3, figsize=(10, 4), sharex=True, sharey=True)\n",
    "\n",
    "axes[0].imshow(a_srs, vmin=0, vmax=1)\n",
    "axes[1].imshow(b_srs, vmin=0, vmax=1)\n",
    "img = axes[2].imshow(B_srs, vmin=0, vmax=1)\n",
    "\n",
    "axes[0].set_xlabel(r'\\textbf{Tuning Penalty}', fontsize=16)\n",
    "axes[0].set_ylabel(r'\\textbf{Coupling Penalty}', fontsize=16)\n",
    "\n",
    "axes[0].set_xticks(ticks_em)\n",
    "axes[1].set_yticks(ticks_em)\n",
    "\n",
    "for ax in axes:\n",
    "    ax.set_xticklabels(xticklabels_em, fontsize=12)\n",
    "    ax.set_yticklabels(yticklabels_em, fontsize=12)\n",
    "    ax.scatter(best_ll_em[1], best_ll_em[0], color='red', marker='x')\n",
    "    ax.scatter(best_bic_em[1], best_bic_em[0], color='cyan', marker='x')\n",
    "\n",
    "axes[0].set_title(r'\\textbf{Coupling}', fontsize=18)\n",
    "axes[1].set_title(r'\\textbf{Target Tuning}', fontsize=18)\n",
    "axes[2].set_title(r'\\textbf{Non-target Tuning}', fontsize=18)\n",
    "\n",
    "[[x0, y0], [x1, y1]] = axes[2].get_position().get_points()\n",
    "cax = fig.add_axes([x1 + 0.05 * (x1 - x0), y0, 0.05 * (x1 - x0), (y1 - y0)])\n",
    "cb = fig.colorbar(img, cax=cax)\n",
    "cb.ax.tick_params(labelsize=10)\n",
    "cb.ax.set_ylabel(r'\\textbf{Selection Ratio}', fontsize=15, labelpad=15, rotation=270)\n",
    "\n",
    "plt.show()"
   ]
  },
  {
   "cell_type": "code",
   "execution_count": null,
   "metadata": {},
   "outputs": [],
   "source": [
    "a_srs = np.median((np.count_nonzero(a_est_tc, axis=2) / N).reshape((30, 30, -1)), axis=2)\n",
    "b_srs = np.median((np.count_nonzero(b_est_tc, axis=2) / M).reshape((30, 30, -1)), axis=2)"
   ]
  },
  {
   "cell_type": "code",
   "execution_count": null,
   "metadata": {},
   "outputs": [],
   "source": [
    "fig, axes = plt.subplots(1, 2, figsize=(6, 4), sharex=True, sharey=True)\n",
    "\n",
    "axes[0].imshow(a_srs, vmin=0, vmax=1)\n",
    "img = axes[1].imshow(b_srs, vmin=0, vmax=1)\n",
    "\n",
    "axes[0].set_xlabel(r'\\textbf{Tuning Penalty}', fontsize=16)\n",
    "axes[0].set_ylabel(r'\\textbf{Coupling Penalty}', fontsize=16)\n",
    "\n",
    "axes[0].set_xticks(ticks_tc)\n",
    "axes[1].set_yticks(ticks_tc)\n",
    "\n",
    "for ax in axes:\n",
    "    ax.set_xticklabels(xticklabels_tc, fontsize=12)\n",
    "    ax.set_yticklabels(yticklabels_tc, fontsize=12)\n",
    "    ax.scatter(best_ll_tc[1], best_ll_tc[0], color='red', marker='x')\n",
    "    ax.scatter(best_bic_tc[1], best_bic_tc[0], color='cyan', marker='x')\n",
    "\n",
    "axes[0].set_title(r'\\textbf{Coupling}', fontsize=18)\n",
    "axes[1].set_title(r'\\textbf{Target Tuning}', fontsize=18)\n",
    "\n",
    "[[x0, y0], [x1, y1]] = axes[1].get_position().get_points()\n",
    "cax = fig.add_axes([x1 + 0.05 * (x1 - x0), y0, 0.05 * (x1 - x0), (y1 - y0)])\n",
    "cb = fig.colorbar(img, cax=cax)\n",
    "cb.ax.tick_params(labelsize=10)\n",
    "cb.ax.set_ylabel(r'\\textbf{Selection Ratio}', fontsize=15, labelpad=15, rotation=270)\n",
    "plt.savefig('exp6_selection_ratio_tc.pdf', bbox_inches='tight')\n",
    "plt.show()"
   ]
  },
  {
   "cell_type": "markdown",
   "metadata": {},
   "source": [
    "# Selection Accuracy"
   ]
  },
  {
   "cell_type": "code",
   "execution_count": null,
   "metadata": {},
   "outputs": [],
   "source": [
    "b_mask = b_true != 0\n",
    "a_mask = a_true != 0\n",
    "B_mask = B_true != 0"
   ]
  },
  {
   "cell_type": "code",
   "execution_count": null,
   "metadata": {},
   "outputs": [],
   "source": [
    "a_est_masks_em = a_est_em != 0\n",
    "b_est_masks_em = b_est_em != 0\n",
    "B_est_masks = B_est != 0"
   ]
  },
  {
   "cell_type": "code",
   "execution_count": null,
   "metadata": {},
   "outputs": [],
   "source": [
    "a_norm_em = np.sum(a_est_masks_em, axis=2) + np.sum(a_mask)\n",
    "b_norm_em = np.sum(b_est_masks_em, axis=2) + np.sum(b_mask)\n",
    "B_norm_em = np.sum(B_est_masks, axis=(2, 3)) + np.sum(B_mask)"
   ]
  },
  {
   "cell_type": "code",
   "execution_count": null,
   "metadata": {},
   "outputs": [],
   "source": [
    "a_sa_em = np.median(1 - np.sum(a_est_masks_em != a_mask, axis=2) / a_norm_em, axis=1).reshape((30, 30))\n",
    "b_sa_em = np.median(1 - np.sum(b_est_masks_em != b_mask, axis=2) / b_norm_em, axis=1).reshape((30, 30))\n",
    "B_sa_em = np.median(1 - np.sum(B_est_masks != B_mask, axis=(2, 3)) / B_norm_em, axis=1).reshape((30, 30))"
   ]
  },
  {
   "cell_type": "code",
   "execution_count": null,
   "metadata": {},
   "outputs": [],
   "source": [
    "mean_sa_em = (a_sa_em + b_sa_em + B_sa_em) / 3"
   ]
  },
  {
   "cell_type": "code",
   "execution_count": null,
   "metadata": {},
   "outputs": [],
   "source": [
    "fig, axes = plt.subplots(1, 4, figsize=(14, 4), sharex=True, sharey=True)\n",
    "\n",
    "axes[0].imshow(a_sa_em, vmin=0, vmax=1)\n",
    "axes[1].imshow(b_sa_em, vmin=0, vmax=1)\n",
    "axes[2].imshow(B_sa_em, vmin=0, vmax=1)\n",
    "img = axes[3].imshow(mean_sa_em, vmin=0, vmax=1)\n",
    "\n",
    "axes[0].set_xlabel(r'\\textbf{Tuning Penalty}', fontsize=16)\n",
    "axes[0].set_ylabel(r'\\textbf{Coupling Penalty}', fontsize=16)\n",
    "\n",
    "\n",
    "for ax in axes:\n",
    "    ax.set_xticks(ticks_em)\n",
    "    ax.set_yticks(ticks_em)\n",
    "    ax.set_xticklabels(xticklabels_em, fontsize=12)\n",
    "    ax.set_yticklabels(yticklabels_em, fontsize=12)\n",
    "    ax.scatter(best_ll_em[1], best_ll_em[0], color='red', marker='x')\n",
    "    ax.scatter(best_bic_em[1], best_bic_em[0], color='cyan', marker='x')\n",
    "\n",
    "axes[0].set_title(r'\\textbf{Coupling}', fontsize=18)\n",
    "axes[1].set_title(r'\\textbf{Target Tuning}', fontsize=18)\n",
    "axes[2].set_title(r'\\textbf{Non-target Tuning}', fontsize=18)\n",
    "axes[3].set_title(r'\\textbf{Overall}', fontsize=18)\n",
    "\n",
    "[[x0, y0], [x1, y1]] = axes[3].get_position().get_points()\n",
    "cax = fig.add_axes([x1 + 0.05 * (x1 - x0), y0, 0.05 * (x1 - x0), (y1 - y0)])\n",
    "cb = fig.colorbar(img, cax=cax)\n",
    "cb.ax.tick_params(labelsize=10)\n",
    "cb.ax.set_ylabel(r'\\textbf{Selection Accuracy}', fontsize=15, labelpad=15, rotation=270)\n",
    "plt.savefig('exp6_selection_accuracy_em.pdf', bbox_inches='tight')\n",
    "\n",
    "plt.show()"
   ]
  },
  {
   "cell_type": "code",
   "execution_count": null,
   "metadata": {},
   "outputs": [],
   "source": [
    "a_est_masks_tc = a_est_tc != 0\n",
    "b_est_masks_tc = b_est_tc != 0\n",
    "\n",
    "a_norm_tc = np.sum(a_est_masks_tc, axis=2) + np.sum(a_mask)\n",
    "b_norm_tc = np.sum(b_est_masks_tc, axis=2) + np.sum(b_mask)\n",
    "\n",
    "a_sa_tc = np.median(1 - np.sum(a_est_masks_tc != a_mask, axis=2) / a_norm_tc, axis=1).reshape((30, 30))\n",
    "b_sa_tc = np.median(1 - np.sum(b_est_masks_tc != b_mask, axis=2) / b_norm_tc, axis=1).reshape((30, 30))\n",
    "mean_sa_tc = (a_sa_tc + b_sa_tc) / 2"
   ]
  },
  {
   "cell_type": "code",
   "execution_count": null,
   "metadata": {},
   "outputs": [],
   "source": [
    "fig, axes = plt.subplots(1, 3, figsize=(12, 4), sharex=True, sharey=True)\n",
    "\n",
    "axes[0].imshow(a_sa_tc, vmin=0, vmax=1)\n",
    "axes[1].imshow(b_sa_tc, vmin=0, vmax=1)\n",
    "img = axes[2].imshow(mean_sa_tc, vmin=0, vmax=1)\n",
    "\n",
    "axes[0].set_xlabel(r'\\textbf{Tuning Penalty}', fontsize=16)\n",
    "axes[0].set_ylabel(r'\\textbf{Coupling Penalty}', fontsize=16)\n",
    "\n",
    "\n",
    "for ax in axes:\n",
    "    ax.set_xticks(ticks_tc)\n",
    "    ax.set_yticks(ticks_tc)\n",
    "    ax.set_xticklabels(xticklabels_tc, fontsize=12)\n",
    "    ax.set_yticklabels(yticklabels_tc, fontsize=12)\n",
    "    ax.scatter(best_ll_tc[1], best_ll_tc[0], color='red', marker='x')\n",
    "    ax.scatter(best_bic_tc[1], best_bic_tc[0], color='cyan', marker='x')\n",
    "\n",
    "axes[0].set_title(r'\\textbf{Coupling}', fontsize=18)\n",
    "axes[1].set_title(r'\\textbf{Target Tuning}', fontsize=18)\n",
    "axes[2].set_title(r'\\textbf{Overall}', fontsize=18)\n",
    "\n",
    "[[x0, y0], [x1, y1]] = axes[2].get_position().get_points()\n",
    "cax = fig.add_axes([x1 + 0.05 * (x1 - x0), y0, 0.05 * (x1 - x0), (y1 - y0)])\n",
    "cb = fig.colorbar(img, cax=cax)\n",
    "cb.ax.tick_params(labelsize=10)\n",
    "cb.ax.set_ylabel(r'\\textbf{Selection Accuracy}', fontsize=15, labelpad=15, rotation=270)\n",
    "plt.savefig('exp6_selection_accuracy_tc.pdf', bbox_inches='tight')\n",
    "\n",
    "plt.show()"
   ]
  },
  {
   "cell_type": "markdown",
   "metadata": {},
   "source": [
    "# Bias "
   ]
  },
  {
   "cell_type": "code",
   "execution_count": null,
   "metadata": {},
   "outputs": [],
   "source": [
    "b_mask = b_true != 0\n",
    "a_mask = a_true != 0\n",
    "a_nz = a_true[a_mask]\n",
    "b_nz = b_true[b_mask]"
   ]
  },
  {
   "cell_type": "code",
   "execution_count": null,
   "metadata": {},
   "outputs": [],
   "source": [
    "a_bias_em = np.mean(np.median(a_est_em - a_true, axis=1).reshape((30, 30, -1)), axis=-1)\n",
    "b_bias_em = np.mean(np.median(b_est_em - b_true, axis=1).reshape((30, 30, -1)), axis=-1)\n",
    "B_bias_em = np.mean(np.median(B_est - B_true, axis=1).reshape((30, 30, 10, 10)), axis=(2, 3))"
   ]
  },
  {
   "cell_type": "code",
   "execution_count": null,
   "metadata": {},
   "outputs": [],
   "source": [
    "fig, axes = plt.subplots(1, 3, figsize=(12, 6), sharex=True, sharey=True)\n",
    "\n",
    "plt.subplots_adjust(wspace=0.5)\n",
    "\n",
    "ext_c = np.max(np.abs(a_bias_em))\n",
    "ext_t = np.max([np.abs(b_bias_em), np.abs(B_bias_em)])\n",
    "img1 = axes[0].imshow(a_bias_em, vmin=-ext_c, vmax=ext_c, cmap='RdGy')\n",
    "img2 = axes[1].imshow(b_bias_em, vmin=-ext_t, vmax=ext_t, cmap='RdGy')\n",
    "img3 = axes[2].imshow(B_bias_em, vmin=-ext_t, vmax=ext_t, cmap='RdGy')\n",
    "\n",
    "\n",
    "for ax in axes:\n",
    "    ax.set_xticks(ticks_em)\n",
    "    ax.set_yticks(ticks_em)\n",
    "    ax.set_xticklabels(xticklabels_em, fontsize=12)\n",
    "    ax.set_yticklabels(yticklabels_em, fontsize=12)\n",
    "    ax.scatter(best_ll_em[1], best_ll_em[0], color='red', marker='x')\n",
    "    ax.scatter(best_bic_em[1], best_bic_em[0], color='cyan', marker='x')\n",
    "    \n",
    "axes[0].set_title(r'\\textbf{Coupling}', fontsize=18)\n",
    "axes[1].set_title(r'\\textbf{Target Tuning}', fontsize=18)\n",
    "axes[2].set_title(r'\\textbf{Non-target Tuning}', fontsize=18)\n",
    "\n",
    "axes[0].set_xlabel(r'\\textbf{Tuning Penalty}', fontsize=16)\n",
    "axes[0].set_ylabel(r'\\textbf{Coupling Penalty}', fontsize=16)\n",
    "\n",
    "[[x0, y0], [x1, y1]] = axes[0].get_position().get_points()\n",
    "cax1 = fig.add_axes([x1 + 0.05 * (x1 - x0), y0, 0.05 * (x1 - x0), (y1 - y0)])\n",
    "cb = fig.colorbar(img1, cax=cax1)\n",
    "cb.ax.tick_params(labelsize=10)\n",
    "cb.ax.set_ylabel(r'\\textbf{Bias}', fontsize=15, labelpad=20, rotation=270)\n",
    "\n",
    "[[x0, y0], [x1, y1]] = axes[1].get_position().get_points()\n",
    "cax1 = fig.add_axes([x1 + 0.05 * (x1 - x0), y0, 0.05 * (x1 - x0), (y1 - y0)])\n",
    "cb = fig.colorbar(img2, cax=cax1)\n",
    "cb.ax.tick_params(labelsize=10)\n",
    "cb.ax.set_ylabel(r'\\textbf{Bias}', fontsize=15, labelpad=20, rotation=270)\n",
    "\n",
    "\n",
    "[[x0, y0], [x1, y1]] = axes[2].get_position().get_points()\n",
    "cax1 = fig.add_axes([x1 + 0.05 * (x1 - x0), y0, 0.05 * (x1 - x0), (y1 - y0)])\n",
    "cb = fig.colorbar(img3, cax=cax1)\n",
    "cb.ax.tick_params(labelsize=10)\n",
    "cb.ax.set_ylabel(r'\\textbf{Bias}', fontsize=15, labelpad=20, rotation=270)\n",
    "plt.savefig('exp6_bias_em.pdf', bbox_inches='tight')\n",
    "\n",
    "plt.show()"
   ]
  },
  {
   "cell_type": "code",
   "execution_count": null,
   "metadata": {},
   "outputs": [],
   "source": [
    "fig, axes = plt.subplots(1, 2, figsize=(12, 4))\n",
    "\n",
    "sorted_idx = np.argsort(a_true)\n",
    "axes[0].plot(\n",
    "    a_true[sorted_idx],\n",
    "    color='k',\n",
    "    marker='o',\n",
    "    linewidth=3)\n",
    "axes[0].plot(\n",
    "    np.median(a_est_em[np.argmax(mean_lls_em.ravel())], axis=0)[sorted_idx],\n",
    "    color='red',\n",
    "    marker='o',\n",
    "    linewidth=3,\n",
    "    alpha=0.5)\n",
    "axes[0].plot(\n",
    "    np.median(a_est_em[np.argmin(mean_bics_em.ravel())], axis=0)[sorted_idx],\n",
    "    color='cyan',\n",
    "    marker='o',\n",
    "    linewidth=3,\n",
    "    alpha=0.5)\n",
    "\n",
    "sorted_idx = np.argsort(b_true)\n",
    "axes[1].plot(\n",
    "    b_true[sorted_idx],\n",
    "    color='k',\n",
    "    marker='o',\n",
    "    linewidth=3)\n",
    "axes[1].plot(\n",
    "    np.median(b_est_em[np.argmax(mean_lls_em.ravel())], axis=0)[sorted_idx],\n",
    "    color='red',\n",
    "    marker='o',\n",
    "    linewidth=3,\n",
    "    alpha=0.5)\n",
    "axes[1].plot(\n",
    "    np.median(b_est_em[np.argmin(mean_bics_em.ravel())], axis=0)[sorted_idx],\n",
    "    color='cyan',\n",
    "    marker='o',\n",
    "    linewidth=3,\n",
    "    alpha=0.5)\n",
    "    \n",
    "for ax in axes:\n",
    "    ax.tick_params(labelsize=10)\n",
    "    ax.set_xticks([])\n",
    "    ax.axhline(0, linestyle='--', color='gray')\n",
    "    \n",
    "axes[0].set_ylim([-1, 1])\n",
    "axes[1].set_ylim([-2.5, 2.5])\n",
    "\n",
    "axes[0].set_ylabel(r'\\textbf{Coupling Parameters}', fontsize=15)\n",
    "axes[1].set_ylabel(r'\\textbf{Tuning Parameters}', fontsize=15)\n",
    "plt.savefig('exp6_examples_em.pdf', bbox_inches='tight')"
   ]
  },
  {
   "cell_type": "code",
   "execution_count": null,
   "metadata": {},
   "outputs": [],
   "source": [
    "a_bias_tc = np.mean(np.median(a_est_tc - a_true, axis=1).reshape((30, 30, -1)), axis=-1)\n",
    "b_bias_tc = np.mean(np.median(b_est_tc - b_true, axis=1).reshape((30, 30, -1)), axis=-1)"
   ]
  },
  {
   "cell_type": "code",
   "execution_count": null,
   "metadata": {},
   "outputs": [],
   "source": [
    "fig, axes = plt.subplots(1, 2, figsize=(12, 6), sharex=True, sharey=True)\n",
    "\n",
    "plt.subplots_adjust(wspace=0.5)\n",
    "\n",
    "ext_c = np.max(np.abs(a_bias_tc))\n",
    "ext_t = np.max(np.abs(b_bias_tc))\n",
    "img1 = axes[0].imshow(a_bias_tc, vmin=-ext_c, vmax=ext_c, cmap='RdGy')\n",
    "img2 = axes[1].imshow(b_bias_tc, vmin=-ext_t, vmax=ext_t, cmap='RdGy')\n",
    "\n",
    "for ax in axes:\n",
    "    ax.set_xticks(ticks_tc)\n",
    "    ax.set_yticks(ticks_tc)\n",
    "    ax.set_xticklabels(xticklabels_tc, fontsize=12)\n",
    "    ax.set_yticklabels(yticklabels_tc, fontsize=12)\n",
    "    ax.scatter(best_ll_tc[1], best_ll_tc[0], color='red', marker='x')\n",
    "    ax.scatter(best_bic_tc[1], best_bic_tc[0], color='cyan', marker='x')\n",
    "    \n",
    "axes[0].set_title(r'\\textbf{Coupling}', fontsize=18)\n",
    "axes[1].set_title(r'\\textbf{Target Tuning}', fontsize=18)\n",
    "\n",
    "axes[0].set_xlabel(r'\\textbf{Tuning Penalty}', fontsize=16)\n",
    "axes[0].set_ylabel(r'\\textbf{Coupling Penalty}', fontsize=16)\n",
    "\n",
    "[[x0, y0], [x1, y1]] = axes[0].get_position().get_points()\n",
    "cax1 = fig.add_axes([x1 + 0.05 * (x1 - x0), y0, 0.05 * (x1 - x0), (y1 - y0)])\n",
    "cb = fig.colorbar(img1, cax=cax1)\n",
    "cb.ax.tick_params(labelsize=10)\n",
    "cb.ax.set_ylabel(r'\\textbf{Bias}', fontsize=15, labelpad=20, rotation=270)\n",
    "\n",
    "[[x0, y0], [x1, y1]] = axes[1].get_position().get_points()\n",
    "cax1 = fig.add_axes([x1 + 0.05 * (x1 - x0), y0, 0.05 * (x1 - x0), (y1 - y0)])\n",
    "cb = fig.colorbar(img2, cax=cax1)\n",
    "cb.ax.tick_params(labelsize=10)\n",
    "cb.ax.set_ylabel(r'\\textbf{Bias}', fontsize=15, labelpad=20, rotation=270)\n",
    "plt.savefig('exp6_bias_tc.pdf', bbox_inches='tight')\n",
    "\n",
    "\n",
    "plt.show()"
   ]
  },
  {
   "cell_type": "code",
   "execution_count": null,
   "metadata": {},
   "outputs": [],
   "source": [
    "fig, axes = plt.subplots(1, 2, figsize=(12, 4))\n",
    "\n",
    "sorted_idx = np.argsort(a_true)\n",
    "axes[0].plot(\n",
    "    a_true[sorted_idx],\n",
    "    color='k',\n",
    "    marker='o',\n",
    "    linewidth=3)\n",
    "axes[0].plot(\n",
    "    np.median(a_est_tc[np.argmax(mean_lls_tc.ravel())], axis=0)[sorted_idx],\n",
    "    color='red',\n",
    "    marker='o',\n",
    "    linewidth=3,\n",
    "    alpha=0.5)\n",
    "axes[0].plot(\n",
    "    np.median(a_est_tc[np.argmin(mean_bics_tc.ravel())], axis=0)[sorted_idx],\n",
    "    color='cyan',\n",
    "    marker='o',\n",
    "    linewidth=3,\n",
    "    alpha=0.5)\n",
    "\n",
    "sorted_idx = np.argsort(b_true)\n",
    "axes[1].plot(\n",
    "    b_true[sorted_idx],\n",
    "    color='k',\n",
    "    marker='o',\n",
    "    linewidth=3)\n",
    "axes[1].plot(\n",
    "    np.median(b_est_tc[np.argmax(mean_lls_tc.ravel())], axis=0)[sorted_idx],\n",
    "    color='red',\n",
    "    marker='o',\n",
    "    linewidth=3,\n",
    "    alpha=0.5)\n",
    "axes[1].plot(\n",
    "    np.median(b_est_tc[np.argmin(mean_bics_tc.ravel())], axis=0)[sorted_idx],\n",
    "    color='cyan',\n",
    "    marker='o',\n",
    "    linewidth=3,\n",
    "    alpha=0.5)\n",
    "    \n",
    "for ax in axes:\n",
    "    ax.tick_params(labelsize=10)\n",
    "    ax.set_xticks([])\n",
    "    \n",
    "axes[0].set_ylim([-1, 1])\n",
    "axes[1].set_ylim([-2.5, 2.5])\n",
    "\n",
    "axes[0].set_ylabel(r'\\textbf{Coupling Parameters}', fontsize=15)\n",
    "axes[1].set_ylabel(r'\\textbf{Tuning Parameters}', fontsize=15)\n",
    "plt.savefig('exp6_examples_tc.pdf', bbox_inches='tight')"
   ]
  },
  {
   "cell_type": "code",
   "execution_count": null,
   "metadata": {},
   "outputs": [],
   "source": []
  }
 ],
 "metadata": {
  "kernelspec": {
   "display_name": "neuro",
   "language": "python",
   "name": "neuro"
  },
  "language_info": {
   "codemirror_mode": {
    "name": "ipython",
    "version": 3
   },
   "file_extension": ".py",
   "mimetype": "text/x-python",
   "name": "python",
   "nbconvert_exporter": "python",
   "pygments_lexer": "ipython3",
   "version": "3.7.9"
  }
 },
 "nbformat": 4,
 "nbformat_minor": 4
}
