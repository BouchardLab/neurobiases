{
 "cells": [
  {
   "cell_type": "code",
   "execution_count": null,
   "id": "dd45c604-4b30-4526-af11-f51526d2e9fb",
   "metadata": {},
   "outputs": [],
   "source": [
    "import matplotlib.pyplot as plt\n",
    "import numpy as np\n",
    "import scipy\n",
    "\n",
    "from importlib import reload\n",
    "from matplotlib import rc\n",
    "from neurobiases import EMSolver, TriangularModel\n",
    "%matplotlib inline"
   ]
  },
  {
   "cell_type": "code",
   "execution_count": null,
   "id": "9b0dda3e-afb9-407f-bc80-04ef5e83ba7d",
   "metadata": {},
   "outputs": [],
   "source": [
    "K = 1"
   ]
  },
  {
   "cell_type": "code",
   "execution_count": null,
   "id": "2da3abc5-34a7-41e8-ba4f-302d993c0edd",
   "metadata": {},
   "outputs": [],
   "source": [
    "# Create triangular model and draw data\n",
    "tm = TriangularModel(\n",
    "    model='linear',\n",
    "    parameter_design='direct_response',\n",
    "    M=10,\n",
    "    N=10,\n",
    "    K=K,\n",
    "    corr_cluster=0.25,\n",
    "    corr_back=0.1,\n",
    "    coupling_distribution='gaussian',\n",
    "    coupling_sparsity=0.5,\n",
    "    coupling_loc=0,\n",
    "    coupling_scale=0.25,\n",
    "    coupling_rng=2332,\n",
    "    tuning_distribution='gaussian',\n",
    "    tuning_sparsity=0.5,\n",
    "    tuning_loc=0,\n",
    "    tuning_scale=0.25,\n",
    "    tuning_rng=23456542,\n",
    "    stim_distribution='uniform')\n",
    "X, Y, y = tm.generate_samples(n_samples=2000, rng=2332)"
   ]
  },
  {
   "cell_type": "markdown",
   "id": "0b520638-4f94-49ca-92e6-4be0f919921d",
   "metadata": {
    "tags": []
   },
   "source": [
    "## Curvature along identifiability family (sparse)"
   ]
  },
  {
   "cell_type": "code",
   "execution_count": null,
   "id": "c71dc177-7469-4c90-b065-6ab0ddcad332",
   "metadata": {},
   "outputs": [],
   "source": [
    "# Run sparse solver\n",
    "solver = EMSolver(\n",
    "    X, Y, y, K=K,\n",
    "    solver='ow_lbfgs',\n",
    "    max_iter=1000,\n",
    "    a_mask=tm.a.ravel() != 0,\n",
    "    b_mask=tm.b.ravel() != 0,\n",
    "    tol=1e-7,\n",
    "    penalize_B=False,\n",
    "    rng=948512,\n",
    "    fit_intercept=False,\n",
    "    initialization='random').fit_em()"
   ]
  },
  {
   "cell_type": "code",
   "execution_count": null,
   "id": "73f806ee-e8bf-43ab-b784-f6fd2bb8d791",
   "metadata": {},
   "outputs": [],
   "source": [
    "hessian = solver.marginal_likelihood_hessian(mask='L', wrt_Psi=True)\n",
    "eigs = np.linalg.eigvalsh(hessian)"
   ]
  },
  {
   "cell_type": "code",
   "execution_count": null,
   "id": "58b48b81-ec09-4efa-8313-b297ac04b286",
   "metadata": {},
   "outputs": [],
   "source": [
    "eigs_tr = []\n",
    "deltas = np.linspace(-0.31, 0.20, 20)\n",
    "\n",
    "for delta in deltas:\n",
    "    print(delta)\n",
    "    copy = solver.copy()\n",
    "    copy.identifiability_transform(delta)\n",
    "    hessian_copy = copy.marginal_likelihood_hessian(mask='L')\n",
    "    eigs_tr.append(np.linalg.eigvalsh(hessian_copy))"
   ]
  },
  {
   "cell_type": "code",
   "execution_count": null,
   "id": "c93bb4ae-d531-44fa-88e7-6772cc1c5d5d",
   "metadata": {},
   "outputs": [],
   "source": [
    "plt.hist([np.median(eig) for eig in eigs_tr])\n",
    "plt.axvline(np.median(eigs), color='k')"
   ]
  },
  {
   "cell_type": "code",
   "execution_count": null,
   "id": "c43b0df5-5ea0-4b24-9447-6b203a8fa8e5",
   "metadata": {},
   "outputs": [],
   "source": [
    "[plt.plot(eig) for eig in eigs_tr]\n",
    "plt.yscale('log')\n",
    "plt.plot(eigs, color='k', linewidth=3)"
   ]
  },
  {
   "cell_type": "markdown",
   "id": "9a9c4786-fefd-49c4-a29c-cdfe0a587132",
   "metadata": {
    "tags": []
   },
   "source": [
    "## Curvature along identifiability family (sparse)"
   ]
  },
  {
   "cell_type": "code",
   "execution_count": null,
   "id": "06be399f-ff80-426f-b622-6b177d0ff15a",
   "metadata": {},
   "outputs": [],
   "source": [
    "# Run sparse solver\n",
    "solver = EMSolver(\n",
    "    X, Y, y, K=K,\n",
    "    solver='ow_lbfgs',\n",
    "    max_iter=1000,\n",
    "    tol=1e-7,\n",
    "    penalize_B=False,\n",
    "    rng=94822,\n",
    "    fit_intercept=False,\n",
    "    initialization='random').fit_em()"
   ]
  },
  {
   "cell_type": "code",
   "execution_count": null,
   "id": "f0eaf730-87d2-4803-afb4-08d28e5490ed",
   "metadata": {},
   "outputs": [],
   "source": [
    "hessian = solver.marginal_likelihood_hessian(mask=True, wrt_Psi=True)\n",
    "eig_vecs = np.zeros((20, hessian.shape[0], hessian.shape[1]))\n",
    "eigs = np.linalg.eigvalsh(hessian)"
   ]
  },
  {
   "cell_type": "code",
   "execution_count": null,
   "id": "80402211-8f0a-4246-8a45-7619e80ed9fb",
   "metadata": {},
   "outputs": [],
   "source": [
    "eigs_tr = []\n",
    "deltas = np.linspace(-0.25, 0.25, 20)\n",
    "\n",
    "for idx, delta in enumerate(deltas):\n",
    "    print(delta)\n",
    "    copy = solver.copy()\n",
    "    copy.identifiability_transform(delta)\n",
    "    hessian_copy = copy.marginal_likelihood_hessian(mask=True)\n",
    "    eig_vecs[idx] = np.linalg.eigh(hessian_copy)[1]\n",
    "    eigs_tr.append(np.linalg.eigvalsh(hessian_copy))"
   ]
  },
  {
   "cell_type": "code",
   "execution_count": null,
   "id": "32960f9b-48bc-4e08-a2fc-34276213fc2e",
   "metadata": {},
   "outputs": [],
   "source": [
    "plt.hist([np.median(eig) for eig in eigs_tr])\n",
    "plt.axvline(np.median(eigs), color='k')"
   ]
  },
  {
   "cell_type": "code",
   "execution_count": null,
   "id": "abf3c0ca-7681-4e11-8cb1-f26375d0a950",
   "metadata": {},
   "outputs": [],
   "source": [
    "[plt.plot(eig) for eig in eigs_tr]\n",
    "plt.yscale('log')\n",
    "plt.plot(eigs, color='k', linewidth=3)"
   ]
  }
 ],
 "metadata": {
  "kernelspec": {
   "display_name": "neuro",
   "language": "python",
   "name": "neuro"
  },
  "language_info": {
   "codemirror_mode": {
    "name": "ipython",
    "version": 3
   },
   "file_extension": ".py",
   "mimetype": "text/x-python",
   "name": "python",
   "nbconvert_exporter": "python",
   "pygments_lexer": "ipython3",
   "version": "3.7.9"
  }
 },
 "nbformat": 4,
 "nbformat_minor": 5
}
