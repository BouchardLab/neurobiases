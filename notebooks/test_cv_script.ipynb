{
 "cells": [
  {
   "cell_type": "code",
   "execution_count": 1,
   "metadata": {},
   "outputs": [],
   "source": [
    "import h5py\n",
    "import matplotlib.pyplot as plt\n",
    "import numpy as np\n",
    "\n",
    "from neurobiases import (TriangularModel,\n",
    "                         EMSolver,\n",
    "                         TCSolver,\n",
    "                         solver_utils,\n",
    "                         plot)\n",
    "from sklearn.model_selection import check_cv\n",
    "\n",
    "%matplotlib inline"
   ]
  },
  {
   "cell_type": "code",
   "execution_count": 2,
   "metadata": {},
   "outputs": [],
   "source": [
    "files = ['em_oracle.h5', 'tc_oracle.h5']"
   ]
  },
  {
   "cell_type": "code",
   "execution_count": 3,
   "metadata": {},
   "outputs": [],
   "source": [
    "results = [h5py.File(file, 'r') for file in files]"
   ]
  },
  {
   "cell_type": "code",
   "execution_count": 4,
   "metadata": {},
   "outputs": [
    {
     "name": "stdout",
     "output_type": "stream",
     "text": [
      "em_oracle.h5\n",
      "['B_est', 'B_true', 'L_est', 'L_true', 'Psi_est', 'Psi_true', 'a_est', 'a_true', 'b_est', 'b_true', 'bics', 'coupling_lambdas', 'coupling_locs', 'coupling_rngs', 'dataset_rngs', 'mlls', 'shape_key', 'tuning_lambdas', 'tuning_locs', 'tuning_rngs']\n",
      "---\n",
      "tc_oracle.h5\n",
      "['B_true', 'L_true', 'Psi', 'a_est', 'a_true', 'b_est', 'b_true', 'bics', 'coupling_lambdas', 'coupling_locs', 'coupling_rngs', 'dataset_rngs', 'mses', 'shape_key', 'tuning_lambdas', 'tuning_locs', 'tuning_rngs']\n",
      "---\n"
     ]
    }
   ],
   "source": [
    "# Print out entries in H5 files\n",
    "for file, result in zip(files, results):\n",
    "    print(file)\n",
    "    print(list(result))\n",
    "    print('---')"
   ]
  },
  {
   "cell_type": "code",
   "execution_count": 5,
   "metadata": {},
   "outputs": [
    {
     "name": "stdout",
     "output_type": "stream",
     "text": [
      "em_oracle.h5\n",
      "['tuning_loc' 'coupling_loc' 'model_idx' 'dataset_idx' 'split_idx']\n",
      "---\n",
      "tc_oracle.h5\n",
      "['tuning_loc' 'coupling_loc' 'model_idx' 'dataset_idx' 'split_idx']\n",
      "---\n"
     ]
    }
   ],
   "source": [
    "# Print out shape keys\n",
    "for file, result in zip(files, results):\n",
    "    print(file)\n",
    "    print(result['shape_key'][:])\n",
    "    print('---')"
   ]
  },
  {
   "cell_type": "code",
   "execution_count": 6,
   "metadata": {},
   "outputs": [
    {
     "name": "stdout",
     "output_type": "stream",
     "text": [
      "em_oracle.h5\n",
      "1234\n",
      "2345\n",
      "3456\n",
      "4567\n",
      "---\n",
      "tc_oracle.h5\n",
      "1234\n",
      "2345\n",
      "3456\n",
      "4567\n",
      "---\n"
     ]
    }
   ],
   "source": [
    "# Print out seeds\n",
    "for file, result in zip(files, results):\n",
    "    print(file)\n",
    "    print(result.attrs['coupling_rng'])\n",
    "    print(result.attrs['tuning_rng'])\n",
    "    print(result.attrs['dataset_rng'])\n",
    "    print(result.attrs['fitter_rng'])\n",
    "    print('---')"
   ]
  },
  {
   "cell_type": "code",
   "execution_count": 8,
   "metadata": {},
   "outputs": [
    {
     "name": "stdout",
     "output_type": "stream",
     "text": [
      "em_oracle.h5\n",
      "[4206279609 4194893554]\n",
      "[ 478333422 2172486199]\n",
      "[3823197773 1990415756]\n",
      "---\n",
      "tc_oracle.h5\n",
      "[4206279609 4194893554]\n",
      "[ 478333422 2172486199]\n",
      "[3823197773 1990415756]\n",
      "---\n"
     ]
    }
   ],
   "source": [
    "# Print out actual seeds for generating parameters/data\n",
    "for file, result in zip(files, results):\n",
    "    print(file)\n",
    "    print(result['coupling_rngs'][:])\n",
    "    print(result['tuning_rngs'][:])\n",
    "    print(result['dataset_rngs'][:])\n",
    "    print('---')"
   ]
  },
  {
   "cell_type": "code",
   "execution_count": 9,
   "metadata": {},
   "outputs": [
    {
     "name": "stdout",
     "output_type": "stream",
     "text": [
      "em_oracle.h5\n",
      "['tuning_loc' 'coupling_loc' 'model_idx' 'dataset_idx' 'split_idx']\n",
      "(2, 2, 2, 2, 2, 10)\n",
      "(2, 2, 2, 2, 2, 10)\n",
      "---\n",
      "tc_oracle.h5\n",
      "['tuning_loc' 'coupling_loc' 'model_idx' 'dataset_idx' 'split_idx']\n",
      "(2, 2, 2, 2, 2, 10)\n",
      "(2, 2, 2, 2, 2, 10)\n",
      "---\n"
     ]
    }
   ],
   "source": [
    "# Print out actual seeds for generating parameters/data\n",
    "for file, result in zip(files, results):\n",
    "    print(file)\n",
    "    print(result['shape_key'][:])\n",
    "    print(result['a_true'].shape)\n",
    "    print(result['b_true'].shape)\n",
    "    print('---')"
   ]
  },
  {
   "cell_type": "code",
   "execution_count": 10,
   "metadata": {},
   "outputs": [
    {
     "name": "stdout",
     "output_type": "stream",
     "text": [
      "em_oracle.h5\n",
      "[0.80838106 0.81751534 0.         0.33651402 0.96797874 1.10600455\n",
      " 0.         0.         0.         0.        ]\n",
      "[0.80838106 0.81751534 0.         0.33651402 0.96797874 1.10600455\n",
      " 0.         0.         0.         0.        ]\n",
      "[ 0.          0.          0.03748457  0.01899363 -0.46485895  0.28747416\n",
      " -0.11043689  0.          0.          0.        ]\n",
      "[ 0.          0.          0.03748457  0.01899363 -0.46485895  0.28747416\n",
      " -0.11043689  0.          0.          0.        ]\n",
      "---\n",
      "tc_oracle.h5\n",
      "[0.80838106 0.81751534 0.         0.33651402 0.96797874 1.10600455\n",
      " 0.         0.         0.         0.        ]\n",
      "[0.80838106 0.81751534 0.         0.33651402 0.96797874 1.10600455\n",
      " 0.         0.         0.         0.        ]\n",
      "[ 0.          0.          0.03748457  0.01899363 -0.46485895  0.28747416\n",
      " -0.11043689  0.          0.          0.        ]\n",
      "[ 0.          0.          0.03748457  0.01899363 -0.46485895  0.28747416\n",
      " -0.11043689  0.          0.          0.        ]\n",
      "---\n"
     ]
    }
   ],
   "source": [
    "# Print out actual seeds for generating parameters/data\n",
    "for file, result in zip(files, results):\n",
    "    print(file)\n",
    "    tm = TriangularModel(\n",
    "        model='linear',\n",
    "        parameter_design='direct_response',\n",
    "        M=result.attrs['M'],\n",
    "        N=result.attrs['N'],\n",
    "        K=result.attrs['K'],\n",
    "        corr_cluster=result.attrs['corr_cluster'],\n",
    "        corr_back=result.attrs['corr_back'],\n",
    "        coupling_distribution=result.attrs['coupling_distribution'],\n",
    "        coupling_sparsity=result.attrs['coupling_sparsity'],\n",
    "        coupling_loc=result['coupling_locs'][1],\n",
    "        coupling_scale=result.attrs['coupling_scale'],\n",
    "        coupling_rng=result['coupling_rngs'][1],\n",
    "        tuning_distribution=result.attrs['tuning_distribution'],\n",
    "        tuning_loc=result['tuning_locs'][0],\n",
    "        tuning_scale=result.attrs['tuning_scale'],\n",
    "        tuning_sparsity=result.attrs['tuning_sparsity'],\n",
    "        tuning_rng=result['tuning_rngs'][1]\n",
    "    )\n",
    "    print(tm.a.ravel())\n",
    "    print(result['a_true'][0, 1, 1, 0, 1])\n",
    "    print(tm.b.ravel())\n",
    "    print(result['b_true'][0, 1, 1, 0, 1])\n",
    "    print('---')\n"
   ]
  },
  {
   "cell_type": "code",
   "execution_count": null,
   "metadata": {},
   "outputs": [
    {
     "name": "stdout",
     "output_type": "stream",
     "text": [
      "em_oracle.h5\n"
     ]
    }
   ],
   "source": [
    "# Print out actual seeds for generating parameters/data\n",
    "for file, result in zip(files, results):\n",
    "    print(file)\n",
    "    tm = TriangularModel(\n",
    "        model='linear',\n",
    "        parameter_design='direct_response',\n",
    "        M=result.attrs['M'],\n",
    "        N=result.attrs['N'],\n",
    "        K=result.attrs['K'],\n",
    "        corr_cluster=result.attrs['corr_cluster'],\n",
    "        corr_back=result.attrs['corr_back'],\n",
    "        coupling_distribution=result.attrs['coupling_distribution'],\n",
    "        coupling_sparsity=result.attrs['coupling_sparsity'],\n",
    "        coupling_loc=result['coupling_locs'][1],\n",
    "        coupling_scale=result.attrs['coupling_scale'],\n",
    "        coupling_rng=result['coupling_rngs'][1],\n",
    "        tuning_distribution=result.attrs['tuning_distribution'],\n",
    "        tuning_loc=result['tuning_locs'][0],\n",
    "        tuning_scale=result.attrs['tuning_scale'],\n",
    "        tuning_sparsity=result.attrs['tuning_sparsity'],\n",
    "        tuning_rng=result['tuning_rngs'][1]\n",
    "    )\n",
    "    X, Y, y = tm.generate_samples(n_samples=result.attrs['D'], rng=result['dataset_rngs'][0])\n",
    "    cv = check_cv(2)\n",
    "\n",
    "    train_idx, test_idx = list(cv.split(X))[1]\n",
    "    X_train = X[train_idx]\n",
    "    Y_train = Y[train_idx]\n",
    "    y_train = y[train_idx]\n",
    "    X_test = X[test_idx]\n",
    "    Y_test = Y[test_idx]\n",
    "    y_test = y[test_idx]\n",
    "\n",
    "    if 'em' in file:\n",
    "        solver = EMSolver(\n",
    "            X=X_train,\n",
    "            Y=Y_train,\n",
    "            y=y_train,\n",
    "            K=1,\n",
    "            a_mask=result['a_true'][0, 1, 1, 0, 1] != 0,\n",
    "            b_mask=result['b_true'][0, 1, 1, 0, 1] != 0,\n",
    "            B_mask=result['B_true'][0, 1, 1, 0, 1] != 0,\n",
    "            c_coupling=0,\n",
    "            c_tuning=0,\n",
    "            tol=result.attrs['tol'],\n",
    "            max_iter=result.attrs['max_iter'],\n",
    "            initialization='fits',\n",
    "            solver='ow_lbfgs',\n",
    "            rng=result.attrs['fitter_rng']).fit_em(refit=False)\n",
    "        print(solver.a.ravel())\n",
    "        print(result['a_est'][0, 1, 1, 0, 1])\n",
    "        print(solver.b.ravel())\n",
    "        print(result['b_est'][0, 1, 1, 0, 1])\n",
    "    elif 'tc' in file:\n",
    "        solver = TCSolver(\n",
    "            X=X_train,\n",
    "            Y=Y_train,\n",
    "            y=y_train,\n",
    "            a_mask=result['a_true'][0, 1, 1, 0, 1] != 0,\n",
    "            b_mask=result['b_true'][0, 1, 1, 0, 1] != 0,\n",
    "            tol=result.attrs['tol'],\n",
    "            max_iter=result.attrs['max_iter'],\n",
    "            initialization='zeros',\n",
    "            solver='cd').fit_ols()\n",
    "        print(solver.a.ravel())\n",
    "        print(result['a_est'][0, 1, 1, 0, 1])\n",
    "        print(solver.b.ravel())\n",
    "        print(result['b_est'][0, 1, 1, 0, 1])\n"
   ]
  },
  {
   "cell_type": "code",
   "execution_count": null,
   "metadata": {},
   "outputs": [],
   "source": []
  }
 ],
 "metadata": {
  "kernelspec": {
   "display_name": "neuro",
   "language": "python",
   "name": "neuro"
  },
  "language_info": {
   "codemirror_mode": {
    "name": "ipython",
    "version": 3
   },
   "file_extension": ".py",
   "mimetype": "text/x-python",
   "name": "python",
   "nbconvert_exporter": "python",
   "pygments_lexer": "ipython3",
   "version": "3.7.9"
  }
 },
 "nbformat": 4,
 "nbformat_minor": 4
}
