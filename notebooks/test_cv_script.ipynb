{
 "cells": [
  {
   "cell_type": "code",
   "execution_count": 1,
   "metadata": {},
   "outputs": [],
   "source": [
    "import h5py\n",
    "import matplotlib.pyplot as plt\n",
    "import numpy as np\n",
    "\n",
    "from neurobiases import (TriangularModel,\n",
    "                         EMSolver,\n",
    "                         TCSolver,\n",
    "                         solver_utils,\n",
    "                         plot)\n",
    "from sklearn.model_selection import check_cv\n",
    "\n",
    "%matplotlib inline"
   ]
  },
  {
   "cell_type": "code",
   "execution_count": 2,
   "metadata": {},
   "outputs": [],
   "source": [
    "results = h5py.File('../em_oracle.h5', 'r')"
   ]
  },
  {
   "cell_type": "code",
   "execution_count": 3,
   "metadata": {},
   "outputs": [
    {
     "data": {
      "text/plain": [
       "['B',\n",
       " 'B_est',\n",
       " 'L',\n",
       " 'L_est',\n",
       " 'Psi',\n",
       " 'Psi_est',\n",
       " 'a',\n",
       " 'a_est',\n",
       " 'b',\n",
       " 'b_est',\n",
       " 'bics',\n",
       " 'coupling_lambdas',\n",
       " 'coupling_locs',\n",
       " 'coupling_rngs',\n",
       " 'dataset_rngs',\n",
       " 'mlls',\n",
       " 'shape_key',\n",
       " 'tuning_lambdas',\n",
       " 'tuning_locs',\n",
       " 'tuning_rngs']"
      ]
     },
     "execution_count": 3,
     "metadata": {},
     "output_type": "execute_result"
    }
   ],
   "source": [
    "list(results)"
   ]
  },
  {
   "cell_type": "code",
   "execution_count": 4,
   "metadata": {},
   "outputs": [
    {
     "name": "stdout",
     "output_type": "stream",
     "text": [
      "['B', 'B_est', 'L', 'L_est', 'Psi', 'Psi_est', 'a', 'a_est', 'b', 'b_est', 'bics', 'coupling_lambdas', 'coupling_locs', 'coupling_rngs', 'dataset_rngs', 'mlls', 'shape_key', 'tuning_lambdas', 'tuning_locs', 'tuning_rngs']\n",
      "['tuning_loc' 'coupling_loc' 'model_idx' 'dataset_idx' 'split_idx'\n",
      " 'coupling_lambda' 'tuning_lambda']\n"
     ]
    }
   ],
   "source": [
    "print(list(results))\n",
    "print(results['shape_key'][:])"
   ]
  },
  {
   "cell_type": "code",
   "execution_count": 5,
   "metadata": {},
   "outputs": [
    {
     "name": "stdout",
     "output_type": "stream",
     "text": [
      "[1949932628 3437779209]\n",
      "[  66316748 2930678936]\n",
      "[1274196501 2786552199]\n"
     ]
    }
   ],
   "source": [
    "print(results['tuning_rngs'][:])\n",
    "print(results['coupling_rngs'][:])\n",
    "print(results['dataset_rngs'][:])"
   ]
  },
  {
   "cell_type": "code",
   "execution_count": 30,
   "metadata": {},
   "outputs": [],
   "source": [
    "tm = TriangularModel(\n",
    "    model='linear',\n",
    "    parameter_design='direct_response',\n",
    "    M=results.attrs['M'],\n",
    "    N=results.attrs['N'],\n",
    "    K=results.attrs['K'],\n",
    "    corr_cluster=results.attrs['corr_cluster'],\n",
    "    corr_back=results.attrs['corr_back'],\n",
    "    coupling_distribution=results.attrs['coupling_distribution'],\n",
    "    coupling_sparsity=results.attrs['coupling_sparsity'],\n",
    "    coupling_loc=results['coupling_locs'][1],\n",
    "    coupling_scale=results.attrs['coupling_scale'],\n",
    "    coupling_rng=results['coupling_rngs'][1],\n",
    "    tuning_distribution=results.attrs['tuning_distribution'],\n",
    "    tuning_loc=results['tuning_locs'][0],\n",
    "    tuning_scale=results.attrs['tuning_scale'],\n",
    "    tuning_sparsity=results.attrs['tuning_sparsity'],\n",
    "    tuning_rng=results['tuning_rngs'][1]\n",
    ")"
   ]
  },
  {
   "cell_type": "code",
   "execution_count": 34,
   "metadata": {},
   "outputs": [
    {
     "data": {
      "text/plain": [
       "array(['tuning_loc', 'coupling_loc', 'model_idx', 'dataset_idx',\n",
       "       'split_idx', 'coupling_lambda', 'tuning_lambda'], dtype=object)"
      ]
     },
     "execution_count": 34,
     "metadata": {},
     "output_type": "execute_result"
    }
   ],
   "source": [
    "results['shape_key'][:]"
   ]
  },
  {
   "cell_type": "code",
   "execution_count": 31,
   "metadata": {},
   "outputs": [
    {
     "name": "stdout",
     "output_type": "stream",
     "text": [
      "[0.         0.         0.         3.25159523 4.13021651 2.14776041]\n",
      "[ 0.          0.          1.2064731  -1.05602344 -0.44346509 -0.92659889\n",
      "  0.          0.        ]\n"
     ]
    }
   ],
   "source": [
    "print(tm.a.ravel())\n",
    "print(tm.b.ravel())"
   ]
  },
  {
   "cell_type": "code",
   "execution_count": 36,
   "metadata": {},
   "outputs": [
    {
     "name": "stdout",
     "output_type": "stream",
     "text": [
      "[0.         0.         0.         3.25159523 4.13021651 2.14776041]\n",
      "[ 0.          0.          1.2064731  -1.05602344 -0.44346509 -0.92659889\n",
      "  0.          0.        ]\n"
     ]
    }
   ],
   "source": [
    "print(results['a'][0, 1, 1, 0, 1])\n",
    "print(results['b'][0, 1, 1, 0, 1])"
   ]
  },
  {
   "cell_type": "code",
   "execution_count": 37,
   "metadata": {},
   "outputs": [],
   "source": [
    "X, Y, y = tm.generate_samples(n_samples=results.attrs['D'], rng=results['dataset_rngs'][0])"
   ]
  },
  {
   "cell_type": "code",
   "execution_count": 38,
   "metadata": {},
   "outputs": [],
   "source": [
    "cv = check_cv(2)"
   ]
  },
  {
   "cell_type": "code",
   "execution_count": 39,
   "metadata": {},
   "outputs": [],
   "source": [
    "train_idx, test_idx = list(cv.split(X))[1]\n",
    "X_train = X[train_idx]\n",
    "Y_train = Y[train_idx]\n",
    "y_train = y[train_idx]\n",
    "X_test = X[test_idx]\n",
    "Y_test = Y[test_idx]\n",
    "y_test = y[test_idx]"
   ]
  },
  {
   "cell_type": "code",
   "execution_count": 40,
   "metadata": {},
   "outputs": [],
   "source": [
    "solver = TCSolver(\n",
    "    X=X_train,\n",
    "    Y=Y_train,\n",
    "    y=y_train,\n",
    "    c_coupling=0,\n",
    "    c_tuning=0,\n",
    "    tol=results.attrs['tol'],\n",
    "    max_iter=results.attrs['max_iter'],\n",
    "    initialization='random',\n",
    "    solver='cd').fit_lasso(refit=True)"
   ]
  },
  {
   "cell_type": "code",
   "execution_count": 42,
   "metadata": {},
   "outputs": [],
   "source": [
    "solver = EMSolver(\n",
    "    X=X_train,\n",
    "    Y=Y_train,\n",
    "    y=y_train,\n",
    "    K=1,\n",
    "    a_mask=results['a'][0, 1, 1, 0, 1]!= 0,\n",
    "    b_mask=results['b'][0, 1, 1, 0, 1]!= 0,\n",
    "    B_mask=results['B'][0, 1, 1, 0, 1] != 0,\n",
    "    c_coupling=0,\n",
    "    c_tuning=0,\n",
    "    tol=results.attrs['tol'],\n",
    "    max_iter=results.attrs['max_iter'],\n",
    "    initialization='fits',\n",
    "    solver='ow_lbfgs',\n",
    "    rng=456).fit_em(refit=False)"
   ]
  },
  {
   "cell_type": "code",
   "execution_count": 43,
   "metadata": {},
   "outputs": [
    {
     "name": "stdout",
     "output_type": "stream",
     "text": [
      "[ 0.          0.          0.          4.98010851 10.52384809  2.50885544]\n",
      "[ 0.          0.         -1.10369432 -2.05116481  0.86454204 -0.5368986\n",
      "  0.          0.        ]\n",
      "[ 1.46389437  0.71576336  0.          0.          0.          0.\n",
      " -0.13652049 -1.21438368 -0.14971124  0.          0.          0.\n",
      " -0.17992822  0.55721223  1.80435746  0.69166882  0.          0.\n",
      "  0.          0.78413344  0.42563803  1.64540932 -0.40375277  0.\n",
      "  0.          0.         -0.48606762 -0.09546449 -0.419451    0.\n",
      "  0.          0.          0.         -0.42182721  0.71817558 -1.30579091\n",
      "  0.          0.          0.          0.         -0.14552053  0.49797361\n",
      "  0.          0.          0.          0.          0.         -3.88688013]\n"
     ]
    }
   ],
   "source": [
    "print(solver.a.ravel())\n",
    "print(solver.b.ravel())\n",
    "print(solver.B.ravel())"
   ]
  },
  {
   "cell_type": "code",
   "execution_count": 44,
   "metadata": {},
   "outputs": [
    {
     "name": "stdout",
     "output_type": "stream",
     "text": [
      "[ 0.          0.          0.          4.98010851 10.52384809  2.50885544]\n",
      "[ 0.          0.         -1.10369432 -2.05116481  0.86454204 -0.5368986\n",
      "  0.          0.        ]\n",
      "[ 1.46389437  0.71576336  0.          0.          0.          0.\n",
      " -0.13652049 -1.21438368 -0.14971124  0.          0.          0.\n",
      " -0.17992822  0.55721223  1.80435746  0.69166882  0.          0.\n",
      "  0.          0.78413344  0.42563803  1.64540932 -0.40375277  0.\n",
      "  0.          0.         -0.48606762 -0.09546449 -0.419451    0.\n",
      "  0.          0.          0.         -0.42182721  0.71817558 -1.30579091\n",
      "  0.          0.          0.          0.         -0.14552053  0.49797361\n",
      "  0.          0.          0.          0.          0.         -3.88688013]\n"
     ]
    }
   ],
   "source": [
    "print(results['a_est'][0, 1, 1, 0, 1])\n",
    "print(results['b_est'][0, 1, 1, 0, 1])\n",
    "print(results['B_est'][0, 1, 1, 0, 1].ravel())"
   ]
  },
  {
   "cell_type": "code",
   "execution_count": 22,
   "metadata": {},
   "outputs": [
    {
     "data": {
      "text/plain": [
       "array(['tuning_loc', 'coupling_loc', 'model_idx', 'dataset_idx',\n",
       "       'split_idx', 'coupling_lambda', 'tuning_lambda'], dtype=object)"
      ]
     },
     "execution_count": 22,
     "metadata": {},
     "output_type": "execute_result"
    }
   ],
   "source": [
    "results['shape_key'][:]"
   ]
  },
  {
   "cell_type": "code",
   "execution_count": null,
   "metadata": {},
   "outputs": [],
   "source": []
  }
 ],
 "metadata": {
  "kernelspec": {
   "display_name": "neuro",
   "language": "python",
   "name": "neuro"
  },
  "language_info": {
   "codemirror_mode": {
    "name": "ipython",
    "version": 3
   },
   "file_extension": ".py",
   "mimetype": "text/x-python",
   "name": "python",
   "nbconvert_exporter": "python",
   "pygments_lexer": "ipython3",
   "version": "3.7.7"
  }
 },
 "nbformat": 4,
 "nbformat_minor": 4
}
