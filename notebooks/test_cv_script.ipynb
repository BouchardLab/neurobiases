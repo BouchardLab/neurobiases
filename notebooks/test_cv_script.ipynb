{
 "cells": [
  {
   "cell_type": "code",
   "execution_count": 36,
   "metadata": {},
   "outputs": [],
   "source": [
    "import matplotlib.pyplot as plt\n",
    "import numpy as np\n",
    "\n",
    "from importlib import reload\n",
    "from matplotlib import rc\n",
    "from neurobiases import (TriangularModel,\n",
    "                         EMSolver,\n",
    "                         TCSolver,\n",
    "                         solver_utils,\n",
    "                         plot)\n",
    "from sklearn.model_selection import check_cv\n",
    "\n",
    "%matplotlib inline"
   ]
  },
  {
   "cell_type": "code",
   "execution_count": 2,
   "metadata": {},
   "outputs": [],
   "source": [
    "results = np.load('../test.npz')"
   ]
  },
  {
   "cell_type": "code",
   "execution_count": 3,
   "metadata": {},
   "outputs": [
    {
     "data": {
      "text/plain": [
       "['coupling_random_states',\n",
       " 'tuning_random_states',\n",
       " 'dataset_random_states',\n",
       " 'mses',\n",
       " 'bics',\n",
       " 'a_true',\n",
       " 'a_est',\n",
       " 'b_true',\n",
       " 'b_est',\n",
       " 'B',\n",
       " 'Psi',\n",
       " 'L',\n",
       " 'coupling_locs',\n",
       " 'tuning_locs',\n",
       " 'coupling_lambdas',\n",
       " 'tuning_lambdas',\n",
       " 'N',\n",
       " 'M',\n",
       " 'K',\n",
       " 'D',\n",
       " 'coupling_distribution',\n",
       " 'coupling_sparsity',\n",
       " 'coupling_scale',\n",
       " 'tuning_distribution',\n",
       " 'tuning_sparsity',\n",
       " 'tuning_scale',\n",
       " 'corr_cluster',\n",
       " 'corr_back',\n",
       " 'n_datasets',\n",
       " 'n_models',\n",
       " 'shape_key']"
      ]
     },
     "execution_count": 3,
     "metadata": {},
     "output_type": "execute_result"
    }
   ],
   "source": [
    "list(results)"
   ]
  },
  {
   "cell_type": "code",
   "execution_count": 4,
   "metadata": {},
   "outputs": [
    {
     "data": {
      "text/plain": [
       "array(['tuning_loc', 'coupling_loc', 'model_idx', 'dataset_idx',\n",
       "       'split_idx', 'coupling_lambda', 'tuning_lambda'], dtype='<U15')"
      ]
     },
     "execution_count": 4,
     "metadata": {},
     "output_type": "execute_result"
    }
   ],
   "source": [
    "results['shape_key']"
   ]
  },
  {
   "cell_type": "code",
   "execution_count": 5,
   "metadata": {},
   "outputs": [
    {
     "data": {
      "text/plain": [
       "(2, 2, 2, 2, 2, 2, 2, 10)"
      ]
     },
     "execution_count": 5,
     "metadata": {},
     "output_type": "execute_result"
    }
   ],
   "source": [
    "results['a_true'].shape"
   ]
  },
  {
   "cell_type": "code",
   "execution_count": 6,
   "metadata": {},
   "outputs": [],
   "source": [
    "coupling_rng = np.random.default_rng(12092020)\n",
    "tuning_rng = np.random.default_rng(1231993)\n",
    "dataset_rng = np.random.default_rng(23332)"
   ]
  },
  {
   "cell_type": "code",
   "execution_count": 7,
   "metadata": {},
   "outputs": [
    {
     "name": "stdout",
     "output_type": "stream",
     "text": [
      "[3551129612 3893514943]\n",
      "[3551129612 3893514943]\n"
     ]
    }
   ],
   "source": [
    "print(coupling_rng.integers(low=0, high=2**32 - 1, size=2))\n",
    "print(results['coupling_random_states'])"
   ]
  },
  {
   "cell_type": "code",
   "execution_count": 8,
   "metadata": {},
   "outputs": [
    {
     "name": "stdout",
     "output_type": "stream",
     "text": [
      "[2576946247 1582465175]\n",
      "[2576946247 1582465175]\n"
     ]
    }
   ],
   "source": [
    "print(tuning_rng.integers(low=0, high=2**32 - 1, size=2))\n",
    "print(results['tuning_random_states'])"
   ]
  },
  {
   "cell_type": "code",
   "execution_count": 14,
   "metadata": {},
   "outputs": [
    {
     "data": {
      "text/plain": [
       "0.25"
      ]
     },
     "execution_count": 14,
     "metadata": {},
     "output_type": "execute_result"
    }
   ],
   "source": [
    "results['corr_cluster'].item()"
   ]
  },
  {
   "cell_type": "code",
   "execution_count": 32,
   "metadata": {},
   "outputs": [],
   "source": [
    "tm = TriangularModel(\n",
    "    model='linear',\n",
    "    parameter_design='direct_response',\n",
    "    M=results['M'],\n",
    "    N=results['N'],\n",
    "    K=results['K'],\n",
    "    corr_cluster=results['corr_cluster'].item(),\n",
    "    corr_back=results['corr_back'].item(),\n",
    "    coupling_distribution=str(results['coupling_distribution']),\n",
    "    coupling_sparsity=results['coupling_sparsity'].item(),\n",
    "    coupling_loc=results['coupling_locs'][0],\n",
    "    coupling_scale=results['coupling_scale'].item(),\n",
    "    coupling_sum=None,\n",
    "    coupling_random_state=results['coupling_random_states'][0],\n",
    "    tuning_distribution=str(results['tuning_distribution']),\n",
    "    tuning_loc=results['tuning_locs'][1],\n",
    "    tuning_scale=results['tuning_scale'].item(),\n",
    "    tuning_sparsity=results['tuning_sparsity'].item(),\n",
    "    tuning_random_state=results['tuning_random_states'][0]\n",
    ")"
   ]
  },
  {
   "cell_type": "code",
   "execution_count": 33,
   "metadata": {},
   "outputs": [
    {
     "name": "stdout",
     "output_type": "stream",
     "text": [
      "[ 0.         -1.80070927 -1.4239516  -2.25000536 -2.91930531 -2.86834318\n",
      "  0.          0.          0.          0.        ]\n",
      "[0.         0.         2.6186867  2.57596026 4.64939162 2.07196026\n",
      " 2.42118227 0.         0.         0.        ]\n"
     ]
    }
   ],
   "source": [
    "print(tm.a.ravel())\n",
    "print(tm.b.ravel())"
   ]
  },
  {
   "cell_type": "code",
   "execution_count": 34,
   "metadata": {},
   "outputs": [
    {
     "name": "stdout",
     "output_type": "stream",
     "text": [
      "[ 0.         -1.80070927 -1.4239516  -2.25000536 -2.91930531 -2.86834318\n",
      "  0.          0.          0.          0.        ]\n",
      "[0.         0.         2.6186867  2.57596026 4.64939162 2.07196026\n",
      " 2.42118227 0.         0.         0.        ]\n"
     ]
    }
   ],
   "source": [
    "print(results['a_true'][1, 0, 0, 0, 0, 0, 0])\n",
    "print(results['b_true'][1, 0, 0, 0, 0, 0, 0])"
   ]
  },
  {
   "cell_type": "code",
   "execution_count": 35,
   "metadata": {},
   "outputs": [],
   "source": [
    "X, Y, y = tm.generate_samples(n_samples=results['D'].item(),\n",
    "                              random_state=results['dataset_random_states'][0])"
   ]
  },
  {
   "cell_type": "code",
   "execution_count": 37,
   "metadata": {},
   "outputs": [],
   "source": [
    "cv = check_cv(2)"
   ]
  },
  {
   "cell_type": "code",
   "execution_count": 98,
   "metadata": {},
   "outputs": [],
   "source": [
    "train_idx, test_idx = list(cv.split(X))[0]\n",
    "X_train = X[train_idx]\n",
    "Y_train = Y[train_idx]\n",
    "y_train = y[train_idx]\n",
    "X_test = X[test_idx]\n",
    "Y_test = Y[test_idx]\n",
    "y_test = y[test_idx]"
   ]
  },
  {
   "cell_type": "code",
   "execution_count": 116,
   "metadata": {},
   "outputs": [],
   "source": [
    "solver = TCSolver(\n",
    "    X=X_train,\n",
    "    Y=Y_train,\n",
    "    y=y_train,\n",
    "    c_coupling=0.1,\n",
    "    c_tuning=results['tuning_lambdas'][0],\n",
    "    tol=1e-2,\n",
    "    max_iter=10000,\n",
    "    initialization='random',\n",
    "    solver='cd').fit_lasso(refit=True)"
   ]
  },
  {
   "cell_type": "code",
   "execution_count": 117,
   "metadata": {},
   "outputs": [
    {
     "name": "stdout",
     "output_type": "stream",
     "text": [
      "[ 1.13085924 -0.58069764 -1.39592524 -1.86943724 -2.5578471  -2.37845829\n",
      "  0.64239794  1.57579009  0.58078552  0.31223051]\n",
      "[ -7.16097661  -4.67339156 -10.56641833  -7.25169031  -5.16373909\n",
      "  -9.33391295 -12.13216904  -7.17084384  -8.43993944  -7.60431761]\n"
     ]
    }
   ],
   "source": [
    "print(solver.a.ravel())\n",
    "print(solver.b.ravel())"
   ]
  },
  {
   "cell_type": "code",
   "execution_count": 45,
   "metadata": {},
   "outputs": [
    {
     "name": "stdout",
     "output_type": "stream",
     "text": [
      "[ 0.51461096 -0.93911426 -1.79102391 -1.97371346 -1.76061942 -1.90530908\n",
      "  1.60415288  0.49371094  1.1979827   0.89633542]\n",
      "[ -2.0272286   -2.79858611  -6.35695577  -7.65301251  -3.59144671\n",
      " -12.65703412 -18.17689371 -14.18729573  -8.88213244  -8.32358116]\n"
     ]
    }
   ],
   "source": [
    "print(results['a_est'][1, 0, 0, 0, 1, 0, 0])\n",
    "print(results['b_est'][1, 0, 0, 0, 1, 0, 0])"
   ]
  },
  {
   "cell_type": "code",
   "execution_count": null,
   "metadata": {},
   "outputs": [],
   "source": []
  }
 ],
 "metadata": {
  "kernelspec": {
   "display_name": "neuro",
   "language": "python",
   "name": "neuro"
  },
  "language_info": {
   "codemirror_mode": {
    "name": "ipython",
    "version": 3
   },
   "file_extension": ".py",
   "mimetype": "text/x-python",
   "name": "python",
   "nbconvert_exporter": "python",
   "pygments_lexer": "ipython3",
   "version": "3.7.9"
  }
 },
 "nbformat": 4,
 "nbformat_minor": 4
}
