{
 "cells": [
  {
   "cell_type": "code",
   "execution_count": null,
   "metadata": {},
   "outputs": [],
   "source": [
    "import matplotlib.pyplot as plt\n",
    "import numpy as np\n",
    "import os\n",
    "\n",
    "%matplotlib inline"
   ]
  },
  {
   "cell_type": "code",
   "execution_count": null,
   "metadata": {},
   "outputs": [],
   "source": [
    "results_path = os.path.join(os.environ['HOME'], 'fits/neurobiases/tc_sweep.npz')"
   ]
  },
  {
   "cell_type": "code",
   "execution_count": null,
   "metadata": {},
   "outputs": [],
   "source": [
    "results = np.load(results_path)"
   ]
  },
  {
   "cell_type": "code",
   "execution_count": null,
   "metadata": {},
   "outputs": [],
   "source": [
    "a_trues = results['a_trues']\n",
    "b_trues = results['b_trues']\n",
    "a_hats = results['a_hats']\n",
    "b_hats = results['b_hats']"
   ]
  },
  {
   "cell_type": "code",
   "execution_count": null,
   "metadata": {},
   "outputs": [],
   "source": [
    "n_nz_a = np.unique(np.count_nonzero(a_trues, axis=-1)).item()\n",
    "n_nz_b = np.unique(np.count_nonzero(b_trues, axis=-1)).item()\n",
    "n_means, n_models, n_datasets = a_hats.shape[:-1]"
   ]
  },
  {
   "cell_type": "code",
   "execution_count": null,
   "metadata": {},
   "outputs": [],
   "source": [
    "a_trues_nz = np.zeros((n_means, n_models, n_nz_a))\n",
    "b_trues_nz = np.zeros((n_means, n_models, n_nz_b))\n",
    "a_bias = np.zeros((n_means, n_models, n_datasets, n_nz_a))\n",
    "b_bias = np.zeros((n_means, n_models, n_datasets, n_nz_b))\n",
    "a_bias_norm = np.zeros_like(a_bias)\n",
    "b_bias_norm = np.zeros_like(b_bias)"
   ]
  },
  {
   "cell_type": "code",
   "execution_count": null,
   "metadata": {},
   "outputs": [],
   "source": [
    "for mean_idx in range(n_means):\n",
    "    for model_idx in range(n_models):\n",
    "        current_a = a_trues[mean_idx, model_idx]\n",
    "        current_b = b_trues[mean_idx, model_idx]\n",
    "        a_trues_nz[mean_idx, model_idx] = current_a[current_a != 0]\n",
    "        b_trues_nz[mean_idx, model_idx] = current_b[current_b != 0]\n",
    "        for dataset_idx in range(n_datasets):\n",
    "            a_bias_temp = \\\n",
    "                a_hats[mean_idx, model_idx, dataset_idx][current_a != 0] - a_trues_nz[mean_idx, model_idx]\n",
    "            b_bias_temp = \\\n",
    "                b_hats[mean_idx, model_idx, dataset_idx][current_b != 0] - b_trues_nz[mean_idx, model_idx]\n",
    "            a_bias[mean_idx, model_idx, dataset_idx] = a_bias_temp\n",
    "            a_bias_norm[mean_idx, model_idx, dataset_idx] = a_bias_temp / np.abs(a_trues_nz[mean_idx, model_idx])\n",
    "            b_bias[mean_idx, model_idx, dataset_idx] = b_bias_temp\n",
    "            b_bias_norm[mean_idx, model_idx, dataset_idx] = b_bias_temp / np.abs(b_trues_nz[mean_idx, model_idx])"
   ]
  },
  {
   "cell_type": "code",
   "execution_count": null,
   "metadata": {},
   "outputs": [],
   "source": [
    "a_sums = np.sum(a_trues_nz, axis=-1)\n",
    "means = np.linspace(-3, 3, 30)"
   ]
  },
  {
   "cell_type": "code",
   "execution_count": null,
   "metadata": {},
   "outputs": [],
   "source": [
    "a_bias_med = np.median(np.mean(a_bias, axis=3), axis=2)\n",
    "b_bias_med = np.median(np.mean(b_bias, axis=3), axis=2)\n",
    "a_bias_avg = np.mean(a_bias_norm, axis=(2, 3))\n",
    "b_bias_avg = np.mean(b_bias_norm, axis=(2, 3))"
   ]
  },
  {
   "cell_type": "code",
   "execution_count": null,
   "metadata": {},
   "outputs": [],
   "source": [
    "fig, axes = plt.subplots(1, 2, figsize=(12, 4), sharex=True)\n",
    "\n",
    "axes[0].scatter(a_sums.ravel(), a_bias_med.ravel(),\n",
    "                alpha=0.5,\n",
    "                color='black')\n",
    "axes[1].scatter(a_sums.ravel(), b_bias_med.ravel(),\n",
    "                alpha=0.5,\n",
    "                color='black')\n",
    "\n",
    "for ax in axes:\n",
    "    ax.set_xlim([-20, 20])\n",
    "    ax.set_xlabel(r'\\textbf{Coupling Sum}', fontsize=16)\n",
    "    ax.tick_params(labelsize=14)\n",
    "    ax.axvline(0, color='red', linestyle='--')\n",
    "\n",
    "axes[0].set_ylim(bottom=0)\n",
    "axes[0].set_ylabel(r'\\textbf{Median Coupling Bias}', fontsize=16)\n",
    "axes[1].set_ylim(top=0)\n",
    "axes[1].set_ylabel(r'\\textbf{Median Tuning Bias}', fontsize=16)\n",
    "\n",
    "plt.tight_layout()"
   ]
  },
  {
   "cell_type": "code",
   "execution_count": null,
   "metadata": {},
   "outputs": [],
   "source": [
    "fig, axes = plt.subplots(1, 2, figsize=(12, 4), sharex=True)\n",
    "\n",
    "axes[0].scatter(a_sums.ravel(), a_bias_avg.ravel(),\n",
    "                alpha=0.5,\n",
    "                color='black')\n",
    "axes[1].scatter(a_sums.ravel(), b_bias_avg.ravel(),\n",
    "                alpha=0.5,\n",
    "                color='black')\n",
    "\n",
    "for ax in axes:\n",
    "    ax.set_xlim([-20, 20])\n",
    "    ax.set_xlabel(r'\\textbf{Coupling Sum}', fontsize=16)\n",
    "    ax.tick_params(labelsize=14)\n",
    "    ax.axvline(0, color='red', linestyle='--')\n",
    "\n",
    "axes[0].set_ylim(bottom=0, top=2)\n",
    "axes[0].set_ylabel(r'\\textbf{Mean Coupling Bias}', fontsize=16)\n",
    "axes[1].set_ylim(top=0)\n",
    "axes[1].set_ylabel(r'\\textbf{Mean Tuning Bias}', fontsize=16)\n",
    "\n",
    "plt.tight_layout()"
   ]
  },
  {
   "cell_type": "code",
   "execution_count": null,
   "metadata": {},
   "outputs": [],
   "source": [
    "fig, axes = plt.subplots(1, 2, figsize=(12, 4), sharex=True)\n",
    "\n",
    "for model in range(n_models):\n",
    "    axes[0].scatter(means, a_bias_med[:, model],\n",
    "                    alpha=0.5,\n",
    "                    color='black')\n",
    "    axes[1].scatter(means, b_bias_med[:, model],\n",
    "                    alpha=0.5,\n",
    "                    color='black')\n",
    "\n",
    "for ax in axes:\n",
    "    ax.set_xlim([-3, 3])\n",
    "    ax.set_xlabel(r'\\textbf{Mean of Coupling Distribution}', fontsize=16)\n",
    "    ax.tick_params(labelsize=14)\n",
    "    ax.axvline(0, color='red', linestyle='--')\n",
    "\n",
    "axes[0].set_ylim(bottom=0)\n",
    "axes[0].set_ylabel(r'\\textbf{Median Coupling Bias}', fontsize=16)\n",
    "axes[1].set_ylim(top=0)\n",
    "axes[1].set_ylabel(r'\\textbf{Median Tuning Bias}', fontsize=16)\n",
    "\n",
    "plt.tight_layout()"
   ]
  },
  {
   "cell_type": "code",
   "execution_count": null,
   "metadata": {},
   "outputs": [],
   "source": [
    "fig, axes = plt.subplots(1, 2, figsize=(12, 4), sharex=True)\n",
    "\n",
    "for model in range(n_models):\n",
    "    axes[0].scatter(means, a_bias_avg[:, model],\n",
    "                    alpha=0.5,\n",
    "                    color='black')\n",
    "    axes[1].scatter(means, b_bias_avg[:, model],\n",
    "                    alpha=0.5,\n",
    "                    color='black')\n",
    "\n",
    "for ax in axes:\n",
    "    ax.set_xlim([-3, 3])\n",
    "    ax.set_xlabel(r'\\textbf{Coupling Sum}', fontsize=16)\n",
    "    ax.tick_params(labelsize=14)\n",
    "    ax.axvline(0, color='red', linestyle='--')\n",
    "\n",
    "axes[0].set_ylim(bottom=0, top=2)\n",
    "axes[0].set_ylabel(r'\\textbf{Mean of Coupling Distribution}', fontsize=16)\n",
    "axes[1].set_ylim(top=0)\n",
    "axes[1].set_ylabel(r'\\textbf{Median Tuning Bias}', fontsize=16)\n",
    "\n",
    "plt.tight_layout()"
   ]
  },
  {
   "cell_type": "code",
   "execution_count": null,
   "metadata": {},
   "outputs": [],
   "source": []
  }
 ],
 "metadata": {
  "kernelspec": {
   "display_name": "neuro",
   "language": "python",
   "name": "neuro"
  },
  "language_info": {
   "codemirror_mode": {
    "name": "ipython",
    "version": 3
   },
   "file_extension": ".py",
   "mimetype": "text/x-python",
   "name": "python",
   "nbconvert_exporter": "python",
   "pygments_lexer": "ipython3",
   "version": "3.7.9"
  }
 },
 "nbformat": 4,
 "nbformat_minor": 4
}
