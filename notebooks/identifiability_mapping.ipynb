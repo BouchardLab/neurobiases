{
 "cells": [
  {
   "cell_type": "code",
   "execution_count": null,
   "id": "5e23d7bc-f60e-4b48-ac2b-e27651c56ca7",
   "metadata": {},
   "outputs": [],
   "source": [
    "import matplotlib.pyplot as plt\n",
    "import numpy as np\n",
    "import scipy\n",
    "\n",
    "from importlib import reload\n",
    "from matplotlib import rc\n",
    "from neurobiases import EMSolver, TriangularModel\n",
    "from sklearn.decomposition import PCA\n",
    "%matplotlib inline"
   ]
  },
  {
   "cell_type": "code",
   "execution_count": null,
   "id": "e36be0a7-6b0f-4d9d-978a-aaf5aeef442c",
   "metadata": {},
   "outputs": [],
   "source": [
    "K = 1"
   ]
  },
  {
   "cell_type": "code",
   "execution_count": null,
   "id": "6e542e89-2fd2-4c64-86bc-f49b5dc68d80",
   "metadata": {},
   "outputs": [],
   "source": [
    "# Create triangular model and draw data\n",
    "tm = TriangularModel(\n",
    "    model='linear',\n",
    "    parameter_design='direct_response',\n",
    "    M=10,\n",
    "    N=10,\n",
    "    K=K,\n",
    "    corr_cluster=0.05,\n",
    "    corr_back=0.,\n",
    "    coupling_distribution='gaussian',\n",
    "    coupling_sparsity=0.5,\n",
    "    coupling_loc=0,\n",
    "    coupling_scale=0.25,\n",
    "    coupling_rng=2332,\n",
    "    tuning_distribution='gaussian',\n",
    "    tuning_sparsity=0.5,\n",
    "    tuning_loc=0,\n",
    "    tuning_scale=0.25,\n",
    "    tuning_rng=23456542,\n",
    "    stim_distribution='uniform')\n",
    "X, Y, y = tm.generate_samples(n_samples=2000, rng=2332)"
   ]
  },
  {
   "cell_type": "markdown",
   "id": "4ec13e5c-16f9-4f55-8467-407d6c6776aa",
   "metadata": {},
   "source": [
    "# No transform, only bounds"
   ]
  },
  {
   "cell_type": "code",
   "execution_count": null,
   "id": "2bbceacf-e0ec-4d95-b365-a931ab31fc68",
   "metadata": {},
   "outputs": [],
   "source": [
    "# Run sparse solver\n",
    "solver = EMSolver(\n",
    "    X, Y, y, K=K,\n",
    "    solver='scipy_lbfgs',\n",
    "    max_iter=1000,\n",
    "    tol=1e-7,\n",
    "    penalize_B=False,\n",
    "    rng=948512,\n",
    "    fit_intercept=False,\n",
    "    Psi_transform=None,\n",
    "    initialization='random')"
   ]
  },
  {
   "cell_type": "code",
   "execution_count": null,
   "id": "42559396-ec36-4458-800e-9f661efa8faa",
   "metadata": {},
   "outputs": [],
   "source": [
    "n_deltas = 21\n",
    "deltas_init = np.linspace(-1., 1., n_deltas)\n",
    "\n",
    "for idx, delta in enumerate(deltas_init):\n",
    "    copy = solver.copy()\n",
    "    copy.identifiability_transform(delta)\n",
    "    print(copy.Psi_tr[0])"
   ]
  },
  {
   "cell_type": "code",
   "execution_count": null,
   "id": "ed8b6e36-28b6-4a64-b2d9-4b180c7db4d2",
   "metadata": {},
   "outputs": [],
   "source": [
    "init_copy = solver.copy()\n",
    "solver.fit_em()\n",
    "fit_copy = solver.copy()"
   ]
  },
  {
   "cell_type": "code",
   "execution_count": null,
   "id": "f374e883-b92a-4714-af8d-3bf324b37f5c",
   "metadata": {},
   "outputs": [],
   "source": [
    "init_params = np.zeros((n_deltas, solver.get_params().size))\n",
    "\n",
    "for idx, delta in enumerate(deltas_init):\n",
    "    print(idx)\n",
    "    copy = init_copy.copy()\n",
    "    copy.identifiability_transform(delta)\n",
    "    init_params[idx] = copy.get_params(return_Psi=True)"
   ]
  },
  {
   "cell_type": "code",
   "execution_count": null,
   "id": "15eb8573-0931-4163-a045-ab588671bed4",
   "metadata": {},
   "outputs": [],
   "source": [
    "deltas_fit = np.linspace(-0.17, 0.17, n_deltas)\n",
    "\n",
    "for idx, delta in enumerate(deltas_fit):\n",
    "    copy = solver.copy()\n",
    "    copy.identifiability_transform(delta)\n",
    "    print(copy.Psi_tr[0])"
   ]
  },
  {
   "cell_type": "code",
   "execution_count": null,
   "id": "795d5b1b-5214-433d-a6e0-f9d19d101bb5",
   "metadata": {},
   "outputs": [],
   "source": [
    "fit_ident_params = np.zeros((n_deltas, solver.get_params().size))\n",
    "\n",
    "for idx, delta in enumerate(deltas_fit):\n",
    "    copy = fit_copy.copy()\n",
    "    copy.identifiability_transform(delta)\n",
    "    fit_ident_params[idx] = copy.get_params(return_Psi=True)"
   ]
  },
  {
   "cell_type": "code",
   "execution_count": null,
   "id": "ed493fea-fdd1-4a74-a582-0b732c571925",
   "metadata": {},
   "outputs": [],
   "source": [
    "fit_params = np.zeros((n_deltas, solver.get_params().size))\n",
    "\n",
    "for idx, delta in enumerate(deltas_init):\n",
    "    print(idx)\n",
    "    copy = init_copy.copy()\n",
    "    copy.identifiability_transform(delta)\n",
    "    copy.fit_em()\n",
    "    fit_params[idx] = copy.get_params(return_Psi=True)"
   ]
  },
  {
   "cell_type": "code",
   "execution_count": null,
   "id": "6b8f7fa1-be14-4746-9327-03c0e9343d3d",
   "metadata": {},
   "outputs": [],
   "source": [
    "pca = PCA(2)\n",
    "init_transformed = pca.fit_transform(init_params)\n",
    "fit_params_init_transformed = pca.transform(fit_params)\n",
    "fit_params_ident_init_transformed = pca.transform(fit_ident_params)\n",
    "\n",
    "fig, ax = plt.subplots(1, 1, figsize=(10, 10))\n",
    "ax.plot(init_transformed[:, 0], init_transformed[:, 1], marker='o', color='black')\n",
    "ax.plot(fit_params_init_transformed[:, 0], fit_params_init_transformed[:, 1], color='red')\n",
    "ax.plot(fit_params_ident_init_transformed[:, 0], fit_params_ident_init_transformed[:, 1],\n",
    "        color='green')"
   ]
  },
  {
   "cell_type": "code",
   "execution_count": null,
   "id": "8bcac031-3cc3-4296-b5e8-4a5615782dc4",
   "metadata": {},
   "outputs": [],
   "source": [
    "fig, ax = plt.subplots(1, 1, figsize=(10, 10))\n",
    "ax.plot(fit_params_init_transformed[:, 0], fit_params_init_transformed[:, 1], color='red')\n",
    "#ax.plot(fit_params_ident_init_transformed[:, 0], fit_params_ident_init_transformed[:, 1],\n",
    "#        color='green')"
   ]
  },
  {
   "cell_type": "code",
   "execution_count": null,
   "id": "a502c757-a956-4c00-9fef-0c27b7f269a0",
   "metadata": {},
   "outputs": [],
   "source": [
    "pca = PCA(2)\n",
    "fit_ident_transformed = pca.fit_transform(fit_ident_params)\n",
    "fit_transformed = pca.transform(fit_params)"
   ]
  },
  {
   "cell_type": "code",
   "execution_count": null,
   "id": "54b95eb5-df40-4ae5-95b9-ef615509eb3d",
   "metadata": {},
   "outputs": [],
   "source": [
    "plt.plot(pca.components_[0][:10])"
   ]
  },
  {
   "cell_type": "code",
   "execution_count": null,
   "id": "8241520c-4c3a-4e05-a051-6d38eed8ea6f",
   "metadata": {},
   "outputs": [],
   "source": [
    "plt.plot(fit_transformed[:, 0], deltas_init)"
   ]
  },
  {
   "cell_type": "code",
   "execution_count": null,
   "id": "b2f09dc2-ffc0-4e4b-a417-e8d836ff7906",
   "metadata": {},
   "outputs": [],
   "source": [
    "pca.components_[0, 10 + 10 + 10 * 10 + 11]"
   ]
  },
  {
   "cell_type": "code",
   "execution_count": null,
   "id": "52dfd97b-bd80-4653-bef9-17c1350dd858",
   "metadata": {},
   "outputs": [],
   "source": [
    "for i in range(10):\n",
    "    plt.plot(fit_transformed[:, 0], fit_params[:, i])\n",
    "    \n",
    "plt.xlabel('PCA projection')\n",
    "plt.ylabel('coupling parameter fit value')"
   ]
  },
  {
   "cell_type": "code",
   "execution_count": null,
   "id": "3b819a3a-1702-4393-898a-7d7cc42e7c55",
   "metadata": {},
   "outputs": [],
   "source": [
    "plt.plot(deltas_init, fit_params[:, 8])"
   ]
  },
  {
   "cell_type": "code",
   "execution_count": null,
   "id": "f861f9d6-bbb8-4a72-a91b-35df0a89ab15",
   "metadata": {},
   "outputs": [],
   "source": [
    "plt.plot(fit_transformed[:, 0], fit_params[:, 10 + 10 + 10 * 10], marker='o')"
   ]
  },
  {
   "cell_type": "code",
   "execution_count": null,
   "id": "d8cf9c70-7dc4-4043-a7bd-8a2e09b2ff94",
   "metadata": {},
   "outputs": [],
   "source": [
    "plt.plot(pca.components_[0])"
   ]
  },
  {
   "cell_type": "code",
   "execution_count": null,
   "id": "b44379c3-fdf9-4b67-9412-cb7bea543309",
   "metadata": {},
   "outputs": [],
   "source": [
    "pca.components_.shape"
   ]
  },
  {
   "cell_type": "code",
   "execution_count": null,
   "id": "3c83386b-c5a3-4e68-a1c6-4640808a9d0d",
   "metadata": {},
   "outputs": [],
   "source": [
    "plt.plot(fit_transformed[:, 0], (fit_params[:, 10:20] * pca.components_[0][10:20]).sum(axis=1), marker='o')"
   ]
  },
  {
   "cell_type": "code",
   "execution_count": null,
   "id": "dc89ca5b-7d49-458c-ba45-a7f2359b57ab",
   "metadata": {},
   "outputs": [],
   "source": [
    "plt.plot(deltas_init, fit_params[:, 1])"
   ]
  },
  {
   "cell_type": "code",
   "execution_count": null,
   "id": "a3bc457c-5a27-4414-9951-b3655526648c",
   "metadata": {},
   "outputs": [],
   "source": [
    "plt.plot(pca.components_[0][10:20])"
   ]
  },
  {
   "cell_type": "code",
   "execution_count": null,
   "id": "01186362-8431-4855-addd-f1b9c2309ce7",
   "metadata": {},
   "outputs": [],
   "source": [
    "plt.plot(pca.components_[1])"
   ]
  },
  {
   "cell_type": "code",
   "execution_count": null,
   "id": "74bf86e5-a810-48d2-b388-820b570ac4bc",
   "metadata": {},
   "outputs": [],
   "source": [
    "fig, ax = plt.subplots(1, 1, figsize=(10, 10))\n",
    "ax.plot(fit_ident_transformed[:, 0], fit_ident_transformed[:, 1], marker='o')\n",
    "ax.plot(fit_transformed[:, 0], fit_transformed[:, 1], marker='x')"
   ]
  },
  {
   "cell_type": "code",
   "execution_count": null,
   "id": "bd384eb6-71c1-4745-9ccd-66780959b3f7",
   "metadata": {},
   "outputs": [],
   "source": [
    "plt.plot(deltas_init, fit_params[:, 7])"
   ]
  },
  {
   "cell_type": "code",
   "execution_count": null,
   "id": "7e7f3b2b-2c5c-4e0a-b6a0-34c1d5a78815",
   "metadata": {},
   "outputs": [],
   "source": [
    "pca = PCA(2)\n",
    "fit_transformed = pca.fit_transform(init_params)\n",
    "fit_ident_transformed = pca.transform(fit_params)\n",
    "fig, ax = plt.subplots(1, 1, figsize=(10, 10))\n",
    "ax.plot(fit_ident_transformed[:, 0], fit_ident_transformed[:, 1], marker='o')\n",
    "#ax.plot(fit_transformed[:, 0], fit_transformed[:, 1], marker='x')"
   ]
  },
  {
   "cell_type": "code",
   "execution_count": null,
   "id": "52c62246-0bfe-4ae3-8c6e-0b4674a322b3",
   "metadata": {},
   "outputs": [],
   "source": []
  }
 ],
 "metadata": {
  "kernelspec": {
   "display_name": "neuro",
   "language": "python",
   "name": "neuro"
  },
  "language_info": {
   "codemirror_mode": {
    "name": "ipython",
    "version": 3
   },
   "file_extension": ".py",
   "mimetype": "text/x-python",
   "name": "python",
   "nbconvert_exporter": "python",
   "pygments_lexer": "ipython3",
   "version": "3.7.9"
  }
 },
 "nbformat": 4,
 "nbformat_minor": 5
}
