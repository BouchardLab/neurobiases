{
 "cells": [
  {
   "cell_type": "code",
   "execution_count": null,
   "id": "95538142",
   "metadata": {},
   "outputs": [],
   "source": [
    "import h5py\n",
    "import matplotlib.pyplot as plt\n",
    "import neuropacks\n",
    "import numpy as np\n",
    "import os\n",
    "import mpl_lego.colorbar as colorbar\n",
    "\n",
    "from neurobiases.utils import selection_accuracy, selection_accuracy_single\n",
    "%matplotlib inline"
   ]
  },
  {
   "cell_type": "code",
   "execution_count": null,
   "id": "24f3e3cb",
   "metadata": {},
   "outputs": [],
   "source": [
    "plt.rcParams.update({'text.usetex': True, 'font.family': 'serif'})"
   ]
  },
  {
   "cell_type": "code",
   "execution_count": null,
   "id": "2d5967c4",
   "metadata": {},
   "outputs": [],
   "source": [
    "base_path = '/storage/fits/neurobiases/exp15'\n",
    "exp15_path = os.path.join(base_path, \"exp15.h5\")"
   ]
  },
  {
   "cell_type": "code",
   "execution_count": null,
   "id": "a1ddde0c",
   "metadata": {},
   "outputs": [],
   "source": [
    "with h5py.File(exp15_path, \"r\") as results:\n",
    "    a_true = np.expand_dims(results[\"a_true\"][:], axis=4)\n",
    "    a_est = results[\"a_est\"][:]\n",
    "    b_true = np.expand_dims(results[\"b_true\"][:], axis=4)\n",
    "    b_est = results[\"b_est\"][:]"
   ]
  },
  {
   "cell_type": "code",
   "execution_count": null,
   "id": "d01a0191",
   "metadata": {},
   "outputs": [],
   "source": [
    "a_true_bcast = np.broadcast_to(a_true, a_est.shape)\n",
    "b_true_bcast = np.broadcast_to(b_true, b_est.shape)"
   ]
  },
  {
   "cell_type": "code",
   "execution_count": null,
   "id": "3f419dcd",
   "metadata": {},
   "outputs": [],
   "source": [
    "a_est_med = np.median(a_est, axis=4, keepdims=True)\n",
    "b_est_med = np.median(b_est, axis=4, keepdims=True)"
   ]
  },
  {
   "cell_type": "code",
   "execution_count": null,
   "id": "1a1db917",
   "metadata": {},
   "outputs": [],
   "source": [
    "a_true_nz = a_true[a_true != 0].reshape(a_true.shape[:-1] + (-1,))\n",
    "a_est_nz = a_est[b_true_bcast != 0].reshape(a_est.shape[:-1] + (-1,))\n",
    "b_true_nz = b_true[b_true != 0].reshape(b_true.shape[:-1] + (-1,))\n",
    "b_est_nz = b_est[b_true_bcast != 0].reshape(b_est.shape[:-1] + (-1,))"
   ]
  },
  {
   "cell_type": "markdown",
   "id": "3ad8b014",
   "metadata": {},
   "source": [
    "# Selection Accuracy"
   ]
  },
  {
   "cell_type": "code",
   "execution_count": null,
   "id": "9dab49a6",
   "metadata": {},
   "outputs": [],
   "source": [
    "a_sel_acc = selection_accuracy(a_true, a_est)\n",
    "b_sel_acc = selection_accuracy(b_true, b_est)"
   ]
  },
  {
   "cell_type": "code",
   "execution_count": null,
   "id": "ded91d9f",
   "metadata": {},
   "outputs": [],
   "source": [
    "a_sel_acc_agg = np.median(np.median(np.median(a_sel_acc, axis=4), axis=3), axis=2)\n",
    "b_sel_acc_agg = np.median(np.median(np.median(b_sel_acc, axis=4), axis=3), axis=2)"
   ]
  },
  {
   "cell_type": "code",
   "execution_count": null,
   "id": "7ea40c2f",
   "metadata": {},
   "outputs": [],
   "source": [
    "fig, axes = plt.subplots(1, 2, figsize=(10, 4))\n",
    "plt.subplots_adjust(wspace=0.55)\n",
    "img1 = axes[0].imshow(\n",
    "    a_sel_acc_agg,\n",
    "    origin='lower',\n",
    "    vmin=0,\n",
    "    vmax=1,\n",
    "    cmap='Greys')\n",
    "cb1, cax1 = colorbar.append_colorbar_to_axis(axes[0], img1)\n",
    "\n",
    "img2 = axes[1].imshow(\n",
    "    b_sel_acc_agg,\n",
    "    origin='lower',\n",
    "    vmin=0,\n",
    "    vmax=1,\n",
    "    cmap='Greys')\n",
    "cb2, cax2 = colorbar.append_colorbar_to_axis(axes[1], img2)\n",
    "\n",
    "axes[0].set_title(r'\\textbf{Coupling Parameters}', fontsize=16)\n",
    "axes[1].set_title(r'\\textbf{Tuning Parameters}', fontsize=16)\n",
    "\n",
    "for ax in axes:\n",
    "    ax.tick_params(labelsize=15)\n",
    "    ax.set_xticks(np.arange(5))\n",
    "    ax.set_yticks(np.arange(5))\n",
    "    ax.set_xticklabels(np.linspace(-1, 1, 5))\n",
    "    ax.set_yticklabels(ax.get_xticklabels())\n",
    "    ax.set_xlabel(r'\\textbf{Tuning Mean}', fontsize=15)\n",
    "    ax.set_ylabel(r'\\textbf{Coupling Mean}', fontsize=15)\n",
    "\n",
    "for cax in [cax1, cax2]:\n",
    "    cax.tick_params(labelsize=12)\n",
    "    cax.set_ylabel(r'\\textbf{Selection Accuracy}', fontsize=15, rotation=270, labelpad=15)\n",
    "\n",
    "plt.show()"
   ]
  },
  {
   "cell_type": "markdown",
   "id": "4e4fd7c8",
   "metadata": {},
   "source": [
    "# Bias"
   ]
  },
  {
   "cell_type": "code",
   "execution_count": null,
   "id": "cc3c9be0",
   "metadata": {},
   "outputs": [],
   "source": [
    "a_bias = a_est - a_true\n",
    "a_bias_nz = a_est_nz - a_true_nz\n",
    "b_bias = b_est - b_true\n",
    "b_bias_nz = b_est_nz - b_true_nz"
   ]
  },
  {
   "cell_type": "code",
   "execution_count": null,
   "id": "629a796f",
   "metadata": {},
   "outputs": [],
   "source": [
    "a_bias_agg = np.median(np.mean(np.median(a_bias, axis=4), axis=3), axis=2)\n",
    "b_bias_agg = np.median(np.mean(np.median(b_bias, axis=4), axis=3), axis=2)"
   ]
  },
  {
   "cell_type": "code",
   "execution_count": null,
   "id": "3f8f44f3",
   "metadata": {},
   "outputs": [],
   "source": [
    "a_bias_nz_agg = np.median(np.median(np.mean(np.median(a_bias_nz, axis=4), axis=3), axis=2), axis=-1)\n",
    "b_bias_nz_agg = np.median(np.median(np.mean(np.median(b_bias_nz, axis=4), axis=3), axis=2), axis=-1)"
   ]
  },
  {
   "cell_type": "code",
   "execution_count": null,
   "id": "39efa2ea",
   "metadata": {},
   "outputs": [],
   "source": [
    "fig, axes = plt.subplots(1, 2, figsize=(10, 4))\n",
    "plt.subplots_adjust(wspace=0.7)\n",
    "img1 = axes[0].imshow(\n",
    "    a_bias_nz_agg,\n",
    "    origin='lower',\n",
    "    vmin=-0.5,\n",
    "    vmax=0.5,\n",
    "    cmap='Greys')\n",
    "cb1, cax1 = colorbar.append_colorbar_to_axis(axes[0], img1)\n",
    "\n",
    "img2 = axes[1].imshow(\n",
    "    b_bias_nz_agg,\n",
    "    origin='lower',\n",
    "    vmin=-1,\n",
    "    vmax=1,\n",
    "    cmap='Greys')\n",
    "cb2, cax2 = colorbar.append_colorbar_to_axis(axes[1], img2)\n",
    "\n",
    "axes[0].set_title(r'\\textbf{Coupling Parameters}', fontsize=16)\n",
    "axes[1].set_title(r'\\textbf{Tuning Parameters}', fontsize=16)\n",
    "\n",
    "for ax in axes:\n",
    "    ax.tick_params(labelsize=15)\n",
    "    ax.set_xticks(np.arange(5))\n",
    "    ax.set_yticks(np.arange(5))\n",
    "    ax.set_xticklabels(np.linspace(-1, 1, 5))\n",
    "    ax.set_yticklabels(ax.get_xticklabels())\n",
    "    ax.set_xlabel(r'\\textbf{Tuning Mean}', fontsize=15)\n",
    "    ax.set_ylabel(r'\\textbf{Coupling Mean}', fontsize=15)\n",
    "\n",
    "    \n",
    "cb1.set_ticks([-0.5, -0.25, 0., 0.25, 0.5])\n",
    "cb2.set_ticks([-1, -0.5, 0., 0.5, 1])\n",
    "\n",
    "for cax in [cax1, cax2]:\n",
    "    cax.tick_params(labelsize=12)\n",
    "    cax.set_ylabel(r'\\textbf{Bias}', fontsize=15, rotation=270, labelpad=15)\n",
    "\n",
    "plt.show()"
   ]
  },
  {
   "cell_type": "markdown",
   "id": "4d5909c0",
   "metadata": {},
   "source": [
    "# Variance"
   ]
  },
  {
   "cell_type": "code",
   "execution_count": null,
   "id": "c107fd2b",
   "metadata": {},
   "outputs": [],
   "source": [
    "a_var = np.var(a_est, axis=3)\n",
    "b_var = np.var(b_est, axis=3)"
   ]
  },
  {
   "cell_type": "code",
   "execution_count": null,
   "id": "a937f882",
   "metadata": {},
   "outputs": [],
   "source": [
    "a_var_agg = np.median(np.median(np.median(a_var, axis=3), axis=2), axis=2)\n",
    "b_var_agg = np.median(np.median(np.median(b_var, axis=3), axis=2), axis=2)"
   ]
  },
  {
   "cell_type": "code",
   "execution_count": null,
   "id": "2ca29fde",
   "metadata": {},
   "outputs": [],
   "source": [
    "fig, axes = plt.subplots(1, 2, figsize=(10, 4))\n",
    "plt.subplots_adjust(wspace=0.7)\n",
    "img1 = axes[0].imshow(\n",
    "    a_var_agg,\n",
    "    origin='lower',\n",
    "    vmin=0,\n",
    "    vmax=0.05,\n",
    "    cmap='Greys')\n",
    "cb1, cax1 = colorbar.append_colorbar_to_axis(axes[0], img1)\n",
    "\n",
    "img2 = axes[1].imshow(\n",
    "    b_bias_nz_agg,\n",
    "    origin='lower',\n",
    "    vmin=0,\n",
    "    vmax=0.5,\n",
    "    cmap='Greys')\n",
    "cb2, cax2 = colorbar.append_colorbar_to_axis(axes[1], img2)\n",
    "\n",
    "axes[0].set_title(r'\\textbf{Coupling Parameters}', fontsize=16)\n",
    "axes[1].set_title(r'\\textbf{Tuning Parameters}', fontsize=16)\n",
    "\n",
    "for ax in axes:\n",
    "    ax.tick_params(labelsize=15)\n",
    "    ax.set_xticks(np.arange(5))\n",
    "    ax.set_yticks(np.arange(5))\n",
    "    ax.set_xticklabels(np.linspace(-1, 1, 5))\n",
    "    ax.set_yticklabels(ax.get_xticklabels())\n",
    "    ax.set_xlabel(r'\\textbf{Tuning Mean}', fontsize=15)\n",
    "    ax.set_ylabel(r'\\textbf{Coupling Mean}', fontsize=15)\n",
    "\n",
    "for cax in [cax1, cax2]:\n",
    "    cax.tick_params(labelsize=12)\n",
    "    cax.set_ylabel(r'\\textbf{Variance}', fontsize=15, rotation=270, labelpad=15)\n",
    "\n",
    "plt.show()"
   ]
  }
 ],
 "metadata": {
  "kernelspec": {
   "display_name": "neuro",
   "language": "python",
   "name": "neuro"
  },
  "language_info": {
   "codemirror_mode": {
    "name": "ipython",
    "version": 3
   },
   "file_extension": ".py",
   "mimetype": "text/x-python",
   "name": "python",
   "nbconvert_exporter": "python",
   "pygments_lexer": "ipython3",
   "version": "3.7.9"
  }
 },
 "nbformat": 4,
 "nbformat_minor": 5
}
