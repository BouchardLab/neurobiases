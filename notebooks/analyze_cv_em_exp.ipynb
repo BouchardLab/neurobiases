{
 "cells": [
  {
   "cell_type": "code",
   "execution_count": null,
   "metadata": {},
   "outputs": [],
   "source": [
    "import matplotlib.pyplot as plt\n",
    "import matplotlib.colors as colors\n",
    "import numpy as np\n",
    "import os\n",
    "\n",
    "from mpl_toolkits.axes_grid1.axes_divider import make_axes_locatable\n",
    "from sklearn.utils.extmath import cartesian\n",
    "\n",
    "%matplotlib inline"
   ]
  },
  {
   "cell_type": "code",
   "execution_count": null,
   "metadata": {},
   "outputs": [],
   "source": [
    "results_path = os.path.join(os.environ['HOME'], 'fits/neurobiases/exp2.npz')"
   ]
  },
  {
   "cell_type": "code",
   "execution_count": null,
   "metadata": {},
   "outputs": [],
   "source": [
    "results = np.load(results_path)"
   ]
  },
  {
   "cell_type": "code",
   "execution_count": null,
   "metadata": {},
   "outputs": [],
   "source": [
    "list(results)"
   ]
  },
  {
   "cell_type": "code",
   "execution_count": null,
   "metadata": {},
   "outputs": [],
   "source": [
    "a_true = results['a_true'][:]\n",
    "a_est = results['a_est'][:]\n",
    "b_true = results['b_true'][:]\n",
    "b_est = results['b_est'][:]\n",
    "B_true = results['B_true'][:].reshape((10, 15))\n",
    "B_est = results['B_est'][:]\n",
    "Psi_true = results['Psi_true'][:]\n",
    "Psi_est = results['Psi_est'][:]\n",
    "scores = results['scores'][:].reshape((30, 30, -1))"
   ]
  },
  {
   "cell_type": "code",
   "execution_count": null,
   "metadata": {},
   "outputs": [],
   "source": [
    "N"
   ]
  },
  {
   "cell_type": "code",
   "execution_count": null,
   "metadata": {},
   "outputs": [],
   "source": [
    "N = a_true.size\n",
    "M = b_true.size"
   ]
  },
  {
   "cell_type": "markdown",
   "metadata": {},
   "source": [
    "# Selection Ratio"
   ]
  },
  {
   "cell_type": "code",
   "execution_count": null,
   "metadata": {},
   "outputs": [],
   "source": [
    "a_srs = np.median((np.count_nonzero(a_est, axis=2) / N).reshape((30, 30, -1)), axis=2)\n",
    "b_srs = np.median((np.count_nonzero(b_est, axis=2) / M).reshape((30, 30, -1)), axis=2)\n",
    "B_srs = np.median((np.count_nonzero(B_est, axis=(2, 3)) / (N * M)).reshape((30, 30, -1)), axis=2)"
   ]
  },
  {
   "cell_type": "code",
   "execution_count": null,
   "metadata": {},
   "outputs": [],
   "source": [
    "fig, axes = plt.subplots(1, 3, figsize=(10, 4), sharex=True, sharey=True)\n",
    "\n",
    "axes[0].imshow(a_srs, vmin=0, vmax=1)\n",
    "axes[1].imshow(b_srs, vmin=0, vmax=1)\n",
    "img = axes[2].imshow(B_srs, vmin=0, vmax=1)\n",
    "\n",
    "axes[0].set_xlabel(r'\\textbf{Tuning Penalty}', fontsize=16)\n",
    "axes[0].set_ylabel(r'\\textbf{Coupling Penalty}', fontsize=16)\n",
    "\n",
    "axes[0].set_xticks([0, 7, 15, 22, 29])\n",
    "axes[1].set_yticks([0, 7, 15, 22, 29])\n",
    "\n",
    "for ax in axes:\n",
    "    ax.set_xticklabels(['1e-5', '1e-4', '1e-3', '1e-2', '1e-1'], fontsize=12)\n",
    "    ax.set_yticklabels(['1e-4', '1e-3', '1e-2', '1e-1', '1e-0'], fontsize=12)\n",
    "    \n",
    "axes[0].set_title(r'\\textbf{Coupling}', fontsize=18)\n",
    "axes[1].set_title(r'\\textbf{Target Tuning}', fontsize=18)\n",
    "axes[2].set_title(r'\\textbf{Non-target Tuning}', fontsize=18)\n",
    "\n",
    "[[x0, y0], [x1, y1]] = axes[2].get_position().get_points()\n",
    "cax = fig.add_axes([x1 + 0.05 * (x1 - x0), y0, 0.05 * (x1 - x0), (y1 - y0)])\n",
    "cb = fig.colorbar(img, cax=cax)\n",
    "cb.ax.tick_params(labelsize=10)\n",
    "cb.ax.set_ylabel(r'\\textbf{Selection Ratio}', fontsize=15, labelpad=15, rotation=270)"
   ]
  },
  {
   "cell_type": "markdown",
   "metadata": {},
   "source": [
    "# Selection Accuracy"
   ]
  },
  {
   "cell_type": "markdown",
   "metadata": {},
   "source": [
    "# Cross-validated Log-likelihood"
   ]
  },
  {
   "cell_type": "code",
   "execution_count": null,
   "metadata": {},
   "outputs": [],
   "source": [
    "mean_scores = np.mean(scores, axis=2)"
   ]
  },
  {
   "cell_type": "code",
   "execution_count": null,
   "metadata": {},
   "outputs": [],
   "source": [
    "best_score = np.unravel_index(np.argmax(mean_scores), mean_scores.shape)"
   ]
  },
  {
   "cell_type": "code",
   "execution_count": null,
   "metadata": {},
   "outputs": [],
   "source": [
    "fig, ax = plt.subplots(1, 1, figsize=(6, 4))\n",
    "ax.plot(np.sort(-mean_scores.ravel()), linewidth=3, color='black')\n",
    "ax.set_xlabel(r'\\textbf{CV Index}', fontsize=20)\n",
    "ax.set_ylabel(r'\\textbf{Mean CV Negative LL}', fontsize=20)\n",
    "\n",
    "ax.set_yscale('log')\n",
    "ax.set_xlim([0, 900])\n",
    "ax.set_ylim([1e4, 1e6])\n",
    "ax.tick_params(labelsize=15)"
   ]
  },
  {
   "cell_type": "code",
   "execution_count": null,
   "metadata": {},
   "outputs": [],
   "source": [
    "fig, ax = plt.subplots(1, 1, figsize=(6, 4))\n",
    "ax.plot(np.sort(-mean_scores.ravel()), linewidth=3, color='black')\n",
    "ax.set_xlabel(r'\\textbf{CV Index}', fontsize=20)\n",
    "ax.set_ylabel(r'\\textbf{Mean CV Negative LL}', fontsize=20)\n",
    "\n",
    "ax.set_yscale('log')\n",
    "ax.set_xlim([0, 300])\n",
    "ax.set_ylim([21100, 21500])\n",
    "ax.tick_params(labelsize=15)"
   ]
  },
  {
   "cell_type": "code",
   "execution_count": null,
   "metadata": {},
   "outputs": [],
   "source": [
    "fig, ax = plt.subplots(1, 1, figsize=(6, 4))\n",
    "ax.hist(mean_scores.ravel(), color='gray',\n",
    "        bins=np.linspace(-21500, -21100, 15))\n",
    "ax.set_xlabel(r'\\textbf{CV Index}', fontsize=20)\n",
    "ax.set_ylabel(r'\\textbf{Mean CV Negative LL}', fontsize=20)\n",
    "\n",
    "ax.set_xlim([-21500, -21100])"
   ]
  },
  {
   "cell_type": "code",
   "execution_count": null,
   "metadata": {},
   "outputs": [],
   "source": [
    "fig, ax = plt.subplots(1, 1, figsize=(5, 5))\n",
    "\n",
    "img = ax.imshow(mean_scores, vmin=-30000, vmax=-20000)\n",
    "\n",
    "ax.set_xlabel(r'\\textbf{Tuning Penalty}', fontsize=16)\n",
    "ax.set_ylabel(r'\\textbf{Coupling Penalty}', fontsize=16)\n",
    "\n",
    "ax.set_xticks([0, 7, 15, 22, 29])\n",
    "ax.set_yticks([0, 7, 15, 22, 29])\n",
    "ax.set_xticklabels(['1e-5', '1e-4', '1e-3', '1e-2', '1e-1'], fontsize=12)\n",
    "ax.set_yticklabels(['1e-4', '1e-3', '1e-2', '1e-1', '1e-0'], fontsize=12)\n",
    "\n",
    "ax.scatter(best_score[1], best_score[0], color='red', marker='x')\n",
    "\n",
    "[[x0, y0], [x1, y1]] = ax.get_position().get_points()\n",
    "cax = fig.add_axes([x1 + 0.05 * (x1 - x0), y0, 0.05 * (x1 - x0), (y1 - y0)])\n",
    "cb = fig.colorbar(img, cax=cax)\n",
    "cb.ax.tick_params(labelsize=10)\n",
    "cb.ax.set_ylabel(r'\\textbf{Held out Log-Likelihood}', fontsize=15, labelpad=20, rotation=270)"
   ]
  },
  {
   "cell_type": "code",
   "execution_count": null,
   "metadata": {},
   "outputs": [],
   "source": [
    "fig, axes = plt.subplots(1, 2, figsize=(12, 4))\n",
    "\n",
    "for idx in range(mean_scores.shape[0]):\n",
    "    axes[0].plot(-mean_scores[idx], color='gray', alpha=0.5)\n",
    "    axes[1].plot(-mean_scores[:, idx], color='gray', alpha=0.5)\n",
    "\n",
    "for ax in axes:\n",
    "    ax.set_xticks([0, 7, 15, 22, 29])\n",
    "    ax.set_yscale('log')\n",
    "    ax.set_ylim([1e4, 1e6])\n",
    "    ax.tick_params(labelsize=13)\n",
    "    ax.set_ylabel(r'\\textbf{Negative LL}', fontsize=15)\n",
    "    ax.set_xlabel(r'\\textbf{Regularization Penalty}', fontsize=15)\n",
    "\n",
    "axes[0].set_xticklabels(['1e-4', '1e-3', '1e-2', '1e-1', '1e-0'], fontsize=12)\n",
    "axes[1].set_xticklabels(['1e-5', '1e-4', '1e-3', '1e-2', '1e-1'], fontsize=12)\n",
    "\n",
    "axes[0].set_title(r'\\textbf{Tuning}', fontsize=16)\n",
    "axes[1].set_title(r'\\textbf{Coupling}', fontsize=16)\n",
    "plt.tight_layout()"
   ]
  },
  {
   "cell_type": "markdown",
   "metadata": {},
   "source": [
    "# Bias "
   ]
  },
  {
   "cell_type": "code",
   "execution_count": null,
   "metadata": {},
   "outputs": [],
   "source": [
    "b_mask = b_true != 0\n",
    "a_mask = a_true != 0\n",
    "a_nz = a_true[a_mask]\n",
    "b_nz = b_true[b_mask]"
   ]
  },
  {
   "cell_type": "code",
   "execution_count": null,
   "metadata": {},
   "outputs": [],
   "source": [
    "a_bias = np.mean(np.median(a_est - a_true, axis=1).reshape((30, 30, -1)), axis=-1)\n",
    "b_bias = np.mean(np.median(b_est - b_true, axis=1).reshape((30, 30, -1)), axis=-1)\n",
    "B_bias = np.mean(np.median(B_est - B_true, axis=1).reshape((30, 30, 10, 15)), axis=(2, 3))"
   ]
  },
  {
   "cell_type": "code",
   "execution_count": null,
   "metadata": {},
   "outputs": [],
   "source": [
    "a_bias.min()"
   ]
  },
  {
   "cell_type": "code",
   "execution_count": null,
   "metadata": {},
   "outputs": [],
   "source": [
    "fig, axes = plt.subplots(1, 3, figsize=(12, 6), sharex=True, sharey=True)\n",
    "\n",
    "plt.subplots_adjust(wspace=0.5)\n",
    "\n",
    "img1 = axes[0].imshow(a_bias, vmin=-1, vmax=1, cmap='RdGy')\n",
    "img2 = axes[1].imshow(b_bias, vmin=-100, vmax=100, cmap='RdGy')\n",
    "img3 = axes[2].imshow(B_bias, vmin=-50, vmax=50, cmap='RdGy')\n",
    "\n",
    "axes[0].set_xticks([0, 7, 15, 22, 29])\n",
    "axes[1].set_yticks([0, 7, 15, 22, 29])\n",
    "\n",
    "for ax in axes:\n",
    "    ax.set_xticklabels(['1e-5', '1e-4', '1e-3', '1e-2', '1e-1'], fontsize=12)\n",
    "    ax.set_yticklabels(['1e-4', '1e-3', '1e-2', '1e-1', '1e-0'], fontsize=12)\n",
    "    \n",
    "axes[0].set_title(r'\\textbf{Coupling}', fontsize=18)\n",
    "axes[1].set_title(r'\\textbf{Target Tuning}', fontsize=18)\n",
    "axes[2].set_title(r'\\textbf{Non-target Tuning}', fontsize=18)\n",
    "\n",
    "[[x0, y0], [x1, y1]] = axes[0].get_position().get_points()\n",
    "cax1 = fig.add_axes([x1 + 0.05 * (x1 - x0), y0, 0.05 * (x1 - x0), (y1 - y0)])\n",
    "cb = fig.colorbar(img1, cax=cax1)\n",
    "cb.ax.tick_params(labelsize=10)\n",
    "cb.ax.set_ylabel(r'\\textbf{Bias}', fontsize=15, labelpad=20, rotation=270)\n",
    "\n",
    "[[x0, y0], [x1, y1]] = axes[1].get_position().get_points()\n",
    "cax1 = fig.add_axes([x1 + 0.05 * (x1 - x0), y0, 0.05 * (x1 - x0), (y1 - y0)])\n",
    "cb = fig.colorbar(img2, cax=cax1)\n",
    "cb.ax.tick_params(labelsize=10)\n",
    "cb.ax.set_ylabel(r'\\textbf{Bias}', fontsize=15, labelpad=20, rotation=270)\n",
    "\n",
    "\n",
    "[[x0, y0], [x1, y1]] = axes[2].get_position().get_points()\n",
    "cax1 = fig.add_axes([x1 + 0.05 * (x1 - x0), y0, 0.05 * (x1 - x0), (y1 - y0)])\n",
    "cb = fig.colorbar(img3, cax=cax1)\n",
    "cb.ax.tick_params(labelsize=10)\n",
    "cb.ax.set_ylabel(r'\\textbf{Bias}', fontsize=15, labelpad=20, rotation=270)\n"
   ]
  },
  {
   "cell_type": "code",
   "execution_count": null,
   "metadata": {},
   "outputs": [],
   "source": [
    "a_nz_bias = np.mean(np.median((a_est[..., a_mask] - a_nz)/np.abs(a_nz), axis=1).reshape((30, 30, -1)), axis=-1)\n",
    "b_nz_bias = np.mean(np.median((b_est[..., b_mask] - b_nz)/np.abs(b_nz), axis=1).reshape((30, 30, -1)), axis=-1)\n"
   ]
  },
  {
   "cell_type": "code",
   "execution_count": null,
   "metadata": {},
   "outputs": [],
   "source": [
    "fig, axes = plt.subplots(1, 2, figsize=(10, 4), sharex=True, sharey=True)\n",
    "\n",
    "plt.subplots_adjust(wspace=0.5)\n",
    "\n",
    "img1 = axes[0].imshow(a_nz_bias, vmin=-2, vmax=2, cmap='RdGy')\n",
    "img2 = axes[1].imshow(b_nz_bias, vmin=-2, vmax=2, cmap='RdGy')\n",
    "\n",
    "axes[0].set_xticks([0, 7, 15, 22, 29])\n",
    "axes[1].set_yticks([0, 7, 15, 22, 29])\n",
    "\n",
    "for ax in axes:\n",
    "    ax.set_xticklabels(['1e-5', '1e-4', '1e-3', '1e-2', '1e-1'], fontsize=12)\n",
    "    ax.set_yticklabels(['1e-4', '1e-3', '1e-2', '1e-1', '1e-0'], fontsize=12)\n",
    "    \n",
    "axes[0].set_title(r'\\textbf{Coupling}', fontsize=18)\n",
    "axes[1].set_title(r'\\textbf{Target Tuning}', fontsize=18)\n",
    "\n",
    "[[x0, y0], [x1, y1]] = axes[0].get_position().get_points()\n",
    "cax1 = fig.add_axes([x1 + 0.05 * (x1 - x0), y0, 0.05 * (x1 - x0), (y1 - y0)])\n",
    "cb = fig.colorbar(img1, cax=cax1)\n",
    "cb.ax.tick_params(labelsize=10)\n",
    "cb.ax.set_ylabel(r'\\textbf{Normalized Bias}', fontsize=15, labelpad=20, rotation=270)\n",
    "\n",
    "[[x0, y0], [x1, y1]] = axes[1].get_position().get_points()\n",
    "cax1 = fig.add_axes([x1 + 0.05 * (x1 - x0), y0, 0.05 * (x1 - x0), (y1 - y0)])\n",
    "cb = fig.colorbar(img2, cax=cax1)\n",
    "cb.ax.tick_params(labelsize=10)\n",
    "cb.ax.set_ylabel(r'\\textbf{Normalized Bias}', fontsize=15, labelpad=20, rotation=270)"
   ]
  }
 ],
 "metadata": {
  "kernelspec": {
   "display_name": "neuro",
   "language": "python",
   "name": "neuro"
  },
  "language_info": {
   "codemirror_mode": {
    "name": "ipython",
    "version": 3
   },
   "file_extension": ".py",
   "mimetype": "text/x-python",
   "name": "python",
   "nbconvert_exporter": "python",
   "pygments_lexer": "ipython3",
   "version": "3.7.9"
  }
 },
 "nbformat": 4,
 "nbformat_minor": 4
}
