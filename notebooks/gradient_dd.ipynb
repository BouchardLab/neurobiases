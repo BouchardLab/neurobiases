{
 "cells": [
  {
   "cell_type": "code",
   "execution_count": null,
   "id": "45405e86-c4e6-4366-988e-2197efc99378",
   "metadata": {},
   "outputs": [],
   "source": [
    "import matplotlib.pyplot as plt\n",
    "import numpy as np\n",
    "import scipy\n",
    "\n",
    "from importlib import reload\n",
    "from matplotlib import rc\n",
    "from neurobiases import (TriangularModel,\n",
    "                         EMSolver,\n",
    "                         em_utils,\n",
    "                         solver_utils)\n",
    "%matplotlib inline"
   ]
  },
  {
   "cell_type": "code",
   "execution_count": null,
   "id": "3ad32c4c-e08b-432c-a1d7-cf8add4f38d3",
   "metadata": {},
   "outputs": [],
   "source": [
    "K = 1"
   ]
  },
  {
   "cell_type": "code",
   "execution_count": null,
   "id": "62abbb33-c169-4cd1-9356-08acc34045ec",
   "metadata": {},
   "outputs": [],
   "source": [
    "# Create triangular model and draw data\n",
    "tm = TriangularModel(\n",
    "    model='linear',\n",
    "    parameter_design='direct_response',\n",
    "    M=10,\n",
    "    N=10,\n",
    "    K=K,\n",
    "    corr_cluster=0.25,\n",
    "    corr_back=0.1,\n",
    "    coupling_distribution='gaussian',\n",
    "    coupling_sparsity=0.5,\n",
    "    coupling_loc=0,\n",
    "    coupling_scale=0.25,\n",
    "    coupling_rng=2332,\n",
    "    tuning_distribution='gaussian',\n",
    "    tuning_sparsity=0.5,\n",
    "    tuning_loc=0,\n",
    "    tuning_scale=0.25,\n",
    "    tuning_rng=23456542,\n",
    "    stim_distribution='uniform')\n",
    "X, Y, y = tm.generate_samples(n_samples=500, rng=2332)"
   ]
  },
  {
   "cell_type": "code",
   "execution_count": null,
   "id": "9a624900-913c-409d-b8ff-1197a404569a",
   "metadata": {},
   "outputs": [],
   "source": [
    "true = EMSolver(\n",
    "    X, Y, y, K=K,\n",
    "    solver='scipy_lbfgs',\n",
    "    max_iter=500,\n",
    "    tol=1e-8,\n",
    "    c_coupling=0,\n",
    "    c_tuning=0,\n",
    "    penalize_B=False,\n",
    "    initialization='random')\n",
    "true.set_params(a=tm.a, b=tm.b, B=tm.B,\n",
    "                Psi_tr=true.Psi_to_Psi_tr(tm.Psi), L=tm.L)\n",
    "true_grad = true.mll_grad(wrt_Psi=True)\n",
    "true_grad /= np.linalg.norm(true_grad)"
   ]
  },
  {
   "cell_type": "code",
   "execution_count": null,
   "id": "79cf5100-7d91-4a74-a636-f4db035743de",
   "metadata": {},
   "outputs": [],
   "source": [
    "n_reps = 30\n",
    "non_sparse_w_init_dds = np.zeros(n_reps)\n",
    "non_sparse_w_true_dds = np.zeros(n_reps)\n",
    "sparse_w_init_dds = np.zeros(n_reps)\n",
    "sparse_w_true_dds = np.zeros(n_reps)\n",
    "random_dds = np.zeros(1000)"
   ]
  },
  {
   "cell_type": "code",
   "execution_count": null,
   "id": "15a2cadb-baa3-4b91-a300-df29b803cc11",
   "metadata": {},
   "outputs": [],
   "source": [
    "for idx in range(1000):\n",
    "    random_vec = np.random.normal(loc=0, scale=1, size=true_grad.shape)\n",
    "    random_vec /= np.linalg.norm(random_vec)\n",
    "    random_dds[idx] = random_vec @ true_grad"
   ]
  },
  {
   "cell_type": "code",
   "execution_count": null,
   "id": "23c2f0cd-bb17-497d-bd31-d63197b57fdb",
   "metadata": {},
   "outputs": [],
   "source": [
    "for rep in range(n_reps):\n",
    "    # Run sparse solver\n",
    "    sparse = EMSolver(\n",
    "        X, Y, y, K=K,\n",
    "        solver='scipy_lbfgs',\n",
    "        max_iter=500,\n",
    "        tol=1e-8,\n",
    "        a_mask=tm.a.ravel() != 0,\n",
    "        b_mask=tm.b.ravel() != 0,\n",
    "        c_coupling=0,\n",
    "        c_tuning=0,\n",
    "        penalize_B=False,\n",
    "        initialization='random')\n",
    "    sparse_grad = sparse.mll_grad(wrt_Psi=True)\n",
    "    sparse_grad /= np.linalg.norm(sparse_grad)\n",
    "    sparse_init = sparse.get_params(return_Psi=True)\n",
    "    sparse.fit_em(refit=False)\n",
    "    init_to_fit = sparse.get_params(return_Psi=True) - sparse_init\n",
    "    init_to_fit /= np.linalg.norm(init_to_fit)\n",
    "    sparse_w_init_dds[rep] = sparse_grad @ init_to_fit\n",
    "    \n",
    "    true_to_fit = sparse.get_params(return_Psi=True)[:20] - true.get_params(return_Psi=True)[:20]\n",
    "    true_to_fit /= np.linalg.norm(true_to_fit)\n",
    "    sparse_w_true_dds[rep] = true_grad[:20] @ true_to_fit\n",
    "    \n",
    "    # Run non-sparse solver\n",
    "    non_sparse = EMSolver(\n",
    "        X, Y, y, K=K,\n",
    "        solver='scipy_lbfgs',\n",
    "        max_iter=500,\n",
    "        tol=1e-8,\n",
    "        c_coupling=0,\n",
    "        c_tuning=0,\n",
    "        penalize_B=False,\n",
    "        initialization='random')\n",
    "    non_sparse_grad = non_sparse.mll_grad(wrt_Psi=True)\n",
    "    non_sparse_grad /= np.linalg.norm(non_sparse_grad)\n",
    "    non_sparse_init = non_sparse.get_params(return_Psi=True)\n",
    "    non_sparse.fit_em(refit=False)\n",
    "    init_to_fit = non_sparse.get_params(return_Psi=True) - non_sparse_init\n",
    "    init_to_fit /= np.linalg.norm(init_to_fit)\n",
    "    non_sparse_w_init_dds[rep] = non_sparse_grad @ init_to_fit\n",
    "    \n",
    "    true_to_fit = non_sparse.get_params(return_Psi=True) - true.get_params(return_Psi=True) \n",
    "    true_to_fit /= np.linalg.norm(true_to_fit)\n",
    "    non_sparse_w_true_dds[rep] = true_grad @ true_to_fit"
   ]
  },
  {
   "cell_type": "code",
   "execution_count": null,
   "id": "6cffb886-d207-4431-ba51-2d398b3a7d0d",
   "metadata": {},
   "outputs": [],
   "source": [
    "plt.hist(sparse_w_true_dds)"
   ]
  },
  {
   "cell_type": "code",
   "execution_count": null,
   "id": "0d12f69c-b118-4167-9ea1-0cc1cdb2000c",
   "metadata": {},
   "outputs": [],
   "source": [
    "plt.hist(non_sparse_w_init_dds)\n",
    "plt.hist(sparse_w_init_dds)"
   ]
  },
  {
   "cell_type": "code",
   "execution_count": null,
   "id": "8bba2323-4e3f-4ada-9cb0-0d14eb9f40cc",
   "metadata": {},
   "outputs": [],
   "source": [
    "plt.hist(sparse_w_true_dds)\n",
    "plt.hist(non_sparse_w_true_dds)\n",
    "plt.hist(non_sparse_w_init_dds)\n",
    "plt.hist(sparse_w_init_dds)"
   ]
  }
 ],
 "metadata": {
  "kernelspec": {
   "display_name": "neuro",
   "language": "python",
   "name": "neuro"
  },
  "language_info": {
   "codemirror_mode": {
    "name": "ipython",
    "version": 3
   },
   "file_extension": ".py",
   "mimetype": "text/x-python",
   "name": "python",
   "nbconvert_exporter": "python",
   "pygments_lexer": "ipython3",
   "version": "3.7.9"
  }
 },
 "nbformat": 4,
 "nbformat_minor": 5
}
