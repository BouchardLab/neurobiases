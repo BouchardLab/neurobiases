{
 "cells": [
  {
   "cell_type": "code",
   "execution_count": null,
   "id": "45405e86-c4e6-4366-988e-2197efc99378",
   "metadata": {},
   "outputs": [],
   "source": [
    "import matplotlib.pyplot as plt\n",
    "import numpy as np\n",
    "import scipy\n",
    "\n",
    "from importlib import reload\n",
    "from matplotlib import rc\n",
    "from neurobiases import (TriangularModel,\n",
    "                         EMSolver,\n",
    "                         em_utils,\n",
    "                         solver_utils)\n",
    "%matplotlib inline"
   ]
  },
  {
   "cell_type": "code",
   "execution_count": null,
   "id": "3ad32c4c-e08b-432c-a1d7-cf8add4f38d3",
   "metadata": {},
   "outputs": [],
   "source": [
    "K = 1"
   ]
  },
  {
   "cell_type": "code",
   "execution_count": null,
   "id": "62abbb33-c169-4cd1-9356-08acc34045ec",
   "metadata": {},
   "outputs": [],
   "source": [
    "# Create triangular model and draw data\n",
    "tm = TriangularModel(\n",
    "    model='linear',\n",
    "    parameter_design='direct_response',\n",
    "    M=10,\n",
    "    N=10,\n",
    "    K=K,\n",
    "    corr_cluster=0.25,\n",
    "    corr_back=0.1,\n",
    "    coupling_distribution='gaussian',\n",
    "    coupling_sparsity=0.5,\n",
    "    coupling_loc=0,\n",
    "    coupling_scale=0.25,\n",
    "    coupling_rng=2332,\n",
    "    tuning_distribution='gaussian',\n",
    "    tuning_sparsity=0.5,\n",
    "    tuning_loc=0,\n",
    "    tuning_scale=0.25,\n",
    "    tuning_rng=23456542,\n",
    "    stim_distribution='uniform')\n",
    "X, Y, y = tm.generate_samples(n_samples=500, rng=2332)"
   ]
  },
  {
   "cell_type": "code",
   "execution_count": null,
   "id": "9a624900-913c-409d-b8ff-1197a404569a",
   "metadata": {},
   "outputs": [],
   "source": [
    "true = EMSolver(\n",
    "    X, Y, y, K=K,\n",
    "    solver='scipy_lbfgs',\n",
    "    max_iter=500,\n",
    "    tol=1e-8,\n",
    "    c_coupling=0,\n",
    "    c_tuning=0,\n",
    "    penalize_B=False,\n",
    "    initialization='random')\n",
    "true.set_params(a=tm.a, b=tm.b, B=tm.B,\n",
    "                Psi_tr=true.Psi_to_Psi_tr(tm.Psi), L=tm.L)\n",
    "true_grad = true.mll_grad(wrt_Psi=True)\n",
    "true_grad /= np.linalg.norm(true_grad)"
   ]
  },
  {
   "cell_type": "code",
   "execution_count": null,
   "id": "79cf5100-7d91-4a74-a636-f4db035743de",
   "metadata": {},
   "outputs": [],
   "source": [
    "n_reps = 30\n",
    "non_sparse_w_init_dds = np.zeros(n_reps)\n",
    "non_sparse_w_true_dds = np.zeros(n_reps)"
   ]
  },
  {
   "cell_type": "code",
   "execution_count": null,
   "id": "23c2f0cd-bb17-497d-bd31-d63197b57fdb",
   "metadata": {},
   "outputs": [],
   "source": [
    "for rep in range(n_reps):\n",
    "    # Run sparse solver\n",
    "    solver = EMSolver(\n",
    "        X, Y, y, K=K,\n",
    "        solver='scipy_lbfgs',\n",
    "        max_iter=500,\n",
    "        tol=1e-8,\n",
    "        a_mask=tm.a.ravel() != 0,\n",
    "        b_mask=tm.b.ravel() != 0,\n",
    "        c_coupling=0,\n",
    "        c_tuning=0,\n",
    "        penalize_B=False,\n",
    "        initialization='random')\n",
    "    init = solver.get_params()\n",
    "    solver.fit_em(refit=False)\n",
    "    init_to_fit = solver.get_params() - init\n",
    "    init_to_fit /= np.linalg.norm(init_to_fit)\n",
    "    non_sparse_w_init_dds[rep] = true_grad @ init_to_fit\n",
    "    true_to_fit = solver.get_params() - true.get_params() \n",
    "    true_to_fit /= np.linalg.norm(true_to_fit)\n",
    "    non_sparse_w_true_dds[rep] = true_grad @ true_to_fit"
   ]
  },
  {
   "cell_type": "code",
   "execution_count": null,
   "id": "0d12f69c-b118-4167-9ea1-0cc1cdb2000c",
   "metadata": {},
   "outputs": [],
   "source": [
    "plt.hist(non_sparse_w_true_dds)"
   ]
  },
  {
   "cell_type": "code",
   "execution_count": null,
   "id": "97203832-3839-4574-995a-34ff055dac24",
   "metadata": {},
   "outputs": [],
   "source": [
    "plt.hist(non_sparse_w_init_dds)"
   ]
  },
  {
   "cell_type": "code",
   "execution_count": null,
   "id": "4e1dcb71-9fa0-4310-b88f-9b431a3bf2b9",
   "metadata": {},
   "outputs": [],
   "source": [
    "solver.fit_em(refit=False)"
   ]
  },
  {
   "cell_type": "code",
   "execution_count": null,
   "id": "00959faf-59ef-4e0f-84a0-53d3fbc3ec5d",
   "metadata": {},
   "outputs": [],
   "source": [
    "true_grad = true.mll_grad(wrt_Psi=True)\n",
    "true_grad /= np.linalg.norm(true_grad)\n",
    "true_to_fit = true.get_params() - solver.get_params()\n",
    "true_to_fit /= np.linalg.norm(true_to_fit)"
   ]
  },
  {
   "cell_type": "code",
   "execution_count": null,
   "id": "4e77e282-6ece-464a-b0fe-d9e030492b02",
   "metadata": {},
   "outputs": [],
   "source": [
    "np.dot(true_to_fit, true_grad)"
   ]
  },
  {
   "cell_type": "code",
   "execution_count": null,
   "id": "b218350e-0a1c-443d-a57c-5aae299c62b1",
   "metadata": {},
   "outputs": [],
   "source": [
    "np.rad2deg(np.arccos(np.dot(true_to_fit, true_grad)))"
   ]
  },
  {
   "cell_type": "code",
   "execution_count": null,
   "id": "e0890b2f-0d24-4b23-a197-a2d114397e7a",
   "metadata": {},
   "outputs": [],
   "source": [
    "np.linalg.norm(true_grad)"
   ]
  },
  {
   "cell_type": "code",
   "execution_count": null,
   "id": "6671869c-f0bd-4b8a-a870-ee8a5867c8ef",
   "metadata": {},
   "outputs": [],
   "source": [
    "test = np.random.normal(size=true_to_fit.shape)\n",
    "test /= np.linalg.norm(test)"
   ]
  },
  {
   "cell_type": "code",
   "execution_count": null,
   "id": "d83a51ad-7206-4c94-92a2-b384312c39e4",
   "metadata": {},
   "outputs": [],
   "source": [
    "np.rad2deg(np.arccos(np.dot(test, true_to_fit)))"
   ]
  },
  {
   "cell_type": "code",
   "execution_count": null,
   "id": "7f133d3e-7e19-4e40-b686-55136079a484",
   "metadata": {},
   "outputs": [],
   "source": []
  },
  {
   "cell_type": "code",
   "execution_count": null,
   "id": "26df3568-d87e-4df3-9193-74496761337d",
   "metadata": {},
   "outputs": [],
   "source": []
  }
 ],
 "metadata": {
  "kernelspec": {
   "display_name": "neuro",
   "language": "python",
   "name": "neuro"
  },
  "language_info": {
   "codemirror_mode": {
    "name": "ipython",
    "version": 3
   },
   "file_extension": ".py",
   "mimetype": "text/x-python",
   "name": "python",
   "nbconvert_exporter": "python",
   "pygments_lexer": "ipython3",
   "version": "3.7.9"
  }
 },
 "nbformat": 4,
 "nbformat_minor": 5
}
