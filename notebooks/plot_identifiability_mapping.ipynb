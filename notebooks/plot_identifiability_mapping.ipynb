{
 "cells": [
  {
   "cell_type": "code",
   "execution_count": null,
   "id": "5639abdc",
   "metadata": {},
   "outputs": [],
   "source": [
    "import matplotlib.pyplot as plt\n",
    "import numpy as np\n",
    "import scipy\n",
    "\n",
    "from importlib import reload\n",
    "from matplotlib import rc\n",
    "from mpl_lego import style\n",
    "from neurobiases import EMSolver, TriangularModel\n",
    "from sklearn.decomposition import PCA\n",
    "%matplotlib inline"
   ]
  },
  {
   "cell_type": "code",
   "execution_count": null,
   "id": "e61cc2a6",
   "metadata": {},
   "outputs": [],
   "source": [
    "style.use_latex_style()"
   ]
  },
  {
   "cell_type": "code",
   "execution_count": null,
   "id": "655784c4",
   "metadata": {},
   "outputs": [],
   "source": [
    "K = 1"
   ]
  },
  {
   "cell_type": "code",
   "execution_count": null,
   "id": "da1fb00b",
   "metadata": {},
   "outputs": [],
   "source": [
    "# Create triangular model and draw data\n",
    "tm = TriangularModel(\n",
    "    model='linear',\n",
    "    parameter_design='direct_response',\n",
    "    M=10,\n",
    "    N=10,\n",
    "    K=K,\n",
    "    corr_cluster=0.05,\n",
    "    corr_back=0.,\n",
    "    coupling_distribution='gaussian',\n",
    "    coupling_sparsity=0.5,\n",
    "    coupling_loc=0,\n",
    "    coupling_scale=0.25,\n",
    "    coupling_rng=2332,\n",
    "    tuning_distribution='gaussian',\n",
    "    tuning_sparsity=0.5,\n",
    "    tuning_loc=0,\n",
    "    tuning_scale=0.25,\n",
    "    tuning_rng=23456542,\n",
    "    stim_distribution='uniform')\n",
    "X, Y, y = tm.generate_samples(n_samples=2000, rng=2332)"
   ]
  },
  {
   "cell_type": "code",
   "execution_count": null,
   "id": "0eb472bc",
   "metadata": {},
   "outputs": [],
   "source": [
    "# Run sparse solver\n",
    "solver = EMSolver(\n",
    "    X, Y, y, K=K,\n",
    "    solver='scipy_lbfgs',\n",
    "    max_iter=1000,\n",
    "    tol=1e-7,\n",
    "    penalize_B=False,\n",
    "    rng=948512,\n",
    "    fit_intercept=False,\n",
    "    Psi_transform=None,\n",
    "    initialization='random')"
   ]
  },
  {
   "cell_type": "code",
   "execution_count": null,
   "id": "5568c5c4",
   "metadata": {},
   "outputs": [],
   "source": [
    "n_deltas = 20\n",
    "deltas_init = np.sort(np.insert(np.linspace(-1.1, 1.1, n_deltas), 0, 0))\n",
    "n_deltas = deltas_init.size\n",
    "init_params = np.zeros((n_deltas, solver.get_params().size))\n",
    "\n",
    "for idx, delta in enumerate(deltas_init):\n",
    "    copy = solver.copy()\n",
    "    copy.identifiability_transform(delta)\n",
    "    print(copy.Psi_tr_to_Psi()[0])\n",
    "    init_params[idx] = copy.get_params(return_Psi=True)"
   ]
  },
  {
   "cell_type": "code",
   "execution_count": null,
   "id": "83d8b56a",
   "metadata": {},
   "outputs": [],
   "source": [
    "deltas_fit = np.linspace(-0.18, 0.18, n_deltas)\n",
    "fit_ident_params = np.zeros((n_deltas, solver.get_params().size))\n",
    "\n",
    "fit_solver = solver.copy().fit_em()\n",
    "\n",
    "for idx, delta in enumerate(deltas_fit):\n",
    "    copy = fit_solver.copy()\n",
    "    copy.identifiability_transform(delta)\n",
    "    print(copy.Psi_tr_to_Psi()[0])\n",
    "    fit_ident_params[idx] = copy.get_params(return_Psi=True)"
   ]
  },
  {
   "cell_type": "code",
   "execution_count": null,
   "id": "210cbe87",
   "metadata": {},
   "outputs": [],
   "source": [
    "fit_params = np.zeros((n_deltas, solver.get_params().size))\n",
    "\n",
    "for idx, delta in enumerate(deltas_init):\n",
    "    print(idx)\n",
    "    solver_copy = solver.copy()\n",
    "    solver_copy.identifiability_transform(delta)\n",
    "    solver_copy.fit_em()\n",
    "    fit_params[idx] = solver_copy.get_params(return_Psi=True)"
   ]
  },
  {
   "cell_type": "code",
   "execution_count": null,
   "id": "f1746e85",
   "metadata": {},
   "outputs": [],
   "source": [
    "pca = PCA(2)\n",
    "fit_transformed = pca.fit_transform(fit_ident_params)\n",
    "fit_per_transformed = pca.transform(fit_params)"
   ]
  },
  {
   "cell_type": "code",
   "execution_count": null,
   "id": "7a020b25",
   "metadata": {},
   "outputs": [],
   "source": [
    "fig, ax = plt.subplots(1, 1, figsize=(6, 6))\n",
    "\n",
    "ax.plot(\n",
    "    fit_transformed[:, 0],\n",
    "    fit_transformed[:, 1],\n",
    "    color='black',\n",
    "    lw=3,\n",
    "    zorder=-1)\n",
    "ax.scatter(\n",
    "    fit_per_transformed[:, 0],\n",
    "    fit_per_transformed[:, 1],\n",
    "    marker='o',\n",
    "    color='red',\n",
    "    lw=3,\n",
    "    s=100,\n",
    "    edgecolor='white',\n",
    "    linewidth=0.6,\n",
    "    alpha=0.75)\n",
    "\n",
    "ax.set_xlabel(r'\\textbf{PC 1 (Linear subspace)}', fontsize=18)\n",
    "ax.set_ylabel(r'\\textbf{PC 2 (Private variance)}', fontsize=18)\n",
    "ax.tick_params(labelsize=12)\n",
    "plt.savefig('identifiability_mapping_experiment.pdf', bbox_inches='tight')"
   ]
  },
  {
   "cell_type": "code",
   "execution_count": null,
   "id": "0345186c-89e2-48ff-9a7e-4dc5718a5a70",
   "metadata": {},
   "outputs": [],
   "source": []
  }
 ],
 "metadata": {
  "kernelspec": {
   "display_name": "neuro",
   "language": "python",
   "name": "neuro"
  },
  "language_info": {
   "codemirror_mode": {
    "name": "ipython",
    "version": 3
   },
   "file_extension": ".py",
   "mimetype": "text/x-python",
   "name": "python",
   "nbconvert_exporter": "python",
   "pygments_lexer": "ipython3",
   "version": "3.7.9"
  }
 },
 "nbformat": 4,
 "nbformat_minor": 5
}
