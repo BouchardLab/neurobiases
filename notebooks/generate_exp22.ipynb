{
 "cells": [
  {
   "cell_type": "code",
   "execution_count": null,
   "id": "c7b70cd2",
   "metadata": {},
   "outputs": [],
   "source": [
    "import numpy as np\n",
    "import os\n",
    "\n",
    "from neurobiases.experiments import generate_means_exp"
   ]
  },
  {
   "cell_type": "code",
   "execution_count": null,
   "id": "a2c42b3e",
   "metadata": {},
   "outputs": [],
   "source": [
    "tag = 'exp22'\n",
    "params_folder = f'/storage/fits/neurobiases/{tag}'\n",
    "N = 10\n",
    "M = 10\n",
    "K = 1\n",
    "D = 2000\n",
    "n_models = 3\n",
    "n_datasets = 10\n",
    "n_coupling_locs = 5\n",
    "coupling_loc_min = -1.\n",
    "coupling_loc_max = 1.\n",
    "n_tuning_locs = 5\n",
    "tuning_loc_min = -1.\n",
    "tuning_loc_max = 1.\n",
    "coupling_rng = None\n",
    "tuning_rng = None\n",
    "dataset_rng = None\n",
    "fitter_rng = None\n",
    "coupling_distribution = 'gaussian'\n",
    "coupling_sparsity = 0.5\n",
    "coupling_scale = 0.25\n",
    "tuning_distribution = 'gaussian'\n",
    "tuning_sparsity = 0.5\n",
    "tuning_scale = 0.25\n",
    "corr_cluster = 0.25\n",
    "corr_back = 0.10\n",
    "coupling_rng = 2132021\n",
    "tuning_rng = 23111993\n",
    "dataset_rng = 9331966\n",
    "fitter_rng = 4134198"
   ]
  },
  {
   "cell_type": "code",
   "execution_count": null,
   "id": "4dc5bff6",
   "metadata": {},
   "outputs": [],
   "source": [
    "generate_means_exp(\n",
    "    tag=tag,\n",
    "    params_folder=params_folder,\n",
    "    N=N,\n",
    "    M=M,\n",
    "    K=K,\n",
    "    D=D,\n",
    "    n_models=n_models,\n",
    "    n_datasets=n_datasets,\n",
    "    n_coupling_locs=n_coupling_locs,\n",
    "    coupling_loc_min=coupling_loc_min,\n",
    "    coupling_loc_max=coupling_loc_max,\n",
    "    n_tuning_locs=n_tuning_locs,\n",
    "    tuning_loc_min=tuning_loc_min,\n",
    "    coupling_rng=coupling_rng,\n",
    "    tuning_rng=tuning_rng,\n",
    "    dataset_rng=dataset_rng,\n",
    "    fitter_rng=fitter_rng,\n",
    "    coupling_distribution=coupling_distribution,\n",
    "    coupling_sparsity=coupling_sparsity,\n",
    "    coupling_scale=coupling_scale,\n",
    "    tuning_distribution=tuning_distribution,\n",
    "    tuning_sparsity=tuning_sparsity,\n",
    "    tuning_scale=tuning_scale,\n",
    "    corr_cluster=corr_cluster,\n",
    "    corr_back=corr_back)"
   ]
  }
 ],
 "metadata": {
  "kernelspec": {
   "display_name": "neuro",
   "language": "python",
   "name": "neuro"
  },
  "language_info": {
   "codemirror_mode": {
    "name": "ipython",
    "version": 3
   },
   "file_extension": ".py",
   "mimetype": "text/x-python",
   "name": "python",
   "nbconvert_exporter": "python",
   "pygments_lexer": "ipython3",
   "version": "3.7.9"
  }
 },
 "nbformat": 4,
 "nbformat_minor": 5
}
