{
 "cells": [
  {
   "cell_type": "code",
   "execution_count": 1,
   "metadata": {},
   "outputs": [],
   "source": [
    "import matplotlib.pyplot as plt\n",
    "import numpy as np\n",
    "\n",
    "from importlib import reload\n",
    "from matplotlib import rc\n",
    "from neurobiases import (TriangularModel,\n",
    "                         EMSolver,\n",
    "                         solver_utils)\n",
    "%matplotlib inline"
   ]
  },
  {
   "cell_type": "code",
   "execution_count": 2,
   "metadata": {},
   "outputs": [],
   "source": [
    "tm = TriangularModel(\n",
    "    model='linear',\n",
    "    parameter_design='direct_response',\n",
    "    M=10,\n",
    "    N=10,\n",
    "    K=1,\n",
    "    corr_cluster=0.25,\n",
    "    corr_back=0.1,\n",
    "    coupling_distribution='gaussian',\n",
    "    coupling_sparsity=0.5,\n",
    "    coupling_loc=0.,\n",
    "    coupling_scale=0.25,\n",
    "    coupling_rng=2332,\n",
    "    tuning_distribution='gaussian',\n",
    "    tuning_sparsity=0.5,\n",
    "    tuning_loc=0.,\n",
    "    tuning_scale=0.25,\n",
    "    tuning_rng=23456542,\n",
    "    stim_distribution='uniform'\n",
    ")"
   ]
  },
  {
   "cell_type": "code",
   "execution_count": 3,
   "metadata": {},
   "outputs": [],
   "source": [
    "X, Y, y = tm.generate_samples(n_samples=1000, rng=2332)"
   ]
  },
  {
   "cell_type": "code",
   "execution_count": 4,
   "metadata": {},
   "outputs": [
    {
     "name": "stdout",
     "output_type": "stream",
     "text": [
      "Initial marginal likelihood: 1356.116774\n",
      "Iteration 1, del=15.730496193, mll=22688.506528\n",
      "Iteration 2, del=0.002562105, mll=22746.636872\n",
      "Iteration 3, del=0.011447671, mll=23007.032877\n",
      "Iteration 4, del=0.009981463, mll=23236.676726\n",
      "Iteration 5, del=0.002406513, mll=23292.596092\n",
      "Iteration 6, del=0.000603415, mll=23306.651199\n",
      "Iteration 7, del=0.000190792, mll=23311.097910\n",
      "Iteration 8, del=0.000071867, mll=23312.773211\n",
      "Iteration 9, del=0.000026801, mll=23313.398021\n",
      "Iteration 10, del=0.000008470, mll=23313.595493\n",
      "Iteration 11, del=0.000001828, mll=23313.638115\n",
      "Iteration 12, del=0.000002159, mll=23313.688459\n",
      "Iteration 13, del=0.000000360, mll=23313.696860\n",
      "Iteration 14, del=0.000000692, mll=23313.713000\n",
      "Iteration 15, del=0.000000860, mll=23313.733046\n",
      "Iteration 16, del=0.000001373, mll=23313.701044\n",
      "Iteration 17, del=0.000000621, mll=23313.686575\n",
      "Iteration 18, del=0.000000187, mll=23313.690943\n",
      "Iteration 19, del=0.000001577, mll=23313.654188\n",
      "Iteration 20, del=0.000000147, mll=23313.657623\n"
     ]
    }
   ],
   "source": [
    "solver = EMSolver(\n",
    "    X, Y, y, K=1,\n",
    "    solver='ow_lbfgs',\n",
    "    max_iter=20,\n",
    "    tol=0,\n",
    "    c_coupling=1e-2,\n",
    "    c_tuning=1e-2\n",
    ").fit_em(verbose=True, store_parameters=True)"
   ]
  }
 ],
 "metadata": {
  "kernelspec": {
   "display_name": "neuro",
   "language": "python",
   "name": "neuro"
  },
  "language_info": {
   "codemirror_mode": {
    "name": "ipython",
    "version": 3
   },
   "file_extension": ".py",
   "mimetype": "text/x-python",
   "name": "python",
   "nbconvert_exporter": "python",
   "pygments_lexer": "ipython3",
   "version": "3.7.7"
  },
  "varInspector": {
   "cols": {
    "lenName": 16,
    "lenType": 16,
    "lenVar": 40
   },
   "kernels_config": {
    "python": {
     "delete_cmd_postfix": "",
     "delete_cmd_prefix": "del ",
     "library": "var_list.py",
     "varRefreshCmd": "print(var_dic_list())"
    },
    "r": {
     "delete_cmd_postfix": ") ",
     "delete_cmd_prefix": "rm(",
     "library": "var_list.r",
     "varRefreshCmd": "cat(var_dic_list()) "
    }
   },
   "types_to_exclude": [
    "module",
    "function",
    "builtin_function_or_method",
    "instance",
    "_Feature"
   ],
   "window_display": false
  }
 },
 "nbformat": 4,
 "nbformat_minor": 4
}
