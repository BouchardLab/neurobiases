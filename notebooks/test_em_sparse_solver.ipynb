{
 "cells": [
  {
   "cell_type": "code",
   "execution_count": null,
   "metadata": {},
   "outputs": [],
   "source": [
    "import matplotlib.pyplot as plt\n",
    "import numpy as np\n",
    "\n",
    "from importlib import reload\n",
    "from matplotlib import rc\n",
    "from neurobiases import (TriangularModel,\n",
    "                         EMSolver,\n",
    "                         TCSolver,\n",
    "                         solver_utils,\n",
    "                         plot)\n",
    "\n",
    "%matplotlib inline"
   ]
  },
  {
   "cell_type": "code",
   "execution_count": null,
   "metadata": {},
   "outputs": [],
   "source": [
    "rc('text', usetex=True)\n",
    "rc('font', **{'family': 'serif'})"
   ]
  },
  {
   "cell_type": "code",
   "execution_count": null,
   "metadata": {},
   "outputs": [],
   "source": [
    "tuning_kwargs, coupling_kwargs, noise_kwargs, stim_kwargs = \\\n",
    "    TriangularModel.generate_kwargs(\n",
    "        parameter_design='direct_response',\n",
    "        M=10, N=15, K=1, corr_cluster=0.4, corr_back=0.1,\n",
    "        tuning_sparsity=0.5, coupling_sparsity=0.5,\n",
    "        tuning_random_state=2332, coupling_random_state=2332)"
   ]
  },
  {
   "cell_type": "code",
   "execution_count": null,
   "metadata": {},
   "outputs": [],
   "source": [
    "tm = TriangularModel(\n",
    "    model='linear',\n",
    "    parameter_design='direct_response',\n",
    "    tuning_kwargs=tuning_kwargs,\n",
    "    coupling_kwargs=coupling_kwargs,\n",
    "    noise_kwargs=noise_kwargs,\n",
    "    stim_kwargs=stim_kwargs)\n",
    "tm.plot_tuning_curves(neuron='all')\n",
    "plt.show()"
   ]
  },
  {
   "cell_type": "code",
   "execution_count": null,
   "metadata": {},
   "outputs": [],
   "source": [
    "X, Y, y = tm.generate_samples(n_samples=1000, random_state=2332)"
   ]
  },
  {
   "cell_type": "markdown",
   "metadata": {},
   "source": [
    "# Examine sparsity after short optimization under a variety of configurations"
   ]
  },
  {
   "cell_type": "code",
   "execution_count": null,
   "metadata": {},
   "outputs": [],
   "source": [
    "n_lambdas = 30\n",
    "tuning_lambdas = np.insert(np.logspace(-3, -1, n_lambdas), 0, 0)\n",
    "coupling_lambdas = np.insert(np.logspace(-2, 2, n_lambdas), 0, 0)\n",
    "n_lambdas += 1"
   ]
  },
  {
   "cell_type": "code",
   "execution_count": null,
   "metadata": {},
   "outputs": [],
   "source": [
    "a_srs = np.zeros((n_lambdas, n_lambdas))\n",
    "b_srs = np.zeros_like(a_srs)\n",
    "B_srs = np.zeros_like(a_srs)"
   ]
  },
  {
   "cell_type": "code",
   "execution_count": null,
   "metadata": {},
   "outputs": [],
   "source": [
    "solver = EMSolver(\n",
    "    X, Y, y, K=1,\n",
    "    solver='fista',\n",
    "    max_iter=20,\n",
    "    tol=0,\n",
    "    c_coupling=0,\n",
    "    c_tuning=10\n",
    ").fit_em()"
   ]
  },
  {
   "cell_type": "code",
   "execution_count": null,
   "metadata": {
    "scrolled": false
   },
   "outputs": [],
   "source": [
    "%%time\n",
    "for idx1, tuning_lambda in enumerate(tuning_lambdas):\n",
    "    for idx2, coupling_lambda in enumerate(coupling_lambdas):\n",
    "        print(tuning_lambda, coupling_lambda)\n",
    "        solver = EMSolver(\n",
    "            X, Y, y, K=1,\n",
    "            solver='fista',\n",
    "            max_iter=20,\n",
    "            tol=0,\n",
    "            c_coupling=coupling_lambda,\n",
    "            c_tuning=tuning_lambda\n",
    "        ).fit_em()\n",
    "        a_srs[idx1, idx2] = np.count_nonzero(solver.a) / tm.N\n",
    "        b_srs[idx1, idx2] = np.count_nonzero(solver.b) / tm.M\n",
    "        B_srs[idx1, idx2] = np.count_nonzero(solver.B) / (tm.N * tm.M)"
   ]
  },
  {
   "cell_type": "code",
   "execution_count": null,
   "metadata": {},
   "outputs": [],
   "source": [
    "fig, axes = plt.subplots(1, 3, figsize=(15, 5))\n",
    "plt.subplots_adjust(wspace=0.4)\n",
    "\n",
    "axes[0].imshow(a_srs, origin='lower', vmin=0, vmax=1)\n",
    "axes[1].imshow(b_srs, origin='lower', vmin=0, vmax=1)\n",
    "img = axes[2].imshow(B_srs, origin='lower', vmin=0, vmax=1)\n",
    "\n",
    "cax = fig.add_axes([axes[2].get_position().x1 + 0.01,\n",
    "                    axes[2].get_position().y0,\n",
    "                    0.015,\n",
    "                    axes[0].get_position().height])\n",
    "cb = fig.colorbar(img, cax=cax)\n",
    "cb.ax.tick_params(labelsize=18)\n",
    "cb.set_label(r'\\textbf{Selection Ratio}', fontsize=18,\n",
    "             labelpad=22,\n",
    "             rotation=270)\n",
    "for ax in axes:\n",
    "    ax.set_xticks([0, 9, 17, 25])\n",
    "    ax.set_yticks([0, 9, 17, 25])\n",
    "    ax.set_xticklabels([r'$0$', r'$10^{-2}$', r'$10^{-1}$', r'$10^{0}$'])\n",
    "    ax.set_yticklabels([r'$0$', r'$10^{-3}$', r'$10^{-2}$', r'$10^{-1}$'])\n",
    "    ax.set_xlabel(r'\\textbf{Coupling Penalty}', fontsize=20)\n",
    "    ax.set_ylabel(r'\\textbf{Tuning Penalty}', fontsize=20)\n",
    "    ax.tick_params(labelsize=18)\n",
    "    \n",
    "axes[0].set_title(r'\\textbf{Coupling}', fontsize=22)\n",
    "axes[1].set_title(r'\\textbf{Target Tuning}', fontsize=22)\n",
    "axes[2].set_title(r'\\textbf{Non-target Tuning}', fontsize=22)\n",
    "\n",
    "#plt.savefig('em_sparsity_on_coupling2.pdf', bbox_inches='tight')"
   ]
  },
  {
   "cell_type": "code",
   "execution_count": null,
   "metadata": {},
   "outputs": [],
   "source": []
  }
 ],
 "metadata": {
  "kernelspec": {
   "display_name": "neuro",
   "language": "python",
   "name": "neuro"
  },
  "language_info": {
   "codemirror_mode": {
    "name": "ipython",
    "version": 3
   },
   "file_extension": ".py",
   "mimetype": "text/x-python",
   "name": "python",
   "nbconvert_exporter": "python",
   "pygments_lexer": "ipython3",
   "version": "3.7.7"
  },
  "varInspector": {
   "cols": {
    "lenName": 16,
    "lenType": 16,
    "lenVar": 40
   },
   "kernels_config": {
    "python": {
     "delete_cmd_postfix": "",
     "delete_cmd_prefix": "del ",
     "library": "var_list.py",
     "varRefreshCmd": "print(var_dic_list())"
    },
    "r": {
     "delete_cmd_postfix": ") ",
     "delete_cmd_prefix": "rm(",
     "library": "var_list.r",
     "varRefreshCmd": "cat(var_dic_list()) "
    }
   },
   "types_to_exclude": [
    "module",
    "function",
    "builtin_function_or_method",
    "instance",
    "_Feature"
   ],
   "window_display": false
  }
 },
 "nbformat": 4,
 "nbformat_minor": 2
}
