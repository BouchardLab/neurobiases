{
 "cells": [
  {
   "cell_type": "code",
   "execution_count": null,
   "id": "ca4717a3",
   "metadata": {},
   "outputs": [],
   "source": [
    "import matplotlib.pyplot as plt\n",
    "import numpy as np\n",
    "\n",
    "from mpl_lego import style\n",
    "from mpl_toolkits.mplot3d import Axes3D"
   ]
  },
  {
   "cell_type": "code",
   "execution_count": null,
   "id": "71a49aea",
   "metadata": {},
   "outputs": [],
   "source": [
    "style.use_latex_style()"
   ]
  },
  {
   "cell_type": "code",
   "execution_count": null,
   "id": "3fb05fe4",
   "metadata": {},
   "outputs": [],
   "source": [
    "def rotation(theta):\n",
    "    return np.array([[np.cos(theta), np.sin(theta)],\n",
    "                     [-np.sin(theta), -np.cos(theta)]])"
   ]
  },
  {
   "cell_type": "code",
   "execution_count": null,
   "id": "20f2348d",
   "metadata": {},
   "outputs": [],
   "source": [
    "rng = np.random.RandomState(23)\n",
    "span = np.linspace(-5, 5, 100)\n",
    "x, y = np.meshgrid(span, span)\n",
    "z = np.zeros_like(x)\n",
    "\n",
    "fig = plt.figure(figsize=(12, 7))\n",
    "ax = fig.add_subplot(111, projection='3d')\n",
    "\n",
    "surf = ax.plot_surface(x, y, z, alpha=0.5, label=r'$\\Psi_t=0$')\n",
    "surf._edgecolors2d = surf._edgecolor3d\n",
    "surf._facecolors2d = surf._facecolor3d\n",
    "ax.set_zlim(-.1, 1.1)\n",
    "ax.set_xlabel(r'$P_0[a,b_t,l_t]$', size=20, labelpad=10)\n",
    "ax.set_ylabel(r'$P_1[a,b_t,l_t]$', size=20, labelpad=10)\n",
    "ax.zaxis.set_rotate_label(False)\n",
    "ax.set_zlabel(r'$\\Psi_t$', size=20, rotation=0)\n",
    "\n",
    "pts = 21\n",
    "pl = np.stack([np.zeros(pts), np.linspace(-2, 2, pts)], axis=0)\n",
    "z = -pl[1]**2 / 4. + 1\n",
    "pl = rotation(np.pi/4.).dot(pl) + np.array([2, 2])[:, np.newaxis]\n",
    "ax.plot(pl[0], pl[1], z, label=r'$\\theta_0,\\ \\ell(\\theta_0)=c_0$', lw=4)\n",
    "ax.scatter(pl[0, ::4], pl[1, ::4], z[::4], marker='x', c='k', s=50)\n",
    "#ax.scatter(pl[0, pts//2], pl[1, pts//2], z[pts//2], marker='o', c='C1', edgecolor='k', s=60)\n",
    "\n",
    "pl = np.stack([np.zeros(pts), np.linspace(-np.sqrt(2), np.sqrt(2), pts)], axis=0)\n",
    "z = -pl[1]**2 / 4. + .5\n",
    "pl = rotation(np.pi/4.).dot(pl) + np.array([-2, -2])[:, np.newaxis]\n",
    "ax.plot(pl[0], pl[1], z, label=r'$\\theta,\\ \\ell(\\theta)=c$', lw=4)\n",
    "#ax.scatter(pl[0, pts//2], pl[1, pts//2], z[pts//2], marker='o', c='C2', edgecolor='k')\n",
    "pln = pl + rng.randn(*pl.shape) / 20.\n",
    "zn = z + rng.rand(*z.shape) / 20.\n",
    "ax.scatter(pln[0, 4:-4:2], pln[1, 4:-4:2], zn[4:-4:2], marker='x', c='k', s=50)\n",
    "ax.legend(loc='best', prop={'size': 18})\n",
    "plt.savefig('identifiability.pdf', bbox_inches='tight')"
   ]
  }
 ],
 "metadata": {
  "kernelspec": {
   "display_name": "neuro",
   "language": "python",
   "name": "neuro"
  },
  "language_info": {
   "codemirror_mode": {
    "name": "ipython",
    "version": 3
   },
   "file_extension": ".py",
   "mimetype": "text/x-python",
   "name": "python",
   "nbconvert_exporter": "python",
   "pygments_lexer": "ipython3",
   "version": "3.7.9"
  }
 },
 "nbformat": 4,
 "nbformat_minor": 5
}
