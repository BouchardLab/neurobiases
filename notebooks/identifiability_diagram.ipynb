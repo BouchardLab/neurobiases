{
 "cells": [
  {
   "cell_type": "code",
   "execution_count": 91,
   "id": "383e3bde-ac15-425e-9a18-e2263ade269d",
   "metadata": {},
   "outputs": [],
   "source": [
    "import matplotlib.pyplot as plt\n",
    "from mpl_toolkits.mplot3d import Axes3D\n",
    "import numpy as np\n",
    "from neurobiases import plot"
   ]
  },
  {
   "cell_type": "code",
   "execution_count": 92,
   "id": "75dedbdd-d1cd-457b-a8a4-58e71742e19d",
   "metadata": {},
   "outputs": [],
   "source": [
    "def rot(theta):\n",
    "    return np.array([[np.cos(theta), np.sin(theta)],\n",
    "                     [-np.sin(theta), -np.cos(theta)]])"
   ]
  },
  {
   "cell_type": "code",
   "execution_count": null,
   "id": "0378b98e-7aff-4418-9459-55d69e988b81",
   "metadata": {},
   "outputs": [],
   "source": [
    "rng = np.random.RandomState(10)\n",
    "span = np.linspace(-5, 5, 100)\n",
    "x, y = np.meshgrid(span, span)\n",
    "z = np.zeros_like(x)\n",
    "\n",
    "fig = plt.figure(figsize=(10, 6))\n",
    "ax = fig.add_subplot(111, projection='3d')\n",
    "\n",
    "surf = ax.plot_surface(x, y, z, alpha=0.5, label=r'$\\psi_t=0$')\n",
    "surf._edgecolors2d = surf._edgecolors3d\n",
    "surf._facecolors2d = surf._facecolors3d\n",
    "ax.set_zlim(-.1, 1.1)\n",
    "ax.set_xlabel(r'$P_0[a,b_t,l_t]$', size=20)\n",
    "ax.set_ylabel(r'$P_1[a,b_t,l_t]$', size=20)\n",
    "ax.set_zlabel(r'$\\psi_t$', size=20)\n",
    "\n",
    "pts = 21\n",
    "pl = np.stack([np.zeros(pts), np.linspace(-2, 2, pts)], axis=0)\n",
    "z = -pl[1]**2 / 4. + 1\n",
    "pl = rot(np.pi/4.).dot(pl) + np.array([2, 2])[:, np.newaxis]\n",
    "ax.plot(pl[0], pl[1], z, label=r'$\\theta_0,\\ \\ell(\\theta_0)=c_0$', lw=2)\n",
    "ax.scatter(pl[0, pts//2], pl[1, pts//2], z[pts//2], marker='o', c='C1', edgecolor='k')\n",
    "ax.scatter(pl[0, ::4], pl[1, ::4], z[::4], marker='x', c='k')\n",
    "\n",
    "pl = np.stack([np.zeros(pts), np.linspace(-np.sqrt(2), np.sqrt(2), pts)], axis=0)\n",
    "z = -pl[1]**2 / 4. + .5\n",
    "pl = rot(np.pi/4.).dot(pl) + np.array([-2, -2])[:, np.newaxis]\n",
    "ax.plot(pl[0], pl[1], z, label=r'$\\theta,\\ \\ell(\\theta)=c$', lw=2)\n",
    "ax.scatter(pl[0, pts//2], pl[1, pts//2], z[pts//2], marker='o', c='C2', edgecolor='k')\n",
    "pln = pl + rng.randn(*pl.shape) / 20.\n",
    "zn = z + rng.rand(*z.shape) / 20.\n",
    "ax.scatter(pln[0, ::4], pln[1, ::4], zn[::4], marker='x', c='k')\n",
    "ax.legend(loc='best')\n",
    "fig.tight_layout()\n",
    "plt.savefig('identifiability.png', dpi=300)"
   ]
  },
  {
   "cell_type": "code",
   "execution_count": null,
   "id": "1ead40f7-edca-4b38-a37d-4eb0584616bf",
   "metadata": {},
   "outputs": [],
   "source": []
  }
 ],
 "metadata": {
  "kernelspec": {
   "display_name": "Python 3",
   "language": "python",
   "name": "python3"
  },
  "language_info": {
   "codemirror_mode": {
    "name": "ipython",
    "version": 3
   },
   "file_extension": ".py",
   "mimetype": "text/x-python",
   "name": "python",
   "nbconvert_exporter": "python",
   "pygments_lexer": "ipython3",
   "version": "3.7.7"
  }
 },
 "nbformat": 4,
 "nbformat_minor": 5
}
