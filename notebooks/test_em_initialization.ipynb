{
 "cells": [
  {
   "cell_type": "code",
   "execution_count": null,
   "metadata": {},
   "outputs": [],
   "source": [
    "import matplotlib.pyplot as plt\n",
    "import numpy as np\n",
    "\n",
    "from importlib import reload\n",
    "from matplotlib import rc\n",
    "from neurobiases import (TriangularModel,\n",
    "                         EMSolver,\n",
    "                         TCSolver,\n",
    "                         solver_utils,\n",
    "                         plot)\n",
    "\n",
    "%matplotlib inline"
   ]
  },
  {
   "cell_type": "code",
   "execution_count": null,
   "metadata": {},
   "outputs": [],
   "source": [
    "tm = TriangularModel(\n",
    "    model='linear',\n",
    "    parameter_design='direct_response',\n",
    "    M=10,\n",
    "    N=20,\n",
    "    K=2,\n",
    "    corr_cluster=0.4,\n",
    "    corr_back=0.1,\n",
    "    coupling_distribution='gaussian',\n",
    "    coupling_sparsity=0.5,\n",
    "    coupling_loc=0.0,\n",
    "    coupling_scale=1,\n",
    "    coupling_rng=10222020,\n",
    "    tuning_distribution='gaussian',\n",
    "    tuning_loc=0,\n",
    "    tuning_scale=1,\n",
    "    tuning_sparsity=0.6,\n",
    "    tuning_rng=10222020\n",
    ")\n",
    "tm.plot_tuning_curves(neuron='non-target')\n",
    "plt.show()"
   ]
  },
  {
   "cell_type": "code",
   "execution_count": null,
   "metadata": {},
   "outputs": [],
   "source": [
    "X, Y, y = tm.generate_samples(n_samples=1000, random_state=2332)"
   ]
  },
  {
   "cell_type": "code",
   "execution_count": null,
   "metadata": {},
   "outputs": [],
   "source": [
    "solver = TCSolver(X, Y, y, c_tuning=1e0, c_coupling=1e0, solver='cd')"
   ]
  },
  {
   "cell_type": "code",
   "execution_count": null,
   "metadata": {},
   "outputs": [],
   "source": [
    "solver = EMSolver(\n",
    "    X, Y, y, K=1,\n",
    "    solver='ow_lbfgs',\n",
    "    max_iter=20,\n",
    "    tol=0,\n",
    "    c_coupling=1e-4,\n",
    "    c_tuning=1e-4,\n",
    "    initialization='fits'\n",
    ")"
   ]
  },
  {
   "cell_type": "code",
   "execution_count": null,
   "metadata": {},
   "outputs": [],
   "source": [
    "solver_mask = EMSolver(\n",
    "    X, Y, y, K=1,\n",
    "    solver='ow_lbfgs',\n",
    "    max_iter=20,\n",
    "    tol=0,\n",
    "    c_coupling=1e-4,\n",
    "    c_tuning=1e-4,\n",
    "    initialization='fits',\n",
    "    a_mask=tm.a.ravel() != 0,\n",
    "    b_mask=tm.b.ravel() != 0,\n",
    "    B_mask=tm.B != 0\n",
    ")"
   ]
  }
 ],
 "metadata": {
  "kernelspec": {
   "display_name": "neuro",
   "language": "python",
   "name": "neuro"
  },
  "language_info": {
   "codemirror_mode": {
    "name": "ipython",
    "version": 3
   },
   "file_extension": ".py",
   "mimetype": "text/x-python",
   "name": "python",
   "nbconvert_exporter": "python",
   "pygments_lexer": "ipython3",
   "version": "3.7.7"
  }
 },
 "nbformat": 4,
 "nbformat_minor": 4
}
