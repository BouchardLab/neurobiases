{
 "cells": [
  {
   "cell_type": "code",
   "execution_count": null,
   "id": "incorporate-officer",
   "metadata": {},
   "outputs": [],
   "source": [
    "import matplotlib.pyplot as plt\n",
    "import numpy as np\n",
    "\n",
    "from neurobiases import TriangularModel\n",
    "\n",
    "%matplotlib inline"
   ]
  },
  {
   "cell_type": "code",
   "execution_count": null,
   "id": "smart-doctor",
   "metadata": {},
   "outputs": [],
   "source": [
    "tm = TriangularModel(\n",
    "    model='linear',\n",
    "    parameter_design='direct_response',\n",
    "    N=30,\n",
    "    coupling_distribution='symmetric_lognormal',\n",
    "    coupling_sparsity=0.5,\n",
    "    coupling_loc=-0.4,\n",
    "    coupling_scale=0.25,\n",
    "    M=28,\n",
    "    tuning_distribution='noisy_hann_window',\n",
    "    tuning_sparsity=0.5,\n",
    "    K=1,\n",
    "    tuning_rng=223421\n",
    ")"
   ]
  },
  {
   "cell_type": "code",
   "execution_count": null,
   "id": "surgical-outreach",
   "metadata": {},
   "outputs": [],
   "source": [
    "b_first = tm.b.ravel()\n",
    "_, b_second, _, _ = tm.identifiability_transform(delta=np.array([100.]), update=False)"
   ]
  },
  {
   "cell_type": "code",
   "execution_count": null,
   "id": "floral-seeking",
   "metadata": {},
   "outputs": [],
   "source": [
    "fig, ax = plt.subplots(1, 1, figsize=(9, 4))\n",
    "\n",
    "ax.plot(b_first, color='black', marker='o', linewidth=3, markersize=8)\n",
    "#ax.plot(b_second, color='red', marker='o', linewidth=3, markersize=8)\n",
    "\n",
    "ax.set_xticks([])\n",
    "ax.set_ylim([-10, 400])\n",
    "ax.set_ylabel(r'\\textbf{Parameter Value}', fontsize=18)\n",
    "ax.set_ylabel(r'\\textbf{Parameter Value}', fontsize=18)\n",
    "\n",
    "\n",
    "ax.tick_params(labelsize=13)\n",
    "ax.set_yticks([0, 100, 200, 300, 400])\n",
    "ax.set_xlabel(r'\\textbf{Tuning Parameter Index}', fontsize=20)\n",
    "plt.savefig('identifiability2.pdf', bbox_inches='tight')"
   ]
  },
  {
   "cell_type": "code",
   "execution_count": null,
   "id": "careful-morrison",
   "metadata": {},
   "outputs": [],
   "source": [
    "fig, ax = plt.subplots(1, 1, figsize=(9, 4))\n",
    "\n",
    "ax.plot(b_first, color='black', marker='o', linewidth=3, markersize=8)\n",
    "ax.plot(b_second, color='red', marker='o', linewidth=3, markersize=8)\n",
    "\n",
    "ax.set_xticks([])\n",
    "ax.set_ylim([-10, 400])\n",
    "ax.set_ylabel(r'\\textbf{Parameter Value}', fontsize=18)\n",
    "ax.set_ylabel(r'\\textbf{Parameter Value}', fontsize=18)\n",
    "\n",
    "\n",
    "ax.tick_params(labelsize=13)\n",
    "ax.set_yticks([0, 100, 200, 300, 400])\n",
    "ax.set_xlabel(r'\\textbf{Tuning Parameter Index}', fontsize=20)\n",
    "plt.savefig('identifiability.pdf', bbox_inches='tight')"
   ]
  }
 ],
 "metadata": {
  "kernelspec": {
   "display_name": "neuro",
   "language": "python",
   "name": "neuro"
  },
  "language_info": {
   "codemirror_mode": {
    "name": "ipython",
    "version": 3
   },
   "file_extension": ".py",
   "mimetype": "text/x-python",
   "name": "python",
   "nbconvert_exporter": "python",
   "pygments_lexer": "ipython3",
   "version": "3.7.9"
  }
 },
 "nbformat": 4,
 "nbformat_minor": 5
}
