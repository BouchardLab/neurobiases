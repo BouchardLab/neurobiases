{
 "cells": [
  {
   "cell_type": "code",
   "execution_count": 1,
   "id": "69ca24c5",
   "metadata": {},
   "outputs": [],
   "source": [
    "import matplotlib.pyplot as plt\n",
    "import numpy as np\n",
    "import scipy\n",
    "\n",
    "from importlib import reload\n",
    "from matplotlib import rc\n",
    "from neurobiases import EMSolver, TriangularModel\n",
    "from scipy.optimize import root\n",
    "from sklearn.decomposition import PCA\n",
    "%matplotlib inline"
   ]
  },
  {
   "cell_type": "code",
   "execution_count": 2,
   "id": "e7e39b75",
   "metadata": {},
   "outputs": [],
   "source": [
    "K = 1"
   ]
  },
  {
   "cell_type": "code",
   "execution_count": 3,
   "id": "a7da3043",
   "metadata": {},
   "outputs": [],
   "source": [
    "# Create triangular model and draw data\n",
    "tm = TriangularModel(\n",
    "    model='linear',\n",
    "    parameter_design='direct_response',\n",
    "    M=10,\n",
    "    N=10,\n",
    "    K=K,\n",
    "    corr_cluster=0.25,\n",
    "    corr_back=0.1,\n",
    "    coupling_distribution='gaussian',\n",
    "    coupling_sparsity=0.5,\n",
    "    coupling_loc=0,\n",
    "    coupling_scale=0.25,\n",
    "    coupling_rng=2332,\n",
    "    tuning_distribution='gaussian',\n",
    "    tuning_sparsity=0.5,\n",
    "    tuning_loc=0,\n",
    "    tuning_scale=0.25,\n",
    "    tuning_rng=23456542,\n",
    "    stim_distribution='uniform')\n",
    "X, Y, y = tm.generate_samples(n_samples=2000, rng=2332)"
   ]
  },
  {
   "cell_type": "code",
   "execution_count": 4,
   "id": "12e67a58",
   "metadata": {},
   "outputs": [
    {
     "name": "stdout",
     "output_type": "stream",
     "text": [
      "[-1.04038595  1.01814818]\n"
     ]
    }
   ],
   "source": [
    "# Run sparse solver\n",
    "solver = EMSolver(\n",
    "    X, Y, y, K=K,\n",
    "    solver='scipy_lbfgs',\n",
    "    max_iter=20,\n",
    "    tol=1e-7,\n",
    "    penalize_B=False,\n",
    "    rng=3370506,\n",
    "    fit_intercept=False,\n",
    "    Psi_transform=None,\n",
    "    initialization='random',\n",
    "    save_hessian=True)\n",
    "print(solver.get_delta_bounds())"
   ]
  },
  {
   "cell_type": "code",
   "execution_count": 5,
   "id": "815e4ec3",
   "metadata": {},
   "outputs": [],
   "source": [
    "solver.identifiability_transform(np.array([1.]))"
   ]
  },
  {
   "cell_type": "code",
   "execution_count": 6,
   "id": "06e868be",
   "metadata": {},
   "outputs": [
    {
     "name": "stdout",
     "output_type": "stream",
     "text": [
      "[-2.04028595  0.01824817]\n"
     ]
    }
   ],
   "source": [
    "print(solver.get_delta_bounds())"
   ]
  },
  {
   "cell_type": "code",
   "execution_count": 7,
   "id": "59b01448",
   "metadata": {},
   "outputs": [
    {
     "data": {
      "text/plain": [
       "<neurobiases.EMSolver.EMSolver at 0x7fa1bdd591d0>"
      ]
     },
     "execution_count": 7,
     "metadata": {},
     "output_type": "execute_result"
    }
   ],
   "source": [
    "solver.fit_em()"
   ]
  },
  {
   "cell_type": "code",
   "execution_count": 8,
   "id": "20c36e8f",
   "metadata": {},
   "outputs": [],
   "source": [
    "neg_gs = []\n",
    "hesss = []\n",
    "hess_grad = []\n",
    "nits = []\n",
    "xs = []\n",
    "for opt in solver.all_results:\n",
    "    g = opt.jac\n",
    "    hess_inv = opt.hess_inv\n",
    "    nit = opt.nit\n",
    "    neg_gs.append(-g)\n",
    "    hesss.append(hess_inv)\n",
    "    nits.append(nit)\n",
    "    xs.append(opt.x)\n",
    "    hess_grad.append(-hess_inv.todense() @ g)"
   ]
  },
  {
   "cell_type": "code",
   "execution_count": 20,
   "id": "4656cd12",
   "metadata": {},
   "outputs": [
    {
     "data": {
      "text/plain": [
       "<matplotlib.lines.Line2D at 0x7fa1aa8b5110>"
      ]
     },
     "execution_count": 20,
     "metadata": {},
     "output_type": "execute_result"
    },
    {
     "data": {
      "image/png": "[encoded data removed]",
      "text/plain": [
       "<Figure size 432x288 with 1 Axes>"
      ]
     },
     "metadata": {
      "needs_background": "light"
     },
     "output_type": "display_data"
    }
   ],
   "source": [
    "plt.plot(nits)\n",
    "plt.axvline(22500)"
   ]
  },
  {
   "cell_type": "code",
   "execution_count": 10,
   "id": "399058ce",
   "metadata": {},
   "outputs": [],
   "source": [
    "n_em_steps = len(nits)\n",
    "divide = 10\n",
    "neg_g_transformed_vals = np.zeros(n_em_steps // divide + 1)\n",
    "hess_grad_transformed_vals = np.zeros(n_em_steps // divide + 1)\n",
    "params_transformed_vals = np.zeros_like(neg_g_transformed_vals)\n",
    "\n",
    "for ii, iter_idx in enumerate(range(0, n_em_steps, divide)):\n",
    "    copy = solver.copy()\n",
    "    copy.set_all_params(xs[iter_idx])\n",
    "\n",
    "    bounds = copy.get_delta_bounds()\n",
    "    n_deltas = 25\n",
    "    deltas_init = np.linspace(bounds[0], bounds[1], n_deltas)\n",
    "    params = np.zeros((n_deltas, copy.n_params))\n",
    "\n",
    "    for idx, delta in enumerate(deltas_init):\n",
    "        copy2 = copy.copy()\n",
    "        copy2.identifiability_transform(delta)\n",
    "        params[idx] = copy2.get_params(return_Psi=True)\n",
    "\n",
    "    pca = PCA(1)\n",
    "    params_transformed = pca.fit_transform(params)\n",
    "    real_params_transformed = pca.transform(xs[iter_idx][np.newaxis]).ravel()\n",
    "    neg_g_transformed_vals[ii] = pca.components_ @ neg_gs[iter_idx]\n",
    "    hess_grad_transformed_vals[ii] = pca.components_ @ hess_grad[iter_idx]\n",
    "    params_transformed_vals[ii] = real_params_transformed.item()"
   ]
  },
  {
   "cell_type": "code",
   "execution_count": 11,
   "id": "0ab4e330",
   "metadata": {},
   "outputs": [
    {
     "data": {
      "text/plain": [
       "(array([0.000e+00, 0.000e+00, 0.000e+00, 0.000e+00, 0.000e+00, 0.000e+00,\n",
       "        0.000e+00, 0.000e+00, 0.000e+00, 0.000e+00, 0.000e+00, 0.000e+00,\n",
       "        0.000e+00, 0.000e+00, 0.000e+00, 6.000e+00, 2.800e+01, 2.050e+02,\n",
       "        2.490e+02, 1.509e+03, 1.710e+02, 4.900e+01, 3.900e+01, 1.600e+01,\n",
       "        7.000e+00, 2.000e+00, 3.000e+00, 0.000e+00, 0.000e+00, 0.000e+00,\n",
       "        0.000e+00, 0.000e+00, 0.000e+00, 0.000e+00, 0.000e+00, 1.000e+00,\n",
       "        0.000e+00, 0.000e+00, 2.000e+00]),\n",
       " array([-2.        , -1.8974359 , -1.79487179, -1.69230769, -1.58974359,\n",
       "        -1.48717949, -1.38461538, -1.28205128, -1.17948718, -1.07692308,\n",
       "        -0.97435897, -0.87179487, -0.76923077, -0.66666667, -0.56410256,\n",
       "        -0.46153846, -0.35897436, -0.25641026, -0.15384615, -0.05128205,\n",
       "         0.05128205,  0.15384615,  0.25641026,  0.35897436,  0.46153846,\n",
       "         0.56410256,  0.66666667,  0.76923077,  0.87179487,  0.97435897,\n",
       "         1.07692308,  1.17948718,  1.28205128,  1.38461538,  1.48717949,\n",
       "         1.58974359,  1.69230769,  1.79487179,  1.8974359 ,  2.        ]),\n",
       " [<matplotlib.patches.Polygon at 0x7fa1a7eb0990>])"
      ]
     },
     "execution_count": 11,
     "metadata": {},
     "output_type": "execute_result"
    },
    {
     "data": {
      "image/png": "[encoded data removed]",
      "text/plain": [
       "<Figure size 432x288 with 1 Axes>"
      ]
     },
     "metadata": {
      "needs_background": "light"
     },
     "output_type": "display_data"
    }
   ],
   "source": [
    "plt.hist(hess_grad_transformed_vals, bins=np.linspace(-2, 2, 40), histtype='step')\n",
    "plt.hist(neg_g_transformed_vals, bins=np.linspace(-2, 2, 40), histtype='step')"
   ]
  },
  {
   "cell_type": "code",
   "execution_count": 12,
   "id": "48eb0421",
   "metadata": {},
   "outputs": [
    {
     "data": {
      "text/plain": [
       "(array([  5.,   8.,   7.,   4.,   9.,   9.,   7.,  12.,  10.,  20.,  18.,\n",
       "         19.,  28.,  27.,  28.,  46.,  59.,  80., 140., 369., 154.,  94.,\n",
       "         44.,  51.,  32.,  34.,  32.,  25.,  20.,  22.,  21.,  24.,  16.,\n",
       "         12.,   8.,  15.,   6.,  11.,   9.]),\n",
       " array([-2.        , -1.8974359 , -1.79487179, -1.69230769, -1.58974359,\n",
       "        -1.48717949, -1.38461538, -1.28205128, -1.17948718, -1.07692308,\n",
       "        -0.97435897, -0.87179487, -0.76923077, -0.66666667, -0.56410256,\n",
       "        -0.46153846, -0.35897436, -0.25641026, -0.15384615, -0.05128205,\n",
       "         0.05128205,  0.15384615,  0.25641026,  0.35897436,  0.46153846,\n",
       "         0.56410256,  0.66666667,  0.76923077,  0.87179487,  0.97435897,\n",
       "         1.07692308,  1.17948718,  1.28205128,  1.38461538,  1.48717949,\n",
       "         1.58974359,  1.69230769,  1.79487179,  1.8974359 ,  2.        ]),\n",
       " <BarContainer object of 39 artists>)"
      ]
     },
     "execution_count": 12,
     "metadata": {},
     "output_type": "execute_result"
    },
    {
     "data": {
      "image/png": "[encoded data removed]",
      "text/plain": [
       "<Figure size 432x288 with 1 Axes>"
      ]
     },
     "metadata": {
      "needs_background": "light"
     },
     "output_type": "display_data"
    }
   ],
   "source": [
    "plt.hist(hess_grad_transformed_vals - neg_g_transformed_vals, bins=np.linspace(-2, 2, 40))"
   ]
  },
  {
   "cell_type": "code",
   "execution_count": 13,
   "id": "99aa5e60",
   "metadata": {},
   "outputs": [
    {
     "data": {
      "text/plain": [
       "0.029160832294887168"
      ]
     },
     "execution_count": 13,
     "metadata": {},
     "output_type": "execute_result"
    }
   ],
   "source": [
    "np.median(hess_grad_transformed_vals - neg_g_transformed_vals)"
   ]
  },
  {
   "cell_type": "code",
   "execution_count": 26,
   "id": "1e63a71a",
   "metadata": {},
   "outputs": [
    {
     "name": "stdout",
     "output_type": "stream",
     "text": [
      "0.06549769097278724\n",
      "0.0008844923620125586\n",
      "1.7892857761646612\n"
     ]
    }
   ],
   "source": [
    "print(np.median(hess_grad_transformed_vals))\n",
    "print(np.median(neg_g_transformed_vals))\n",
    "print(np.median(params_transformed_vals))"
   ]
  },
  {
   "cell_type": "code",
   "execution_count": 15,
   "id": "d0d0767d",
   "metadata": {},
   "outputs": [
    {
     "name": "stdout",
     "output_type": "stream",
     "text": [
      "-0.3314387686022247\n",
      "-0.4819535052667533\n"
     ]
    }
   ],
   "source": [
    "from scipy.stats import spearmanr\n",
    "print(spearmanr(params_transformed_vals, hess_grad_transformed_vals).correlation)\n",
    "print(spearmanr(params_transformed_vals, neg_g_transformed_vals).correlation)"
   ]
  },
  {
   "cell_type": "code",
   "execution_count": 16,
   "id": "a1ff41f1",
   "metadata": {},
   "outputs": [
    {
     "data": {
      "text/plain": [
       "(-3.0, 3.0)"
      ]
     },
     "execution_count": 16,
     "metadata": {},
     "output_type": "execute_result"
    },
    {
     "data": {
      "image/png": "[encoded data removed]",
      "text/plain": [
       "<Figure size 432x288 with 1 Axes>"
      ]
     },
     "metadata": {
      "needs_background": "light"
     },
     "output_type": "display_data"
    }
   ],
   "source": [
    "plt.scatter(neg_g_transformed_vals, hess_grad_transformed_vals)\n",
    "plt.ylim([-3, 3])"
   ]
  },
  {
   "cell_type": "code",
   "execution_count": 21,
   "id": "c5fb0461",
   "metadata": {},
   "outputs": [
    {
     "name": "stdout",
     "output_type": "stream",
     "text": [
      "6.757752709688446e-06\n",
      "0.0028878132267132475\n",
      "0.005518321979461629\n",
      "0.007898284010954802\n",
      "0.010027699321192803\n",
      "0.011906567910175591\n",
      "0.013534889777903191\n",
      "0.014912664924375613\n",
      "0.01603989334959283\n",
      "0.01691657505355485\n",
      "0.017542710036261688\n",
      "0.017918298297713322\n",
      "0.018043339837909764\n",
      "0.017917834656851022\n",
      "0.01754178275453708\n",
      "0.016915184130967948\n",
      "0.016038038786143627\n",
      "0.014910346720064107\n",
      "0.013532107932729395\n",
      "0.011903322424139494\n",
      "0.010023990194294393\n",
      "0.00789411124319411\n",
      "0.0055136855708386185\n",
      "0.002882713177227947\n",
      "1.1940623620906865e-06\n"
     ]
    }
   ],
   "source": [
    "iter_idx = 22500\n",
    "copy = solver.copy()\n",
    "copy.set_all_params(xs[iter_idx])\n",
    "\n",
    "bounds = copy.get_delta_bounds()\n",
    "n_deltas = 25\n",
    "deltas_init = np.linspace(bounds[0], bounds[1], n_deltas)\n",
    "params = np.zeros((n_deltas, copy.n_params))\n",
    "\n",
    "for idx, delta in enumerate(deltas_init):\n",
    "    copy2 = copy.copy()\n",
    "    copy2.identifiability_transform(delta)\n",
    "    print(copy2.Psi_tr_to_Psi()[0])\n",
    "    params[idx] = copy2.get_params(return_Psi=True)"
   ]
  },
  {
   "cell_type": "code",
   "execution_count": 22,
   "id": "0fb28c26",
   "metadata": {},
   "outputs": [],
   "source": [
    "from sklearn.decomposition import PCA\n",
    "pca = PCA(2)\n",
    "params_transformed = pca.fit_transform(params)\n",
    "real_params_transformed = pca.transform(xs[iter_idx][np.newaxis]).ravel()\n",
    "neg_g_transformed = pca.components_ @ neg_gs[iter_idx]\n",
    "hess_grad_transformed = pca.components_ @ hess_grad[iter_idx]"
   ]
  },
  {
   "cell_type": "code",
   "execution_count": 23,
   "id": "8412b8cd",
   "metadata": {},
   "outputs": [
    {
     "data": {
      "text/plain": [
       "45.07618878670332"
      ]
     },
     "execution_count": 23,
     "metadata": {},
     "output_type": "execute_result"
    }
   ],
   "source": [
    "np.linalg.norm(hesss[iter_idx].todense() - np.identity(142)) / np.linalg.norm(np.identity(142))"
   ]
  },
  {
   "cell_type": "code",
   "execution_count": 25,
   "id": "7f5fe34b",
   "metadata": {},
   "outputs": [
    {
     "data": {
      "text/plain": [
       "[<matplotlib.lines.Line2D at 0x7fa1aad46850>]"
      ]
     },
     "execution_count": 25,
     "metadata": {},
     "output_type": "execute_result"
    },
    {
     "data": {
      "image/png": "[encoded data removed]",
      "text/plain": [
       "<Figure size 432x288 with 1 Axes>"
      ]
     },
     "metadata": {
      "needs_background": "light"
     },
     "output_type": "display_data"
    }
   ],
   "source": [
    "plt.plot(params_transformed[:, 0], params_transformed[:, 1])\n",
    "plt.scatter(real_params_transformed[0], real_params_transformed[1], color='orange')\n",
    "plt.plot([real_params_transformed[0], neg_g_transformed[0] + real_params_transformed[0]],\n",
    "         [real_params_transformed[1], neg_g_transformed[1] + real_params_transformed[1]], color='red')\n",
    "plt.plot([real_params_transformed[0], hess_grad_transformed[0] + real_params_transformed[0]],\n",
    "         [real_params_transformed[1], hess_grad_transformed[1] + real_params_transformed[1]], color='black')"
   ]
  },
  {
   "cell_type": "code",
   "execution_count": null,
   "id": "20737006",
   "metadata": {},
   "outputs": [],
   "source": []
  },
  {
   "cell_type": "code",
   "execution_count": 25,
   "id": "c1409513",
   "metadata": {},
   "outputs": [
    {
     "name": "stdout",
     "output_type": "stream",
     "text": [
      "4.329152645605322e-06\n",
      "0.002914413368435561\n",
      "0.005571443438003469\n",
      "0.007975419361349323\n",
      "0.010126341138473136\n",
      "0.012024208769374902\n",
      "0.013669022254054631\n",
      "0.015060781592512309\n",
      "0.01619948678474794\n",
      "0.017085137830761522\n",
      "0.01771773473055306\n",
      "0.018097277484122556\n",
      "0.018223766091470004\n",
      "0.018097200552595404\n",
      "0.01771758086749876\n",
      "0.017084907036180073\n",
      "0.016199179058639334\n",
      "0.015060396934876551\n",
      "0.013668560664891728\n",
      "0.01202367024868485\n",
      "0.010125725686255931\n",
      "0.007974726977604967\n",
      "0.005570674122731958\n",
      "0.0029135671216369077\n",
      "3.405974319786037e-06\n"
     ]
    }
   ],
   "source": [
    "bounds = solver.get_delta_bounds()\n",
    "n_deltas = 25\n",
    "deltas_init = np.linspace(bounds[0], bounds[1], n_deltas)\n",
    "params = np.zeros((n_deltas, solver.n_params))\n",
    "\n",
    "for idx, delta in enumerate(deltas_init):\n",
    "    copy = solver.copy()\n",
    "    copy.identifiability_transform(delta)\n",
    "    print(copy.Psi_tr_to_Psi()[0])\n",
    "    params[idx] = copy.get_params(return_Psi=True)"
   ]
  },
  {
   "cell_type": "code",
   "execution_count": 26,
   "id": "71af07a1",
   "metadata": {},
   "outputs": [],
   "source": [
    "from sklearn.decomposition import PCA\n",
    "pca = PCA(2)\n",
    "params_transformed = pca.fit_transform(params)\n",
    "grad = solver.mll_grad()\n",
    "grad /= np.linalg.norm(grad)\n",
    "grad_transformed = pca.transform(grad[np.newaxis]).ravel()\n",
    "point_transformed = pca.transform(solver.get_params(return_Psi=True)[np.newaxis]).ravel()"
   ]
  },
  {
   "cell_type": "code",
   "execution_count": 28,
   "id": "0d569849",
   "metadata": {},
   "outputs": [
    {
     "data": {
      "text/plain": [
       "<matplotlib.collections.PathCollection at 0x7f8608f7ecd0>"
      ]
     },
     "execution_count": 28,
     "metadata": {},
     "output_type": "execute_result"
    },
    {
     "data": {
      "image/png": "[encoded data removed]",
      "text/plain": [
       "<Figure size 432x288 with 1 Axes>"
      ]
     },
     "metadata": {
      "needs_background": "light"
     },
     "output_type": "display_data"
    }
   ],
   "source": [
    "plt.plot(params_transformed[:, 0], params_transformed[:, 1])\n",
    "plt.scatter(grad_transformed[0], grad_transformed[1])\n",
    "plt.scatter(point_transformed[0], point_transformed[1])"
   ]
  }
 ],
 "metadata": {
  "kernelspec": {
   "display_name": "neuro",
   "language": "python",
   "name": "neuro"
  },
  "language_info": {
   "codemirror_mode": {
    "name": "ipython",
    "version": 3
   },
   "file_extension": ".py",
   "mimetype": "text/x-python",
   "name": "python",
   "nbconvert_exporter": "python",
   "pygments_lexer": "ipython3",
   "version": "3.7.7"
  }
 },
 "nbformat": 4,
 "nbformat_minor": 5
}
