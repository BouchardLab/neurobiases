{
 "cells": [
  {
   "cell_type": "code",
   "execution_count": null,
   "id": "genetic-morning",
   "metadata": {},
   "outputs": [],
   "source": [
    "import matplotlib.pyplot as plt\n",
    "import numpy as np\n",
    "import scipy\n",
    "\n",
    "from importlib import reload\n",
    "from matplotlib import rc\n",
    "from neurobiases import (TriangularModel,\n",
    "                         EMSolver,\n",
    "                         em_utils,\n",
    "                         solver_utils)\n",
    "%matplotlib inline"
   ]
  },
  {
   "cell_type": "code",
   "execution_count": null,
   "id": "theoretical-blade",
   "metadata": {},
   "outputs": [],
   "source": [
    "plt.rcParams.update({\"text.usetex\": True, \"font.family\": \"serif\"})"
   ]
  },
  {
   "cell_type": "code",
   "execution_count": null,
   "id": "chief-virus",
   "metadata": {},
   "outputs": [],
   "source": [
    "# Choose latent dimensionality\n",
    "K = 4"
   ]
  },
  {
   "cell_type": "code",
   "execution_count": null,
   "id": "numeric-emerald",
   "metadata": {},
   "outputs": [],
   "source": [
    "# Create triangular model and draw data\n",
    "tm = TriangularModel(\n",
    "    model='linear',\n",
    "    parameter_design='direct_response',\n",
    "    M=8,\n",
    "    N=8,\n",
    "    K=K,\n",
    "    corr_cluster=0.01,\n",
    "    corr_back=0.0,\n",
    "    coupling_distribution='gaussian',\n",
    "    coupling_sparsity=0.5,\n",
    "    coupling_loc=0,\n",
    "    coupling_scale=0.25,\n",
    "    coupling_rng=2332,\n",
    "    tuning_distribution='gaussian',\n",
    "    tuning_sparsity=0.5,\n",
    "    tuning_loc=0,\n",
    "    tuning_scale=0.25,\n",
    "    tuning_rng=23456542,\n",
    "    stim_distribution='uniform')\n",
    "X, Y, y = tm.generate_samples(n_samples=100, rng=2332)"
   ]
  },
  {
   "cell_type": "code",
   "execution_count": null,
   "id": "double-winning",
   "metadata": {},
   "outputs": [],
   "source": [
    "# Run sparse solver\n",
    "solver = EMSolver(\n",
    "    X, Y, y, K=K,\n",
    "    solver='ow_lbfgs',\n",
    "    max_iter=2000,\n",
    "    tol=1e-10,\n",
    "    a_mask=tm.a.ravel() != 0,\n",
    "    b_mask=tm.b.ravel() != 0,\n",
    "    c_coupling=0,\n",
    "    c_tuning=0,\n",
    "    penalize_B=False,\n",
    "    rng=948512,\n",
    "    initialization='random')"
   ]
  },
  {
   "cell_type": "code",
   "execution_count": null,
   "id": "published-evolution",
   "metadata": {},
   "outputs": [],
   "source": [
    "solver.fit_em()"
   ]
  },
  {
   "cell_type": "code",
   "execution_count": null,
   "id": "stuck-justice",
   "metadata": {},
   "outputs": [],
   "source": [
    "deltas = np.identity(K) / 100.\n",
    "dx_params = np.zeros((K, solver.get_params().size))\n",
    "\n",
    "for idx, delta in enumerate(deltas):\n",
    "    copy = solver.copy()\n",
    "    copy.identifiability_transform(delta=delta)\n",
    "    dx_params[idx] = copy.get_params(return_Psi=True) - solver.get_params(return_Psi=True)\n",
    "dx_params = scipy.linalg.orth(dx_params.T).T"
   ]
  },
  {
   "cell_type": "code",
   "execution_count": null,
   "id": "destroyed-nutrition",
   "metadata": {},
   "outputs": [],
   "source": [
    "hessian_pre = solver.marginal_likelihood_hessian(wrt_Psi=True)\n",
    "u_pre, v_pre = np.linalg.eigh(hessian_pre)\n"
   ]
  },
  {
   "cell_type": "code",
   "execution_count": null,
   "id": "noticed-visit",
   "metadata": {},
   "outputs": [],
   "source": [
    "plt.plot(np.abs(u_pre), color='k', marker='o', markersize=4)\n",
    "plt.axhline(np.abs(np.dot(np.dot(hessian_pre, dx_params[0]), dx_params[0])))\n",
    "plt.axhline(np.abs(np.dot(np.dot(hessian_pre, dx_params[1]), dx_params[1])))\n",
    "plt.axhline(np.abs(np.dot(np.dot(hessian_pre, dx_params[2]), dx_params[2])))\n",
    "plt.axhline(np.abs(np.dot(np.dot(hessian_pre, dx_params[3]), dx_params[3])))\n",
    "\n",
    "plt.yscale('log')"
   ]
  },
  {
   "cell_type": "code",
   "execution_count": null,
   "id": "historic-worthy",
   "metadata": {},
   "outputs": [],
   "source": [
    "np.dot(np.dot(hessian_pre, dx_params[1]), dx_params[1])"
   ]
  },
  {
   "cell_type": "code",
   "execution_count": null,
   "id": "happy-tablet",
   "metadata": {},
   "outputs": [],
   "source": [
    "np.abs(np.dot(np.dot(hessian_pre, dx_params[2]), dx_params[2]))"
   ]
  },
  {
   "cell_type": "code",
   "execution_count": null,
   "id": "imposed-physiology",
   "metadata": {},
   "outputs": [],
   "source": [
    "np.abs(np.dot(np.dot(hessian_pre, dx_params[1]), dx_params[1]))"
   ]
  },
  {
   "cell_type": "code",
   "execution_count": null,
   "id": "existing-broadway",
   "metadata": {},
   "outputs": [],
   "source": [
    "base_delta = np.random.randn(K) / 100.\n",
    "# Hessian at initialization\n",
    "hessian_pre = solver.marginal_likelihood_hessian(wrt_Psi=True)\n",
    "u_pre, v_pre = np.linalg.eigh(hessian_pre)\n",
    "# dParams initialization\n",
    "copy = solver.copy()\n",
    "copy.identifiability_transform(delta=base_delta)\n",
    "dx_params_pre = copy.get_params(return_Psi=True) - solver.get_params(return_Psi=True)\n",
    "dx_params_pre = dx_params_pre / np.linalg.norm(dx_params_pre)\n",
    "# Fit EM\n",
    "solver.fit_em()\n",
    "# Hessian after fitting\n",
    "hessian_post = solver.marginal_likelihood_hessian(wrt_Psi=True, mask=False)\n",
    "u_post, v_post = np.linalg.eigh(hessian_post)\n",
    "# dX params Post\n",
    "copy = solver.copy()\n",
    "copy.identifiability_transform(delta=base_delta)\n",
    "dx_params_post = copy.get_params(return_Psi=True) - solver.get_params(return_Psi=True)\n",
    "dx_params_post = dx_params_post / np.linalg.norm(dx_params_post)\n",
    "# Hessian after fitting, without L\n",
    "hessian_post_L = solver.marginal_likelihood_hessian(wrt_Psi=True, mask='L')\n",
    "u_post_L, v_post_L = np.linalg.eigh(hessian_post_L)\n",
    "L_idx = np.arange(solver.N + solver.M + solver.N * solver.M + solver.N + 1, solver.get_params().shape[0])\n",
    "L_idx = np.delete(L_idx, np.arange(0, L_idx.size, solver.N + 1))\n",
    "dx_params_post_L = np.delete(dx_params_post, L_idx)\n",
    "# Hessian after fitting, without L and sparse\n",
    "hessian_post_all = solver.marginal_likelihood_hessian(wrt_Psi=True, mask=True)\n",
    "u_post_all, v_post_all = np.linalg.eigh(hessian_post_all)\n",
    "a_idx = np.argwhere(solver.a_mask.ravel() == 0).ravel()\n",
    "b_idx = solver.N + np.argwhere(solver.b_mask.ravel() == 0).ravel()\n",
    "idx = np.concatenate((a_idx, b_idx, L_idx))\n",
    "dx_params_post_all = np.delete(dx_params_post, idx)"
   ]
  },
  {
   "cell_type": "code",
   "execution_count": null,
   "id": "connected-shell",
   "metadata": {},
   "outputs": [],
   "source": [
    "fig, axes = plt.subplots(1, 4, figsize=(14, 3), sharey=True)\n",
    "\n",
    "axes[0].plot(np.abs(u_pre), color='k', marker='o', markersize=4)\n",
    "axes[0].plot(np.abs(u_pre[u_pre < 0]), color='blue', marker='o', markersize=4)\n",
    "axes[0].axhline(np.abs(np.dot(np.dot(hessian_pre, dx_params_pre), dx_params_pre)), color='red')\n",
    "\n",
    "axes[1].plot(np.abs(u_post), color='k', marker='o', markersize=4)\n",
    "axes[1].plot(np.abs(u_post[u_post < 0]), color='blue', marker='o', markersize=4)\n",
    "axes[1].axhline(np.abs(np.dot(np.dot(hessian_post, dx_params_post), dx_params_post)), color='red')\n",
    "\n",
    "axes[2].plot(np.abs(u_post_L), color='k', marker='o', markersize=4)\n",
    "axes[2].plot(np.abs(u_post_L[u_post_L < 0]), color='blue', marker='o', markersize=4)\n",
    "axes[2].axhline(np.abs(np.dot(np.dot(hessian_post_L, dx_params_post_L), dx_params_post_L)), color='red')\n",
    "\n",
    "axes[3].plot(np.abs(u_post_all), color='k', marker='o', markersize=4)\n",
    "axes[3].axhline(np.abs(np.dot(np.dot(hessian_post_all, dx_params_post_all), dx_params_post_all)), color='red')\n",
    "\n",
    "axes[0].set_ylabel(fr'$K={K}$' '\\n' r'$|$\\textbf{Eigenvalue}$|$', fontsize=16)\n",
    "\n",
    "axes[0].set_title(r'\\textbf{Initialization}', fontsize=15)\n",
    "axes[1].set_title(r'\\textbf{Trained}', fontsize=15)\n",
    "axes[2].set_title(r'\\textbf{Trained, no L}', fontsize=15)\n",
    "axes[3].set_title(r'\\textbf{Trained, no identifiability}', fontsize=15)\n",
    "\n",
    "\n",
    "for ax in axes:\n",
    "    ax.set_yscale('log')\n",
    "    ax.set_ylim([1e-2, 1e10])\n",
    "    ax.tick_params(labelsize=14)\n",
    "    ax.set_xlabel(r'\\textbf{Eigenvalue Index}', fontsize=14)\n",
    "\n",
    "plt.tight_layout()\n",
    "# plt.savefig(f'hessian_K={K}_eigs.pdf', bbox_inches='tight')"
   ]
  },
  {
   "cell_type": "code",
   "execution_count": null,
   "id": "novel-entrepreneur",
   "metadata": {},
   "outputs": [],
   "source": [
    "fig, axes = plt.subplots(1, 4, figsize=(14, 3), sharey=True)\n",
    "\n",
    "axes[0].plot(np.dot(v_pre, dx_params_pre)**2, color='k')\n",
    "axes[1].plot(np.dot(v_post, dx_params_post)**2, color='k')\n",
    "axes[2].plot(np.dot(v_post_L, dx_params_post_L)**2, color='k')\n",
    "axes[3].plot(np.dot(v_post_all, dx_params_post_all)**2, color='k')\n",
    "\n",
    "axes[0].set_ylabel(fr'$K={K}$' '\\n' r'\\textbf{Eigenvector Overlap}', fontsize=16)\n",
    "\n",
    "for ax in axes:\n",
    "    #ax.set_yscale('log')\n",
    "    ax.set_ylim(bottom=-0.05)\n",
    "    ax.tick_params(labelsize=14)\n",
    "    ax.set_xlabel(r'\\textbf{Eigenvalue Index}', fontsize=14)\n",
    "\n",
    "axes[0].set_title(r'\\textbf{Initialization}', fontsize=15)\n",
    "axes[1].set_title(r'\\textbf{Trained}', fontsize=15)\n",
    "axes[2].set_title(r'\\textbf{Trained, no L}', fontsize=15)\n",
    "axes[3].set_title(r'\\textbf{Trained, no identifiability}', fontsize=15)\n",
    "\n",
    "plt.tight_layout()\n",
    "plt.savefig(f'hessian_K={K}_overlap.pdf', bbox_inches='tight')"
   ]
  },
  {
   "cell_type": "code",
   "execution_count": null,
   "id": "surface-twelve",
   "metadata": {},
   "outputs": [],
   "source": []
  }
 ],
 "metadata": {
  "kernelspec": {
   "display_name": "neuro",
   "language": "python",
   "name": "neuro"
  },
  "language_info": {
   "codemirror_mode": {
    "name": "ipython",
    "version": 3
   },
   "file_extension": ".py",
   "mimetype": "text/x-python",
   "name": "python",
   "nbconvert_exporter": "python",
   "pygments_lexer": "ipython3",
   "version": "3.7.9"
  }
 },
 "nbformat": 4,
 "nbformat_minor": 5
}
