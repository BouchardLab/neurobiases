{
 "cells": [
  {
   "cell_type": "code",
   "execution_count": null,
   "id": "infrared-delaware",
   "metadata": {},
   "outputs": [],
   "source": [
    "import matplotlib.pyplot as plt\n",
    "import numpy as np\n",
    "import scipy\n",
    "\n",
    "from importlib import reload\n",
    "from matplotlib import rc\n",
    "from neurobiases import (TriangularModel,\n",
    "                         EMSolver,\n",
    "                         em_utils,\n",
    "                         solver_utils)\n",
    "%matplotlib inline"
   ]
  },
  {
   "cell_type": "code",
   "execution_count": null,
   "id": "treated-salon",
   "metadata": {},
   "outputs": [],
   "source": [
    "plt.rcParams.update({\"text.usetex\": True, \"font.family\": \"serif\"})"
   ]
  },
  {
   "cell_type": "code",
   "execution_count": null,
   "id": "nominated-alexandria",
   "metadata": {},
   "outputs": [],
   "source": [
    "# Choose latent dimensionality\n",
    "K = 1"
   ]
  },
  {
   "cell_type": "code",
   "execution_count": null,
   "id": "planned-catholic",
   "metadata": {},
   "outputs": [],
   "source": [
    "# Create triangular model and draw data\n",
    "tm = TriangularModel(\n",
    "    model='linear',\n",
    "    parameter_design='direct_response',\n",
    "    M=10,\n",
    "    N=10,\n",
    "    K=K,\n",
    "    corr_cluster=0.25,\n",
    "    corr_back=0.1,\n",
    "    coupling_distribution='gaussian',\n",
    "    coupling_sparsity=0.5,\n",
    "    coupling_loc=0,\n",
    "    coupling_scale=0.25,\n",
    "    coupling_rng=1307295399,\n",
    "    tuning_distribution='gaussian',\n",
    "    tuning_sparsity=0.5,\n",
    "    tuning_loc=0,\n",
    "    tuning_scale=0.25,\n",
    "    tuning_rng=184955555,\n",
    "    stim_distribution='uniform')\n",
    "X, Y, y = tm.generate_samples(n_samples=500, rng=2105532715)"
   ]
  },
  {
   "cell_type": "code",
   "execution_count": null,
   "id": "checked-haiti",
   "metadata": {},
   "outputs": [],
   "source": [
    "# Run sparse solver\n",
    "solver1 = EMSolver(\n",
    "    X, Y, y, K=K,\n",
    "    solver='ow_lbfgs',\n",
    "    max_iter=1000,\n",
    "    tol=1e-7,\n",
    "    c_coupling=100,\n",
    "    c_tuning=0.7847599703514607,\n",
    "    penalize_B=False,\n",
    "    rng=4131998,\n",
    "    initialization='fits',\n",
    "    fa_rng=2332)\n",
    "solver2 = EMSolver(\n",
    "    X, Y, y, K=K,\n",
    "    solver='ow_lbfgs',\n",
    "    max_iter=1000,\n",
    "    tol=1e-7,\n",
    "    c_coupling=100,\n",
    "    c_tuning=0.7847599703514607,\n",
    "    penalize_B=False,\n",
    "    rng=4131998,\n",
    "    initialization='fits',\n",
    "    fa_rng=2332)"
   ]
  },
  {
   "cell_type": "code",
   "execution_count": null,
   "id": "74c42524-c769-4b68-b981-18605b6373e8",
   "metadata": {},
   "outputs": [],
   "source": [
    "solver1.fit_em(numpy=True, verbose=True, index=False, refit=True)"
   ]
  },
  {
   "cell_type": "code",
   "execution_count": null,
   "id": "3335f8a1-f699-4db2-8b85-3e1962f3368c",
   "metadata": {},
   "outputs": [],
   "source": [
    "solver2.fit_em(numpy=False, verbose=True, index=False, refit=True)"
   ]
  },
  {
   "cell_type": "code",
   "execution_count": null,
   "id": "cb84811c-f11f-4501-90a9-7e20c3e31776",
   "metadata": {},
   "outputs": [],
   "source": [
    "print(solver2.a.ravel())\n",
    "print(solver2.b.ravel())"
   ]
  },
  {
   "cell_type": "code",
   "execution_count": null,
   "id": "ad18ff55-ca99-4913-a21f-09c881a057fe",
   "metadata": {},
   "outputs": [],
   "source": [
    "for rep in range(10):\n",
    "    print(rep)\n",
    "    solver.fit_em(index=False, refit=True)\n",
    "    mu, zz, sigma = solver.e_step()\n",
    "\n",
    "    f1, grad1 = solver.f_df_em(\n",
    "        solver.get_params(),\n",
    "        X, Y, y,\n",
    "        a_mask=solver.a_mask,\n",
    "        b_mask=solver.b_mask,\n",
    "        B_mask=solver.B_mask,\n",
    "        train_B=solver.train_B,\n",
    "        train_L_nt=solver.train_L_nt,\n",
    "        train_L=solver.train_L,\n",
    "        train_Psi_tr_nt=solver.train_Psi_tr_nt,\n",
    "        train_Psi_tr=solver.train_Psi_tr,\n",
    "        Psi_transform=solver.Psi_transform,\n",
    "        mu=mu, zz=zz, sigma=sigma,\n",
    "        tuning_to_coupling_ratio=1,\n",
    "        penalize_B=False,\n",
    "        wrt_Psi=True)\n",
    "    f, grad = solver._f_df_em(\n",
    "        solver.get_params(),\n",
    "        X, Y, y,\n",
    "        a_mask=solver.a_mask,\n",
    "        b_mask=solver.b_mask,\n",
    "        B_mask=solver.B_mask,\n",
    "        train_B=solver.train_B,\n",
    "        train_L_nt=solver.train_L_nt,\n",
    "        train_L=solver.train_L,\n",
    "        train_Psi_tr_nt=solver.train_Psi_tr_nt,\n",
    "        train_Psi_tr=solver.train_Psi_tr,\n",
    "        Psi_transform=solver.Psi_transform,\n",
    "        mu=mu, zz=zz, sigma=sigma,\n",
    "        tuning_to_coupling_ratio=1,\n",
    "        penalize_B=False,\n",
    "        wrt_Psi=True)\n",
    "    np.testing.assert_allclose(f, f1)\n",
    "    np.testing.assert_allclose(grad, grad1)"
   ]
  },
  {
   "cell_type": "code",
   "execution_count": null,
   "id": "pressing-wonder",
   "metadata": {},
   "outputs": [],
   "source": [
    "solver.fit_em(refit=True)"
   ]
  },
  {
   "cell_type": "code",
   "execution_count": null,
   "id": "4d873295-6b50-4ac3-a31f-7aa62b00dbde",
   "metadata": {},
   "outputs": [],
   "source": [
    "print(solver.a.ravel())\n",
    "print(solver.b.ravel())"
   ]
  },
  {
   "cell_type": "code",
   "execution_count": null,
   "id": "dad3affe-9156-4a4c-9d1f-443315f119df",
   "metadata": {},
   "outputs": [],
   "source": [
    "print(solver.a.ravel())\n",
    "print(solver.b.ravel())"
   ]
  },
  {
   "cell_type": "code",
   "execution_count": null,
   "id": "joint-lancaster",
   "metadata": {},
   "outputs": [],
   "source": [
    "deltas = np.identity(K) / 100.\n",
    "dx_params = np.zeros((K, solver.get_params().size))\n",
    "\n",
    "for idx, delta in enumerate(deltas):\n",
    "    copy = solver.copy()\n",
    "    copy.identifiability_transform(delta=delta)\n",
    "    dx_params[idx] = copy.get_params(return_Psi=True) - solver.get_params(return_Psi=True)\n",
    "dx_params = scipy.linalg.orth(dx_params.T).T"
   ]
  },
  {
   "cell_type": "code",
   "execution_count": null,
   "id": "eight-marine",
   "metadata": {},
   "outputs": [],
   "source": [
    "hessian_pre = solver.marginal_likelihood_hessian(wrt_Psi=True)\n",
    "u_pre, v_pre = np.linalg.eigh(hessian_pre)\n"
   ]
  },
  {
   "cell_type": "code",
   "execution_count": null,
   "id": "minimal-rebound",
   "metadata": {},
   "outputs": [],
   "source": [
    "plt.plot(np.abs(u_pre), color='k', marker='o', markersize=4)\n",
    "plt.axhline(np.abs(np.dot(np.dot(hessian_pre, dx_params[0]), dx_params[0])))\n",
    "plt.axhline(np.abs(np.dot(np.dot(hessian_pre, dx_params[1]), dx_params[1])))\n",
    "plt.axhline(np.abs(np.dot(np.dot(hessian_pre, dx_params[2]), dx_params[2])))\n",
    "plt.axhline(np.abs(np.dot(np.dot(hessian_pre, dx_params[3]), dx_params[3])))\n",
    "\n",
    "plt.yscale('log')"
   ]
  },
  {
   "cell_type": "code",
   "execution_count": null,
   "id": "confident-english",
   "metadata": {},
   "outputs": [],
   "source": [
    "np.dot(np.dot(hessian_pre, dx_params[1]), dx_params[1])"
   ]
  },
  {
   "cell_type": "code",
   "execution_count": null,
   "id": "found-ozone",
   "metadata": {},
   "outputs": [],
   "source": [
    "np.abs(np.dot(np.dot(hessian_pre, dx_params[2]), dx_params[2]))"
   ]
  },
  {
   "cell_type": "code",
   "execution_count": null,
   "id": "vocational-clinic",
   "metadata": {},
   "outputs": [],
   "source": [
    "np.abs(np.dot(np.dot(hessian_pre, dx_params[1]), dx_params[1]))"
   ]
  },
  {
   "cell_type": "code",
   "execution_count": null,
   "id": "adult-pantyhose",
   "metadata": {},
   "outputs": [],
   "source": [
    "base_delta = np.random.randn(K) / 100.\n",
    "# Hessian at initialization\n",
    "hessian_pre = solver.marginal_likelihood_hessian(wrt_Psi=True)\n",
    "u_pre, v_pre = np.linalg.eigh(hessian_pre)\n",
    "# dParams initialization\n",
    "copy = solver.copy()\n",
    "copy.identifiability_transform(delta=base_delta)\n",
    "dx_params_pre = copy.get_params(return_Psi=True) - solver.get_params(return_Psi=True)\n",
    "dx_params_pre = dx_params_pre / np.linalg.norm(dx_params_pre)\n",
    "# Fit EM\n",
    "solver.fit_em()\n",
    "# Hessian after fitting\n",
    "hessian_post = solver.marginal_likelihood_hessian(wrt_Psi=True, mask=False)\n",
    "u_post, v_post = np.linalg.eigh(hessian_post)\n",
    "# dX params Post\n",
    "copy = solver.copy()\n",
    "copy.identifiability_transform(delta=base_delta)\n",
    "dx_params_post = copy.get_params(return_Psi=True) - solver.get_params(return_Psi=True)\n",
    "dx_params_post = dx_params_post / np.linalg.norm(dx_params_post)\n",
    "# Hessian after fitting, without L\n",
    "hessian_post_L = solver.marginal_likelihood_hessian(wrt_Psi=True, mask='L')\n",
    "u_post_L, v_post_L = np.linalg.eigh(hessian_post_L)\n",
    "L_idx = np.arange(solver.N + solver.M + solver.N * solver.M + solver.N + 1, solver.get_params().shape[0])\n",
    "L_idx = np.delete(L_idx, np.arange(0, L_idx.size, solver.N + 1))\n",
    "dx_params_post_L = np.delete(dx_params_post, L_idx)\n",
    "# Hessian after fitting, without L and sparse\n",
    "hessian_post_all = solver.marginal_likelihood_hessian(wrt_Psi=True, mask=True)\n",
    "u_post_all, v_post_all = np.linalg.eigh(hessian_post_all)\n",
    "a_idx = np.argwhere(solver.a_mask.ravel() == 0).ravel()\n",
    "b_idx = solver.N + np.argwhere(solver.b_mask.ravel() == 0).ravel()\n",
    "idx = np.concatenate((a_idx, b_idx, L_idx))\n",
    "dx_params_post_all = np.delete(dx_params_post, idx)"
   ]
  },
  {
   "cell_type": "code",
   "execution_count": null,
   "id": "simplified-breast",
   "metadata": {},
   "outputs": [],
   "source": [
    "fig, axes = plt.subplots(1, 4, figsize=(14, 3), sharey=True)\n",
    "\n",
    "axes[0].plot(np.abs(u_pre), color='k', marker='o', markersize=4)\n",
    "axes[0].plot(np.abs(u_pre[u_pre < 0]), color='blue', marker='o', markersize=4)\n",
    "axes[0].axhline(np.abs(np.dot(np.dot(hessian_pre, dx_params_pre), dx_params_pre)), color='red')\n",
    "\n",
    "axes[1].plot(np.abs(u_post), color='k', marker='o', markersize=4)\n",
    "axes[1].plot(np.abs(u_post[u_post < 0]), color='blue', marker='o', markersize=4)\n",
    "axes[1].axhline(np.abs(np.dot(np.dot(hessian_post, dx_params_post), dx_params_post)), color='red')\n",
    "\n",
    "axes[2].plot(np.abs(u_post_L), color='k', marker='o', markersize=4)\n",
    "axes[2].plot(np.abs(u_post_L[u_post_L < 0]), color='blue', marker='o', markersize=4)\n",
    "axes[2].axhline(np.abs(np.dot(np.dot(hessian_post_L, dx_params_post_L), dx_params_post_L)), color='red')\n",
    "\n",
    "axes[3].plot(np.abs(u_post_all), color='k', marker='o', markersize=4)\n",
    "axes[3].axhline(np.abs(np.dot(np.dot(hessian_post_all, dx_params_post_all), dx_params_post_all)), color='red')\n",
    "\n",
    "axes[0].set_ylabel(fr'$K={K}$' '\\n' r'$|$\\textbf{Eigenvalue}$|$', fontsize=16)\n",
    "\n",
    "axes[0].set_title(r'\\textbf{Initialization}', fontsize=15)\n",
    "axes[1].set_title(r'\\textbf{Trained}', fontsize=15)\n",
    "axes[2].set_title(r'\\textbf{Trained, no L}', fontsize=15)\n",
    "axes[3].set_title(r'\\textbf{Trained, no identifiability}', fontsize=15)\n",
    "\n",
    "\n",
    "for ax in axes:\n",
    "    ax.set_yscale('log')\n",
    "    ax.set_ylim([1e-2, 1e10])\n",
    "    ax.tick_params(labelsize=14)\n",
    "    ax.set_xlabel(r'\\textbf{Eigenvalue Index}', fontsize=14)\n",
    "\n",
    "plt.tight_layout()\n",
    "# plt.savefig(f'hessian_K={K}_eigs.pdf', bbox_inches='tight')"
   ]
  },
  {
   "cell_type": "code",
   "execution_count": null,
   "id": "photographic-ability",
   "metadata": {},
   "outputs": [],
   "source": [
    "fig, axes = plt.subplots(1, 4, figsize=(14, 3), sharey=True)\n",
    "\n",
    "axes[0].plot(np.dot(v_pre, dx_params_pre)**2, color='k')\n",
    "axes[1].plot(np.dot(v_post, dx_params_post)**2, color='k')\n",
    "axes[2].plot(np.dot(v_post_L, dx_params_post_L)**2, color='k')\n",
    "axes[3].plot(np.dot(v_post_all, dx_params_post_all)**2, color='k')\n",
    "\n",
    "axes[0].set_ylabel(fr'$K={K}$' '\\n' r'\\textbf{Eigenvector Overlap}', fontsize=16)\n",
    "\n",
    "for ax in axes:\n",
    "    #ax.set_yscale('log')\n",
    "    ax.set_ylim(bottom=-0.05)\n",
    "    ax.tick_params(labelsize=14)\n",
    "    ax.set_xlabel(r'\\textbf{Eigenvalue Index}', fontsize=14)\n",
    "\n",
    "axes[0].set_title(r'\\textbf{Initialization}', fontsize=15)\n",
    "axes[1].set_title(r'\\textbf{Trained}', fontsize=15)\n",
    "axes[2].set_title(r'\\textbf{Trained, no L}', fontsize=15)\n",
    "axes[3].set_title(r'\\textbf{Trained, no identifiability}', fontsize=15)\n",
    "\n",
    "plt.tight_layout()\n",
    "plt.savefig(f'hessian_K={K}_overlap.pdf', bbox_inches='tight')"
   ]
  },
  {
   "cell_type": "code",
   "execution_count": null,
   "id": "sapphire-nirvana",
   "metadata": {},
   "outputs": [],
   "source": []
  }
 ],
 "metadata": {
  "kernelspec": {
   "display_name": "neuro",
   "language": "python",
   "name": "neuro"
  },
  "language_info": {
   "codemirror_mode": {
    "name": "ipython",
    "version": 3
   },
   "file_extension": ".py",
   "mimetype": "text/x-python",
   "name": "python",
   "nbconvert_exporter": "python",
   "pygments_lexer": "ipython3",
   "version": "3.7.9"
  }
 },
 "nbformat": 4,
 "nbformat_minor": 5
}
