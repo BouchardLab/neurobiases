{
 "cells": [
  {
   "cell_type": "code",
   "execution_count": 1,
   "metadata": {},
   "outputs": [],
   "source": [
    "import matplotlib\n",
    "import matplotlib.pyplot as plt\n",
    "import numpy as np\n",
    "\n",
    "from neurobiases import EMSolver, ITSFASolver, TriangularModel\n",
    "from sklearn.linear_model import LinearRegression\n",
    "\n",
    "%matplotlib inline"
   ]
  },
  {
   "cell_type": "code",
   "execution_count": 2,
   "metadata": {},
   "outputs": [],
   "source": [
    "N = 40\n",
    "M = 40\n",
    "K = 1\n",
    "D = 1000\n",
    "n_datasets = 10"
   ]
  },
  {
   "cell_type": "code",
   "execution_count": 3,
   "metadata": {},
   "outputs": [],
   "source": [
    "# get parameter dictionaries\n",
    "tuning_kwargs, coupling_kwargs, noise_kwargs, stim_kwargs = \\\n",
    "    TriangularModel.generate_kwargs(N=N, M=M,\n",
    "                                    tuning_sparsity=0.5,\n",
    "                                    coupling_loc=-2,\n",
    "                                    K=1)"
   ]
  },
  {
   "cell_type": "code",
   "execution_count": 4,
   "metadata": {},
   "outputs": [],
   "source": [
    "tm = TriangularModel(\n",
    "    model='linear',\n",
    "    parameter_design='direct_response',\n",
    "    tuning_kwargs=tuning_kwargs,\n",
    "    coupling_kwargs=coupling_kwargs,\n",
    "    noise_kwargs=noise_kwargs,\n",
    "    stim_kwargs=stim_kwargs)"
   ]
  },
  {
   "cell_type": "code",
   "execution_count": 5,
   "metadata": {},
   "outputs": [],
   "source": [
    "# true parameters\n",
    "a = tm.a\n",
    "b = tm.b\n",
    "B = tm.B\n",
    "L = tm.L[:, :-1].T\n",
    "Psi = np.copy(tm.Psi)\n",
    "log_Psi = np.log(Psi)"
   ]
  },
  {
   "cell_type": "code",
   "execution_count": 6,
   "metadata": {},
   "outputs": [],
   "source": [
    "em_a = np.zeros((n_datasets, np.count_nonzero(a != 0)))\n",
    "em_b = np.zeros((n_datasets, np.count_nonzero(b != 0)))\n",
    "\n",
    "cem_a = np.copy(em_a)\n",
    "cem_b = np.copy(em_b)\n",
    "\n",
    "tc_a = np.copy(em_a)\n",
    "tc_b = np.copy(em_b)\n",
    "\n",
    "itsfa_a = np.copy(em_a)\n",
    "itsfa_b = np.copy(em_b)"
   ]
  },
  {
   "cell_type": "code",
   "execution_count": 7,
   "metadata": {},
   "outputs": [
    {
     "name": "stdout",
     "output_type": "stream",
     "text": [
      "0\n",
      "1\n",
      "2\n",
      "3\n",
      "4\n",
      "5\n",
      "6\n",
      "7\n",
      "8\n",
      "9\n"
     ]
    }
   ],
   "source": [
    "for dataset in range(n_datasets):\n",
    "    print(dataset)\n",
    "    X, Y, y = tm.generate_samples(n_samples=D)\n",
    "    \n",
    "    #em = EMSolver(X, Y, y, K=K,\n",
    "    #              a_mask=a != 0, b_mask=b != 0, B_mask=B != 0,\n",
    "    #              max_iter=1000, tol=1e-8)\n",
    "    #em.fit_em(verbose=False)\n",
    "    #em_a[dataset] = em.a.ravel()[a.ravel() != 0]\n",
    "    #em_b[dataset] = em.b.ravel()[b.ravel() != 0]\n",
    "    \n",
    "    #copy = em.copy()\n",
    "    #copy.apply_identifiability_constraint(constraint='coupling_norm')\n",
    "    #cem_a[dataset] = copy.a.ravel()[a.ravel() != 0]\n",
    "    #cem_b[dataset] = copy.b.ravel()[b.ravel() != 0]\n",
    "\n",
    "    ols = LinearRegression(fit_intercept=False)\n",
    "    ols.fit(np.concatenate((X[:, b.ravel() != 0], Y[:, a.ravel() != 0]), axis=1), y.ravel())\n",
    "    tc_b[dataset], tc_a[dataset] = np.split(ols.coef_, [np.count_nonzero(b.ravel() != 0)])\n",
    "    a_mask = (a != 0).ravel()\n",
    "    b_mask = (b != 0).ravel()\n",
    "    a_hat, b_hat, _ = ITSFASolver.itsfa(\n",
    "        X=X, Y=Y, y=y, a_mask=a_mask, b_mask=b_mask, B_hat=B, B_hat_intercept=np.zeros(M), K=K\n",
    "    )\n",
    "    itsfa_a[dataset] = a_hat[a_mask]\n",
    "    itsfa_b[dataset] = b_hat[b_mask]\n"
   ]
  },
  {
   "cell_type": "code",
   "execution_count": 8,
   "metadata": {},
   "outputs": [],
   "source": [
    "b_nz = b.ravel()[b.ravel() != 0]\n",
    "a_nz = a.ravel()[a.ravel() != 0]"
   ]
  },
  {
   "cell_type": "code",
   "execution_count": 9,
   "metadata": {},
   "outputs": [
    {
     "data": {
      "image/png": "[encoded data removed]",
      "text/plain": [
       "<Figure size 864x288 with 4 Axes>"
      ]
     },
     "metadata": {
      "needs_background": "light"
     },
     "output_type": "display_data"
    }
   ],
   "source": [
    "fig, axes = plt.subplots(1, 2, figsize=(12, 4))\n",
    "\n",
    "twins = []\n",
    "for ax in axes:\n",
    "    twins.append(ax.twinx())\n",
    "    \n",
    "#couplings = [tc_a, itsfa_a, em_a, cem_a]\n",
    "#tunings = [tc_b, itsfa_b, em_b, cem_b]\n",
    "couplings = [tc_a, itsfa_a]\n",
    "tunings = [tc_b, itsfa_b]\n",
    "\n",
    "for idx, ax in enumerate(axes):\n",
    "    ax.boxplot(\n",
    "        x=[np.mean(couplings[idx] - a_nz, axis=0) / np.abs(a_nz)],\n",
    "        positions=[0],\n",
    "        widths=0,\n",
    "        boxprops={'linewidth' : 4, 'color': 'r'},\n",
    "        medianprops={'marker' : '.', 'markersize' : 20, 'color' : 'r'},\n",
    "        whiskerprops={'linewidth' : 4, 'color' : 'r'},\n",
    "        showfliers=False\n",
    "    )\n",
    "\n",
    "for idx, tax in enumerate(twins):\n",
    "    tax.boxplot(\n",
    "        x=[np.mean(tunings[idx] - b_nz, axis=0) / np.abs(b_nz)],\n",
    "        positions=[1],\n",
    "        widths=0,\n",
    "        boxprops={'linewidth' : 4, 'color': 'k'},\n",
    "        medianprops={'marker' : '.', 'markersize' : 20, 'color' : 'k'},\n",
    "        whiskerprops={'linewidth' : 4, 'color' : 'k'},\n",
    "        showfliers=False\n",
    "    )\n",
    "\n",
    "for ax in axes:\n",
    "    ax.set_ylim([-0.5, 0.5])\n",
    "    ax.set_yticks([-0.25, 0, 0.25])\n",
    "    ax.set_yticklabels(['-0.25', '0', '0.25'])\n",
    "    ax.axhline(0, color='gray', linestyle='--')\n",
    "    ax.set_xticks([0, 1])\n",
    "    ax.set_xticklabels([r'\\textbf{Coupling}', r'\\textbf{Tuning}'], fontsize=15)\n",
    "    ax.tick_params(labelsize=15)\n",
    "    \n",
    "for tax in twins:\n",
    "    tax.set_ylim([-2, 2])\n",
    "    tax.set_yticks([-2, -1, 0, 1, 2])\n",
    "    tax.tick_params(labelsize=15)\n",
    "    \n",
    "axes[0].set_ylabel(r'\\textbf{Normalized Bias}', fontsize=20)\n",
    "\n",
    "axes[0].set_title(r'\\textbf{TC}', fontsize=21)\n",
    "axes[1].set_title(r'\\textbf{ITSFA}', fontsize=21)\n",
    "#axes[2].set_title(r'\\textbf{EM}', fontsize=21)\n",
    "#axes[3].set_title(r'\\textbf{cEM}', fontsize=21)\n",
    "plt.tight_layout()"
   ]
  }
 ],
 "metadata": {
  "kernelspec": {
   "display_name": "neuro",
   "language": "python",
   "name": "neuro"
  },
  "language_info": {
   "codemirror_mode": {
    "name": "ipython",
    "version": 3
   },
   "file_extension": ".py",
   "mimetype": "text/x-python",
   "name": "python",
   "nbconvert_exporter": "python",
   "pygments_lexer": "ipython3",
   "version": "3.7.9"
  }
 },
 "nbformat": 4,
 "nbformat_minor": 4
}
