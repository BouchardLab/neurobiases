{
 "cells": [
  {
   "cell_type": "code",
   "execution_count": null,
   "metadata": {},
   "outputs": [],
   "source": [
    "import h5py\n",
    "import matplotlib.pyplot as plt\n",
    "import numpy as np\n",
    "\n",
    "from neurobiases import (TriangularModel,\n",
    "                         EMSolver,\n",
    "                         TCSolver,\n",
    "                         solver_utils,\n",
    "                         plot)\n",
    "from sklearn.model_selection import check_cv\n",
    "\n",
    "%matplotlib inline"
   ]
  },
  {
   "cell_type": "code",
   "execution_count": null,
   "metadata": {},
   "outputs": [],
   "source": [
    "files = ['em_sparse.h5', 'tc_sparse.h5']"
   ]
  },
  {
   "cell_type": "code",
   "execution_count": null,
   "metadata": {},
   "outputs": [],
   "source": [
    "results = [h5py.File(file, 'r') for file in files]"
   ]
  },
  {
   "cell_type": "code",
   "execution_count": null,
   "metadata": {},
   "outputs": [],
   "source": [
    "# Print out entries in H5 files\n",
    "for file, result in zip(files, results):\n",
    "    print(file)\n",
    "    print(list(result))\n",
    "    print('---')"
   ]
  },
  {
   "cell_type": "code",
   "execution_count": null,
   "metadata": {},
   "outputs": [],
   "source": [
    "# Print out shape keys\n",
    "for file, result in zip(files, results):\n",
    "    print(file)\n",
    "    print(result['shape_key'][:])\n",
    "    print('---')"
   ]
  },
  {
   "cell_type": "code",
   "execution_count": null,
   "metadata": {},
   "outputs": [],
   "source": [
    "# Print out actual seeds for generating parameters/data\n",
    "for file, result in zip(files, results):\n",
    "    print(file)\n",
    "    print(result['shape_key'][:])\n",
    "    print(result['a_true'].shape)\n",
    "    print(result['b_true'].shape)\n",
    "    print('---')"
   ]
  },
  {
   "cell_type": "code",
   "execution_count": null,
   "metadata": {},
   "outputs": [],
   "source": [
    "# Print out seeds\n",
    "for file, result in zip(files, results):\n",
    "    print(file)\n",
    "    print(result.attrs['coupling_rng'])\n",
    "    print(result.attrs['tuning_rng'])\n",
    "    print(result.attrs['dataset_rng'])\n",
    "    print(result.attrs['fitter_rng'])\n",
    "    print('---')"
   ]
  },
  {
   "cell_type": "code",
   "execution_count": null,
   "metadata": {},
   "outputs": [],
   "source": [
    "# Print out actual seeds for generating parameters/data\n",
    "for file, result in zip(files, results):\n",
    "    print(file)\n",
    "    print(result['coupling_rngs'][:])\n",
    "    print(result['tuning_rngs'][:])\n",
    "    print(result['dataset_rngs'][:])\n",
    "    print('---')"
   ]
  },
  {
   "cell_type": "code",
   "execution_count": null,
   "metadata": {},
   "outputs": [],
   "source": [
    "# Print out actual seeds for generating parameters/data\n",
    "for file, result in zip(files, results):\n",
    "    print(file)\n",
    "    tm = TriangularModel(\n",
    "        model='linear',\n",
    "        parameter_design='direct_response',\n",
    "        M=result.attrs['M'],\n",
    "        N=result.attrs['N'],\n",
    "        K=result.attrs['K'],\n",
    "        corr_cluster=result.attrs['corr_cluster'],\n",
    "        corr_back=result.attrs['corr_back'],\n",
    "        coupling_distribution=result.attrs['coupling_distribution'],\n",
    "        coupling_sparsity=result.attrs['coupling_sparsity'],\n",
    "        coupling_loc=result['coupling_locs'][1],\n",
    "        coupling_scale=result.attrs['coupling_scale'],\n",
    "        coupling_rng=result['coupling_rngs'][1],\n",
    "        tuning_distribution=result.attrs['tuning_distribution'],\n",
    "        tuning_loc=result['tuning_locs'][0],\n",
    "        tuning_scale=result.attrs['tuning_scale'],\n",
    "        tuning_sparsity=result.attrs['tuning_sparsity'],\n",
    "        tuning_rng=result['tuning_rngs'][1]\n",
    "    )\n",
    "    print(tm.a.ravel())\n",
    "    print(result['a_true'][0, 1, 1, 0, 1, 0, 0])\n",
    "    print(result['a_true'][0, 1, 1, 0, 1, 0, 1])\n",
    "    print(tm.b.ravel())\n",
    "    print(result['b_true'][0, 1, 1, 0, 1, 0, 0])\n",
    "    print(result['b_true'][0, 1, 1, 0, 1, 0, 1])\n",
    "    print('---')\n"
   ]
  },
  {
   "cell_type": "code",
   "execution_count": null,
   "metadata": {},
   "outputs": [],
   "source": [
    "# Print out actual seeds for generating parameters/data\n",
    "for file, result in zip(files, results):\n",
    "    print(file)\n",
    "    tm = TriangularModel(\n",
    "        model='linear',\n",
    "        parameter_design='direct_response',\n",
    "        M=result.attrs['M'],\n",
    "        N=result.attrs['N'],\n",
    "        K=result.attrs['K'],\n",
    "        corr_cluster=result.attrs['corr_cluster'],\n",
    "        corr_back=result.attrs['corr_back'],\n",
    "        coupling_distribution=result.attrs['coupling_distribution'],\n",
    "        coupling_sparsity=result.attrs['coupling_sparsity'],\n",
    "        coupling_loc=result['coupling_locs'][0],\n",
    "        coupling_scale=result.attrs['coupling_scale'],\n",
    "        coupling_rng=result['coupling_rngs'][0],\n",
    "        tuning_distribution=result.attrs['tuning_distribution'],\n",
    "        tuning_loc=result['tuning_locs'][0],\n",
    "        tuning_scale=result.attrs['tuning_scale'],\n",
    "        tuning_sparsity=result.attrs['tuning_sparsity'],\n",
    "        tuning_rng=result['tuning_rngs'][0]\n",
    "    )\n",
    "    X, Y, y = tm.generate_samples(n_samples=result.attrs['D'], rng=result['dataset_rngs'][0])\n",
    "    cv = check_cv(2)\n",
    "\n",
    "    train_idx, test_idx = list(cv.split(X))[0]\n",
    "    X_train = X[train_idx]\n",
    "    Y_train = Y[train_idx]\n",
    "    y_train = y[train_idx]\n",
    "    X_test = X[test_idx]\n",
    "    Y_test = Y[test_idx]\n",
    "    y_test = y[test_idx]\n",
    "\n",
    "    if 'em' in file:\n",
    "        solver = EMSolver(\n",
    "            X=X_train,\n",
    "            Y=Y_train,\n",
    "            y=y_train,\n",
    "            K=1,\n",
    "            c_coupling=np.logspace(-3, -1, 2)[0],\n",
    "            c_tuning=np.logspace(-3, -1, 2)[0],\n",
    "            tol=result.attrs['tol'],\n",
    "            max_iter=result.attrs['max_iter'],\n",
    "            initialization=result.attrs['initialization'],\n",
    "            solver=result.attrs['solver'],\n",
    "            rng=result.attrs['fitter_rng'],\n",
    "            fa_rng=2332).fit_em(refit=True, verbose=True)\n",
    "        print(solver.a.ravel())\n",
    "        print(result['a_est'][0, 0, 0, 0, 0, 0, 0])\n",
    "        print(solver.b.ravel())\n",
    "        print(result['b_est'][0, 0, 0, 0, 0, 0, 0])\n",
    "    elif 'tc' in file:\n",
    "        solver = TCSolver(\n",
    "            X=X_train,\n",
    "            Y=Y_train,\n",
    "            y=y_train,\n",
    "            c_coupling=np.logspace(1, 4, 3)[0],\n",
    "            c_tuning=np.logspace(1, 4, 3)[1],\n",
    "            tol=result.attrs['tol'],\n",
    "            max_iter=result.attrs['max_iter'],\n",
    "            initialization=result.attrs['initialization'],\n",
    "            solver=result.attrs['solver'],\n",
    "            rng=result.attrs['fitter_rng']).fit_lasso(refit=True)\n",
    "        print(solver.a.ravel())\n",
    "        print(result['a_est'][0, 1, 1, 0, 1, 0, 1])\n",
    "        print(solver.b.ravel())\n",
    "        print(result['b_est'][0, 1, 1, 0, 1, 0, 1])\n"
   ]
  },
  {
   "cell_type": "code",
   "execution_count": null,
   "metadata": {},
   "outputs": [],
   "source": [
    "np.logspace(-3, -1, 2)[0]"
   ]
  },
  {
   "cell_type": "code",
   "execution_count": null,
   "metadata": {},
   "outputs": [],
   "source": [
    "results[0].attrs['tol']"
   ]
  },
  {
   "cell_type": "code",
   "execution_count": null,
   "metadata": {},
   "outputs": [],
   "source": [
    "np.logspace(0, 1, 2)[1]"
   ]
  },
  {
   "cell_type": "code",
   "execution_count": null,
   "metadata": {},
   "outputs": [],
   "source": [
    "np.logspace(-3, -1, 2)"
   ]
  },
  {
   "cell_type": "code",
   "execution_count": null,
   "metadata": {},
   "outputs": [],
   "source": []
  }
 ],
 "metadata": {
  "kernelspec": {
   "display_name": "neuro",
   "language": "python",
   "name": "neuro"
  },
  "language_info": {
   "codemirror_mode": {
    "name": "ipython",
    "version": 3
   },
   "file_extension": ".py",
   "mimetype": "text/x-python",
   "name": "python",
   "nbconvert_exporter": "python",
   "pygments_lexer": "ipython3",
   "version": "3.7.9"
  }
 },
 "nbformat": 4,
 "nbformat_minor": 4
}
