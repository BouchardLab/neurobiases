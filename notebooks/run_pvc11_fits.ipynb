{
 "cells": [
  {
   "cell_type": "code",
   "execution_count": 1,
   "id": "cabdcef4",
   "metadata": {},
   "outputs": [],
   "source": [
    "import os"
   ]
  },
  {
   "cell_type": "code",
   "execution_count": 2,
   "id": "db45e13e",
   "metadata": {},
   "outputs": [],
   "source": [
    "script_path = os.path.join(os.environ['HOME'], \"projects/neurobiases/scripts/neural_fits.py\")\n",
    "data_path = \"/storage/data/pvc11/data/spikes_gratings\"\n",
    "write_path = \"/storage/fits/neurobiases/pvc11\""
   ]
  },
  {
   "cell_type": "markdown",
   "id": "e882978d",
   "metadata": {
    "heading_collapsed": "true",
    "tags": []
   },
   "source": [
    "## Monkey 1, Tuning Fit, OLS"
   ]
  },
  {
   "cell_type": "code",
   "execution_count": 3,
   "id": "d15c8913",
   "metadata": {},
   "outputs": [
    {
     "name": "stdout",
     "output_type": "stream",
     "text": [
      "Fold 0\n",
      "Fold 1\n",
      "Fold 2\n",
      "Fold 3\n",
      "Fold 4\n"
     ]
    }
   ],
   "source": [
    "%run {script_path} \\\n",
    "    --model=t \\\n",
    "    --dataset=pvc11 \\\n",
    "    --data_path={os.path.join(data_path, \"data_monkey1_gratings.mat\")} \\\n",
    "    --write_path={os.path.join(write_path, \"pvc11_monkey1.h5\")} \\\n",
    "    --write_group=t_cosine2_ols \\\n",
    "    --fit=ols \\\n",
    "    --n_folds=5 \\\n",
    "    --cv_rng=504211120 \\\n",
    "    --transform=square_root \\\n",
    "    --cv_verbose"
   ]
  },
  {
   "cell_type": "markdown",
   "id": "070bc3fb",
   "metadata": {
    "heading_collapsed": "true",
    "tags": []
   },
   "source": [
    "## Monkey 1, Coupling Fit, Lasso"
   ]
  },
  {
   "cell_type": "code",
   "execution_count": 4,
   "id": "0b605d09",
   "metadata": {},
   "outputs": [
    {
     "name": "stdout",
     "output_type": "stream",
     "text": [
      "Fold 0\n",
      "Fold 1\n",
      "Fold 2\n",
      "Fold 3\n",
      "Fold 4\n"
     ]
    }
   ],
   "source": [
    "%run {script_path} \\\n",
    "    --model=c \\\n",
    "    --dataset=pvc11 \\\n",
    "    --data_path={os.path.join(data_path, \"data_monkey1_gratings.mat\")} \\\n",
    "    --write_path={os.path.join(write_path, \"pvc11_monkey1.h5\")} \\\n",
    "    --write_group=c_lasso \\\n",
    "    --fit=lasso \\\n",
    "    --n_folds=5 \\\n",
    "    --cv_rng=504211120 \\\n",
    "    --fitter_rng=2332120214 \\\n",
    "    --transform=square_root \\\n",
    "    --cv_verbose"
   ]
  },
  {
   "cell_type": "markdown",
   "id": "44ea060c",
   "metadata": {
    "heading_collapsed": "true",
    "tags": []
   },
   "source": [
    "## Monkey 1, Tuning and Coupling Fit, Lasso"
   ]
  },
  {
   "cell_type": "code",
   "execution_count": 5,
   "id": "e7c52395",
   "metadata": {},
   "outputs": [
    {
     "name": "stdout",
     "output_type": "stream",
     "text": [
      "Fold 0\n",
      "Fold 1\n",
      "Fold 2\n",
      "Fold 3\n",
      "Fold 4\n"
     ]
    }
   ],
   "source": [
    "%run {script_path} \\\n",
    "    --model=tc \\\n",
    "    --dataset=pvc11 \\\n",
    "    --data_path={os.path.join(data_path, \"data_monkey1_gratings.mat\")} \\\n",
    "    --write_path={os.path.join(write_path, \"pvc11_monkey1.h5\")} \\\n",
    "    --write_group=tc_lasso \\\n",
    "    --n_folds=5 \\\n",
    "    --cv_rng=504211120 \\\n",
    "    --fitter_rng=2332120214 \\\n",
    "    --transform=square_root \\\n",
    "    --solver='cd' \\\n",
    "    --c_tuning=0. \\\n",
    "    --c_coupling='cv' \\\n",
    "    --initialization='random' \\\n",
    "    --max_iter=5000 \\\n",
    "    --tol=1e-4 \\\n",
    "    --cv_verbose"
   ]
  },
  {
   "cell_type": "markdown",
   "id": "837ea8d3",
   "metadata": {
    "heading_collapsed": "true",
    "tags": []
   },
   "source": [
    "## Monkey 2, Tuning Fit, OLS"
   ]
  },
  {
   "cell_type": "code",
   "execution_count": 6,
   "id": "85914571",
   "metadata": {},
   "outputs": [
    {
     "name": "stdout",
     "output_type": "stream",
     "text": [
      "Fold 0\n",
      "Fold 1\n",
      "Fold 2\n",
      "Fold 3\n",
      "Fold 4\n"
     ]
    }
   ],
   "source": [
    "%run {script_path} \\\n",
    "    --model=t \\\n",
    "    --dataset=pvc11 \\\n",
    "    --data_path={os.path.join(data_path, \"data_monkey2_gratings.mat\")} \\\n",
    "    --write_path={os.path.join(write_path, \"pvc11_monkey2.h5\")} \\\n",
    "    --write_group=t_cosine2_ols \\\n",
    "    --fit=ols \\\n",
    "    --n_folds=5 \\\n",
    "    --cv_rng=504211120 \\\n",
    "    --transform=square_root \\\n",
    "    --cv_verbose"
   ]
  },
  {
   "cell_type": "markdown",
   "id": "59c439ed",
   "metadata": {
    "heading_collapsed": "true",
    "tags": []
   },
   "source": [
    "## Monkey 2, Coupling Fit, Lasso"
   ]
  },
  {
   "cell_type": "code",
   "execution_count": 7,
   "id": "92b19f35",
   "metadata": {},
   "outputs": [
    {
     "name": "stdout",
     "output_type": "stream",
     "text": [
      "Fold 0\n",
      "Fold 1\n",
      "Fold 2\n",
      "Fold 3\n",
      "Fold 4\n"
     ]
    }
   ],
   "source": [
    "%run {script_path} \\\n",
    "    --model=c \\\n",
    "    --dataset=pvc11 \\\n",
    "    --data_path={os.path.join(data_path, \"data_monkey2_gratings.mat\")} \\\n",
    "    --write_path={os.path.join(write_path, \"pvc11_monkey2.h5\")} \\\n",
    "    --write_group=c_lasso \\\n",
    "    --fit=lasso \\\n",
    "    --n_folds=5 \\\n",
    "    --cv_rng=504211120 \\\n",
    "    --fitter_rng=2332120214 \\\n",
    "    --transform=square_root \\\n",
    "    --cv_verbose"
   ]
  },
  {
   "cell_type": "markdown",
   "id": "286f917f",
   "metadata": {
    "heading_collapsed": "true",
    "tags": []
   },
   "source": [
    "## Monkey 2, Tuning and Coupling Fit, Lasso"
   ]
  },
  {
   "cell_type": "code",
   "execution_count": 8,
   "id": "7c37fd4d",
   "metadata": {},
   "outputs": [
    {
     "name": "stdout",
     "output_type": "stream",
     "text": [
      "Fold 0\n",
      "Fold 1\n",
      "Fold 2\n",
      "Fold 3\n",
      "Fold 4\n"
     ]
    }
   ],
   "source": [
    "%run {script_path} \\\n",
    "    --model=tc \\\n",
    "    --dataset=pvc11 \\\n",
    "    --data_path={os.path.join(data_path, \"data_monkey2_gratings.mat\")} \\\n",
    "    --write_path={os.path.join(write_path, \"pvc11_monkey2.h5\")} \\\n",
    "    --write_group=tc_lasso \\\n",
    "    --n_folds=5 \\\n",
    "    --cv_rng=504211120 \\\n",
    "    --fitter_rng=2332120214 \\\n",
    "    --transform=square_root \\\n",
    "    --solver='cd' \\\n",
    "    --c_tuning=0. \\\n",
    "    --c_coupling='cv' \\\n",
    "    --initialization='random' \\\n",
    "    --max_iter=5000 \\\n",
    "    --tol=1e-4 \\\n",
    "    --cv_verbose"
   ]
  },
  {
   "cell_type": "markdown",
   "id": "f82e805e",
   "metadata": {
    "heading_collapsed": "true",
    "tags": []
   },
   "source": [
    "## Monkey 3, Tuning Fit, OLS"
   ]
  },
  {
   "cell_type": "code",
   "execution_count": 9,
   "id": "9949df43",
   "metadata": {},
   "outputs": [
    {
     "name": "stdout",
     "output_type": "stream",
     "text": [
      "Fold 0\n",
      "Fold 1\n",
      "Fold 2\n",
      "Fold 3\n",
      "Fold 4\n"
     ]
    }
   ],
   "source": [
    "%run {script_path} \\\n",
    "    --model=t \\\n",
    "    --dataset=pvc11 \\\n",
    "    --data_path={os.path.join(data_path, \"data_monkey3_gratings.mat\")} \\\n",
    "    --write_path={os.path.join(write_path, \"pvc11_monkey3.h5\")} \\\n",
    "    --write_group=t_cosine2_ols \\\n",
    "    --fit=ols \\\n",
    "    --n_folds=5 \\\n",
    "    --cv_rng=504211120 \\\n",
    "    --transform=square_root \\\n",
    "    --cv_verbose"
   ]
  },
  {
   "cell_type": "markdown",
   "id": "834344be",
   "metadata": {
    "heading_collapsed": "true",
    "tags": []
   },
   "source": [
    "## Monkey 3, Coupling Fit, Lasso"
   ]
  },
  {
   "cell_type": "code",
   "execution_count": 10,
   "id": "f1c8750c",
   "metadata": {},
   "outputs": [
    {
     "name": "stdout",
     "output_type": "stream",
     "text": [
      "Fold 0\n",
      "Fold 1\n",
      "Fold 2\n",
      "Fold 3\n",
      "Fold 4\n"
     ]
    }
   ],
   "source": [
    "%run {script_path} \\\n",
    "    --model=c \\\n",
    "    --dataset=pvc11 \\\n",
    "    --data_path={os.path.join(data_path, \"data_monkey3_gratings.mat\")} \\\n",
    "    --write_path={os.path.join(write_path, \"pvc11_monkey3.h5\")} \\\n",
    "    --write_group=c_lasso \\\n",
    "    --fit=lasso \\\n",
    "    --n_folds=5 \\\n",
    "    --cv_rng=504211120 \\\n",
    "    --fitter_rng=2332120214 \\\n",
    "    --transform=square_root \\\n",
    "    --cv_verbose"
   ]
  },
  {
   "cell_type": "markdown",
   "id": "5dd08221",
   "metadata": {
    "heading_collapsed": "true",
    "tags": []
   },
   "source": [
    "## Monkey 3, Tuning and Coupling Fit, Lasso"
   ]
  },
  {
   "cell_type": "code",
   "execution_count": 11,
   "id": "eaf5f8fd",
   "metadata": {},
   "outputs": [
    {
     "name": "stdout",
     "output_type": "stream",
     "text": [
      "Fold 0\n",
      "Fold 1\n",
      "Fold 2\n",
      "Fold 3\n",
      "Fold 4\n"
     ]
    }
   ],
   "source": [
    "%run {script_path} \\\n",
    "    --model=tc \\\n",
    "    --dataset=pvc11 \\\n",
    "    --data_path={os.path.join(data_path, \"data_monkey3_gratings.mat\")} \\\n",
    "    --write_path={os.path.join(write_path, \"pvc11_monkey3.h5\")} \\\n",
    "    --write_group=tc_lasso \\\n",
    "    --n_folds=5 \\\n",
    "    --cv_rng=504211120 \\\n",
    "    --fitter_rng=2332120214 \\\n",
    "    --transform=square_root \\\n",
    "    --solver='cd' \\\n",
    "    --c_tuning=0. \\\n",
    "    --c_coupling='cv' \\\n",
    "    --initialization='random' \\\n",
    "    --max_iter=5000 \\\n",
    "    --tol=1e-4 \\\n",
    "    --cv_verbose"
   ]
  }
 ],
 "metadata": {
  "kernelspec": {
   "display_name": "neuro",
   "language": "python",
   "name": "neuro"
  },
  "language_info": {
   "codemirror_mode": {
    "name": "ipython",
    "version": 3
   },
   "file_extension": ".py",
   "mimetype": "text/x-python",
   "name": "python",
   "nbconvert_exporter": "python",
   "pygments_lexer": "ipython3",
   "version": "3.7.9"
  }
 },
 "nbformat": 4,
 "nbformat_minor": 5
}
