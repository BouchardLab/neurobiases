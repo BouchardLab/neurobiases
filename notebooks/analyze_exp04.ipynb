{
 "cells": [
  {
   "cell_type": "code",
   "execution_count": null,
   "metadata": {},
   "outputs": [],
   "source": [
    "import matplotlib.pyplot as plt\n",
    "import matplotlib.colors as colors\n",
    "import neurobiases\n",
    "import numpy as np\n",
    "import os\n",
    "\n",
    "from mpl_toolkits.axes_grid1.axes_divider import make_axes_locatable\n",
    "from sklearn.utils.extmath import cartesian\n",
    "\n",
    "%matplotlib inline"
   ]
  },
  {
   "cell_type": "code",
   "execution_count": null,
   "metadata": {},
   "outputs": [],
   "source": [
    "results_path = os.path.join(os.environ['HOME'], 'fits/neurobiases/exp4.npz')"
   ]
  },
  {
   "cell_type": "code",
   "execution_count": null,
   "metadata": {},
   "outputs": [],
   "source": [
    "results = np.load(results_path)"
   ]
  },
  {
   "cell_type": "code",
   "execution_count": null,
   "metadata": {},
   "outputs": [],
   "source": [
    "list(results)"
   ]
  },
  {
   "cell_type": "code",
   "execution_count": null,
   "metadata": {},
   "outputs": [],
   "source": [
    "a_true = results['a_true'][:]\n",
    "a_est = results['a_est'][:]\n",
    "b_true = results['b_true'][:]\n",
    "b_est = results['b_est'][:]\n",
    "B_true = results['B_true'][:].reshape((10, 15))\n",
    "B_est = results['B_est'][:]\n",
    "Psi_true = results['Psi_true'][:]\n",
    "Psi_est = results['Psi_est'][:]\n",
    "scores = results['scores'][:].reshape((30, 30, -1))\n",
    "bics = results['bics'][:].reshape((30, 30, -1))\n",
    "n_iterations = results['n_iterations'][:]"
   ]
  },
  {
   "cell_type": "code",
   "execution_count": null,
   "metadata": {},
   "outputs": [],
   "source": [
    "N = a_true.size\n",
    "M = b_true.size"
   ]
  },
  {
   "cell_type": "code",
   "execution_count": null,
   "metadata": {},
   "outputs": [],
   "source": [
    "ticks = [0, 6, 12, 18, 24, 29]\n",
    "xticklabels = ['1e-6', '1e-5', '1e-4', '1e-3', '1e-2', '1e-1']\n",
    "yticklabels = ['1e-4', '1e-3', '1e-2', '1e-1', '1e-0', '1e1']"
   ]
  },
  {
   "cell_type": "markdown",
   "metadata": {},
   "source": [
    "# Selection Ratio"
   ]
  },
  {
   "cell_type": "code",
   "execution_count": null,
   "metadata": {},
   "outputs": [],
   "source": [
    "a_srs = np.median((np.count_nonzero(a_est, axis=2) / N).reshape((30, 30, -1)), axis=2)\n",
    "b_srs = np.median((np.count_nonzero(b_est, axis=2) / M).reshape((30, 30, -1)), axis=2)\n",
    "B_srs = np.median((np.count_nonzero(B_est, axis=(2, 3)) / (N * M)).reshape((30, 30, -1)), axis=2)"
   ]
  },
  {
   "cell_type": "code",
   "execution_count": null,
   "metadata": {},
   "outputs": [],
   "source": [
    "fig, axes = plt.subplots(1, 3, figsize=(10, 4), sharex=True, sharey=True)\n",
    "\n",
    "axes[0].imshow(a_srs, vmin=0, vmax=1)\n",
    "axes[1].imshow(b_srs, vmin=0, vmax=1)\n",
    "img = axes[2].imshow(B_srs, vmin=0, vmax=1)\n",
    "\n",
    "axes[0].set_xlabel(r'\\textbf{Tuning Penalty}', fontsize=16)\n",
    "axes[0].set_ylabel(r'\\textbf{Coupling Penalty}', fontsize=16)\n",
    "\n",
    "axes[0].set_xticks(ticks)\n",
    "axes[1].set_yticks(ticks)\n",
    "\n",
    "for ax in axes:\n",
    "    ax.set_xticklabels(xticklabels, fontsize=12)\n",
    "    ax.set_yticklabels(yticklabels, fontsize=12)\n",
    "    \n",
    "axes[0].set_title(r'\\textbf{Coupling}', fontsize=18)\n",
    "axes[1].set_title(r'\\textbf{Target Tuning}', fontsize=18)\n",
    "axes[2].set_title(r'\\textbf{Non-target Tuning}', fontsize=18)\n",
    "\n",
    "[[x0, y0], [x1, y1]] = axes[2].get_position().get_points()\n",
    "cax = fig.add_axes([x1 + 0.05 * (x1 - x0), y0, 0.05 * (x1 - x0), (y1 - y0)])\n",
    "cb = fig.colorbar(img, cax=cax)\n",
    "cb.ax.tick_params(labelsize=10)\n",
    "cb.ax.set_ylabel(r'\\textbf{Selection Ratio}', fontsize=15, labelpad=15, rotation=270)\n",
    "\n",
    "plt.show()"
   ]
  },
  {
   "cell_type": "markdown",
   "metadata": {},
   "source": [
    "# Selection Accuracy"
   ]
  },
  {
   "cell_type": "code",
   "execution_count": null,
   "metadata": {},
   "outputs": [],
   "source": [
    "a_est_masks = a_est != 0\n",
    "b_est_masks = b_est != 0\n",
    "B_est_masks = B_est != 0"
   ]
  },
  {
   "cell_type": "code",
   "execution_count": null,
   "metadata": {},
   "outputs": [],
   "source": [
    "b_mask = b_true != 0\n",
    "a_mask = a_true != 0\n",
    "B_mask = B_true != 0"
   ]
  },
  {
   "cell_type": "code",
   "execution_count": null,
   "metadata": {},
   "outputs": [],
   "source": [
    "a_norm = np.sum(a_est_masks, axis=2) + np.sum(a_mask)\n",
    "b_norm = np.sum(b_est_masks, axis=2) + np.sum(b_mask)\n",
    "B_norm = np.sum(B_est_masks, axis=(2, 3)) + np.sum(B_mask)"
   ]
  },
  {
   "cell_type": "code",
   "execution_count": null,
   "metadata": {},
   "outputs": [],
   "source": [
    "a_sa = np.median(1 - np.sum(a_est_masks != a_mask, axis=2) / a_norm, axis=1).reshape((30, 30))\n",
    "b_sa = np.median(1 - np.sum(b_est_masks != b_mask, axis=2) / b_norm, axis=1).reshape((30, 30))\n",
    "B_sa = np.median(1 - np.sum(B_est_masks != B_mask, axis=(2, 3)) / B_norm, axis=1).reshape((30, 30))"
   ]
  },
  {
   "cell_type": "code",
   "execution_count": null,
   "metadata": {},
   "outputs": [],
   "source": [
    "mean_sa = (a_sa + b_sa + B_sa) / 3"
   ]
  },
  {
   "cell_type": "code",
   "execution_count": null,
   "metadata": {},
   "outputs": [],
   "source": [
    "fig, axes = plt.subplots(1, 4, figsize=(14, 4), sharex=True, sharey=True)\n",
    "\n",
    "axes[0].imshow(a_sa, vmin=0, vmax=1)\n",
    "axes[1].imshow(b_sa, vmin=0, vmax=1)\n",
    "axes[2].imshow(B_sa, vmin=0, vmax=1)\n",
    "img = axes[3].imshow(mean_sa, vmin=0, vmax=1)\n",
    "\n",
    "axes[0].set_xlabel(r'\\textbf{Tuning Penalty}', fontsize=16)\n",
    "axes[0].set_ylabel(r'\\textbf{Coupling Penalty}', fontsize=16)\n",
    "\n",
    "axes[0].set_xticks(ticks)\n",
    "axes[1].set_yticks(ticks)\n",
    "\n",
    "for ax in axes:\n",
    "    ax.set_xticklabels(xticklabels, fontsize=12)\n",
    "    ax.set_yticklabels(yticklabels, fontsize=12)\n",
    "    \n",
    "axes[0].set_title(r'\\textbf{Coupling}', fontsize=18)\n",
    "axes[1].set_title(r'\\textbf{Target Tuning}', fontsize=18)\n",
    "axes[2].set_title(r'\\textbf{Non-target Tuning}', fontsize=18)\n",
    "axes[3].set_title(r'\\textbf{Overall}', fontsize=18)\n",
    "\n",
    "[[x0, y0], [x1, y1]] = axes[3].get_position().get_points()\n",
    "cax = fig.add_axes([x1 + 0.05 * (x1 - x0), y0, 0.05 * (x1 - x0), (y1 - y0)])\n",
    "cb = fig.colorbar(img, cax=cax)\n",
    "cb.ax.tick_params(labelsize=10)\n",
    "cb.ax.set_ylabel(r'\\textbf{Selection Accuracy}', fontsize=15, labelpad=15, rotation=270)\n",
    "\n",
    "plt.show()"
   ]
  },
  {
   "cell_type": "markdown",
   "metadata": {},
   "source": [
    "# Cross-validated Log-likelihood"
   ]
  },
  {
   "cell_type": "code",
   "execution_count": null,
   "metadata": {},
   "outputs": [],
   "source": [
    "mean_lls = np.mean(scores, axis=2)\n",
    "best_ll = np.unravel_index(np.argmax(mean_lls), mean_lls.shape)"
   ]
  },
  {
   "cell_type": "code",
   "execution_count": null,
   "metadata": {},
   "outputs": [],
   "source": [
    "fig, ax = plt.subplots(1, 1, figsize=(6, 4))\n",
    "ax.plot(np.sort(-mean_lls.ravel()), linewidth=3, color='black')\n",
    "ax.set_xlabel(r'\\textbf{CV Index}', fontsize=20)\n",
    "ax.set_ylabel(r'\\textbf{Mean CV Negative LL}', fontsize=20)\n",
    "\n",
    "ax.set_xlim([0, 900])\n",
    "ax.set_ylim([-np.max(mean_lls), -np.percentile(mean_lls, q=20)])\n",
    "ax.tick_params(labelsize=15)"
   ]
  },
  {
   "cell_type": "code",
   "execution_count": null,
   "metadata": {},
   "outputs": [],
   "source": [
    "fig, ax = plt.subplots(1, 1, figsize=(5, 5))\n",
    "\n",
    "img = ax.imshow(mean_lls, vmin=np.percentile(mean_lls, q=90), vmax=np.max(mean_lls))\n",
    "ax.set_xlabel(r'\\textbf{Tuning Penalty}', fontsize=16)\n",
    "ax.set_ylabel(r'\\textbf{Coupling Penalty}', fontsize=16)\n",
    "\n",
    "ax.set_xticks(ticks)\n",
    "ax.set_yticks(ticks)\n",
    "ax.set_xticklabels(xticklabels, fontsize=12)\n",
    "ax.set_yticklabels(yticklabels, fontsize=12)\n",
    "\n",
    "ax.scatter(best_ll[1], best_ll[0], color='red', marker='x')\n",
    "\n",
    "[[x0, y0], [x1, y1]] = ax.get_position().get_points()\n",
    "cax = fig.add_axes([x1 + 0.05 * (x1 - x0), y0, 0.05 * (x1 - x0), (y1 - y0)])\n",
    "cb = fig.colorbar(img, cax=cax)\n",
    "cb.ax.tick_params(labelsize=10)\n",
    "cb.ax.set_ylabel(r'\\textbf{Held out Log-Likelihood}', fontsize=15, labelpad=20, rotation=270)\n",
    "plt.show()"
   ]
  },
  {
   "cell_type": "markdown",
   "metadata": {},
   "source": [
    "# Bayesian Information Criterion"
   ]
  },
  {
   "cell_type": "code",
   "execution_count": null,
   "metadata": {},
   "outputs": [],
   "source": [
    "mean_bics = np.mean(bics, axis=-1)\n",
    "best_bic = np.unravel_index(np.argmin(mean_bics), mean_bics.shape)"
   ]
  },
  {
   "cell_type": "code",
   "execution_count": null,
   "metadata": {},
   "outputs": [],
   "source": [
    "fig, ax = plt.subplots(1, 1, figsize=(6, 4))\n",
    "ax.plot(np.sort(mean_bics.ravel()), linewidth=3, color='black')\n",
    "ax.set_xlabel(r'\\textbf{CV Index}', fontsize=20)\n",
    "ax.set_ylabel(r'\\textbf{Mean BIC}', fontsize=20)\n",
    "\n",
    "ax.set_xlim([0, 900])\n",
    "ax.set_ylim([mean_bics.min(), mean_bics.max()])\n",
    "ax.tick_params(labelsize=15)"
   ]
  },
  {
   "cell_type": "code",
   "execution_count": null,
   "metadata": {},
   "outputs": [],
   "source": [
    "fig, ax = plt.subplots(1, 1, figsize=(5, 5))\n",
    "\n",
    "img = ax.imshow(mean_bics, vmin=np.min(mean_bics), vmax=np.percentile(mean_bics, q=20))\n",
    "\n",
    "ax.set_xlabel(r'\\textbf{Tuning Penalty}', fontsize=16)\n",
    "ax.set_ylabel(r'\\textbf{Coupling Penalty}', fontsize=16)\n",
    "\n",
    "ax.set_xticks([0, 7, 15, 22, 29])\n",
    "ax.set_yticks([0, 7, 15, 22, 29])\n",
    "ax.set_xticklabels(['1e-5', '1e-4', '1e-3', '1e-2', '1e-1'], fontsize=12)\n",
    "ax.set_yticklabels(['1e-4', '1e-3', '1e-2', '1e-1', '1e-0'], fontsize=12)\n",
    "\n",
    "ax.scatter(best_bic[1], best_bic[0], color='red', marker='x')\n",
    "\n",
    "[[x0, y0], [x1, y1]] = ax.get_position().get_points()\n",
    "cax = fig.add_axes([x1 + 0.05 * (x1 - x0), y0, 0.05 * (x1 - x0), (y1 - y0)])\n",
    "cb = fig.colorbar(img, cax=cax)\n",
    "cb.ax.tick_params(labelsize=10)\n",
    "cb.ax.set_ylabel(r'\\textbf{BIC}', fontsize=15, labelpad=20, rotation=270)\n",
    "\n",
    "plt.show()"
   ]
  },
  {
   "cell_type": "markdown",
   "metadata": {},
   "source": [
    "# Bias "
   ]
  },
  {
   "cell_type": "code",
   "execution_count": null,
   "metadata": {},
   "outputs": [],
   "source": [
    "b_mask = b_true != 0\n",
    "a_mask = a_true != 0\n",
    "a_nz = a_true[a_mask]\n",
    "b_nz = b_true[b_mask]"
   ]
  },
  {
   "cell_type": "code",
   "execution_count": null,
   "metadata": {},
   "outputs": [],
   "source": [
    "a_bias = np.mean(np.median(a_est - a_true, axis=1).reshape((30, 30, -1)), axis=-1)\n",
    "b_bias = np.mean(np.median(b_est - b_true, axis=1).reshape((30, 30, -1)), axis=-1)\n",
    "B_bias = np.mean(np.median(B_est - B_true, axis=1).reshape((30, 30, 10, 15)), axis=(2, 3))"
   ]
  },
  {
   "cell_type": "code",
   "execution_count": null,
   "metadata": {},
   "outputs": [],
   "source": [
    "fig, axes = plt.subplots(1, 3, figsize=(12, 6), sharex=True, sharey=True)\n",
    "\n",
    "plt.subplots_adjust(wspace=0.5)\n",
    "\n",
    "img1 = axes[0].imshow(a_bias, vmin=-0.2, vmax=0.2, cmap='RdGy')\n",
    "img2 = axes[1].imshow(b_bias, vmin=-30, vmax=30, cmap='RdGy')\n",
    "img3 = axes[2].imshow(B_bias, vmin=-30, vmax=30, cmap='RdGy')\n",
    "\n",
    "axes[0].set_xticks(ticks)\n",
    "axes[1].set_yticks(ticks)\n",
    "\n",
    "for ax in axes:\n",
    "    ax.set_xticklabels(xticklabels, fontsize=12)\n",
    "    ax.set_yticklabels(yticklabels, fontsize=12)\n",
    "    ax.scatter(best_ll[1], best_ll[0], color='purple', marker='x', s=50)\n",
    "    ax.scatter(best_bic[1], best_bic[0], color='cyan', marker='x', s=50)\n",
    "\n",
    "axes[0].set_title(r'\\textbf{Coupling}', fontsize=18)\n",
    "axes[1].set_title(r'\\textbf{Target Tuning}', fontsize=18)\n",
    "axes[2].set_title(r'\\textbf{Non-target Tuning}', fontsize=18)\n",
    "\n",
    "[[x0, y0], [x1, y1]] = axes[0].get_position().get_points()\n",
    "cax1 = fig.add_axes([x1 + 0.05 * (x1 - x0), y0, 0.05 * (x1 - x0), (y1 - y0)])\n",
    "cb = fig.colorbar(img1, cax=cax1)\n",
    "cb.ax.tick_params(labelsize=10)\n",
    "cb.ax.set_ylabel(r'\\textbf{Bias}', fontsize=15, labelpad=20, rotation=270)\n",
    "\n",
    "[[x0, y0], [x1, y1]] = axes[1].get_position().get_points()\n",
    "cax1 = fig.add_axes([x1 + 0.05 * (x1 - x0), y0, 0.05 * (x1 - x0), (y1 - y0)])\n",
    "cb = fig.colorbar(img2, cax=cax1)\n",
    "cb.ax.tick_params(labelsize=10)\n",
    "cb.ax.set_ylabel(r'\\textbf{Bias}', fontsize=15, labelpad=20, rotation=270)\n",
    "\n",
    "[[x0, y0], [x1, y1]] = axes[2].get_position().get_points()\n",
    "cax1 = fig.add_axes([x1 + 0.05 * (x1 - x0), y0, 0.05 * (x1 - x0), (y1 - y0)])\n",
    "cb = fig.colorbar(img3, cax=cax1)\n",
    "cb.ax.tick_params(labelsize=10)\n",
    "cb.ax.set_ylabel(r'\\textbf{Bias}', fontsize=15, labelpad=20, rotation=270)\n",
    "\n",
    "plt.show()"
   ]
  },
  {
   "cell_type": "code",
   "execution_count": null,
   "metadata": {},
   "outputs": [],
   "source": [
    "a_nz_bias = np.mean(np.median((a_est[..., a_mask] - a_nz)/np.abs(a_nz), axis=1).reshape((30, 30, -1)), axis=-1)\n",
    "b_nz_bias = np.mean(np.median((b_est[..., b_mask] - b_nz)/np.abs(b_nz), axis=1).reshape((30, 30, -1)), axis=-1)"
   ]
  },
  {
   "cell_type": "code",
   "execution_count": null,
   "metadata": {},
   "outputs": [],
   "source": [
    "np.unravel_index(best_ll, (30, 30))"
   ]
  },
  {
   "cell_type": "code",
   "execution_count": null,
   "metadata": {},
   "outputs": [],
   "source": [
    "### first plot\n",
    "fig, axes = plt.subplots(1, 2, figsize=(10, 4), sharex=True, sharey=True)\n",
    "\n",
    "plt.subplots_adjust(wspace=0.5)\n",
    "\n",
    "img1 = axes[0].imshow(a_nz_bias, vmin=-2, vmax=2, cmap='RdGy')\n",
    "img2 = axes[1].imshow(b_nz_bias, vmin=-2, vmax=2, cmap='RdGy')\n",
    "\n",
    "axes[0].set_xticks([0, 7, 15, 22, 29])\n",
    "axes[1].set_yticks([0, 7, 15, 22, 29])\n",
    "\n",
    "axes[0].set_xticks(ticks)\n",
    "axes[1].set_yticks(ticks)\n",
    "\n",
    "for ax in axes:\n",
    "    ax.set_xticklabels(xticklabels, fontsize=12)\n",
    "    ax.set_yticklabels(yticklabels, fontsize=12)\n",
    "    \n",
    "axes[0].set_title(r'\\textbf{Coupling}', fontsize=18)\n",
    "axes[1].set_title(r'\\textbf{Target Tuning}', fontsize=18)\n",
    "\n",
    "for ax in axes:\n",
    "    ax.scatter(15, 15, color='blue', marker='x')\n",
    "    ax.scatter(15, 25, color='purple', marker='x')\n",
    "    ax.scatter(23, 13, color='green', marker='x')\n",
    "    ax.scatter(20, 2, color='cyan', marker='x')\n",
    "\n",
    "\n",
    "[[x0, y0], [x1, y1]] = axes[0].get_position().get_points()\n",
    "cax1 = fig.add_axes([x1 + 0.05 * (x1 - x0), y0, 0.05 * (x1 - x0), (y1 - y0)])\n",
    "cb = fig.colorbar(img1, cax=cax1)\n",
    "cb.ax.tick_params(labelsize=10)\n",
    "cb.ax.set_ylabel(r'\\textbf{Normalized Bias}', fontsize=15, labelpad=20, rotation=270)\n",
    "\n",
    "[[x0, y0], [x1, y1]] = axes[1].get_position().get_points()\n",
    "cax1 = fig.add_axes([x1 + 0.05 * (x1 - x0), y0, 0.05 * (x1 - x0), (y1 - y0)])\n",
    "cb = fig.colorbar(img2, cax=cax1)\n",
    "cb.ax.tick_params(labelsize=10)\n",
    "cb.ax.set_ylabel(r'\\textbf{Normalized Bias}', fontsize=15, labelpad=20, rotation=270)\n",
    "plt.show()\n",
    "\n",
    "### second plot\n",
    "fig, axes = plt.subplots(1, 2, figsize=(12, 4))\n",
    "colors = ['blue', 'purple', 'green', 'cyan']\n",
    "\n",
    "axes[0].plot(a_true, color='k', marker='o', linewidth=2)\n",
    "for idx, plot_idx in enumerate(plot_idxs):\n",
    "    axes[0].plot(np.median(a_est[plot_idx], axis=0), color=colors[idx], marker='o', linewidth=3)\n",
    "    \n",
    "axes[1].plot(b_true, color='k', marker='o', linewidth=2)\n",
    "for idx, plot_idx in enumerate(plot_idxs):\n",
    "    axes[1].plot(np.median(b_est[plot_idx], axis=0), color=colors[idx], marker='o', linewidth=3)\n",
    "    \n",
    "for ax in axes:\n",
    "    ax.tick_params(labelsize=10)\n",
    "    ax.set_xticks([])\n",
    "    \n",
    "axes[0].set_ylim([-1.5, 1.5])\n",
    "axes[1].set_ylim([-50, 175])\n",
    "\n",
    "axes[0].set_ylabel(r'\\textbf{Coupling Parameters}', fontsize=15)\n",
    "axes[1].set_ylabel(r'\\textbf{Tuning Parameters}', fontsize=15)\n",
    "plt.show()"
   ]
  }
 ],
 "metadata": {
  "kernelspec": {
   "display_name": "neuro",
   "language": "python",
   "name": "neuro"
  },
  "language_info": {
   "codemirror_mode": {
    "name": "ipython",
    "version": 3
   },
   "file_extension": ".py",
   "mimetype": "text/x-python",
   "name": "python",
   "nbconvert_exporter": "python",
   "pygments_lexer": "ipython3",
   "version": "3.7.9"
  }
 },
 "nbformat": 4,
 "nbformat_minor": 4
}
