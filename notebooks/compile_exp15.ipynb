{
 "cells": [
  {
   "cell_type": "code",
   "execution_count": null,
   "id": "219e1b47",
   "metadata": {},
   "outputs": [],
   "source": [
    "import h5py\n",
    "import matplotlib.pyplot as plt\n",
    "import neuropacks\n",
    "import numpy as np\n",
    "import os\n",
    "\n",
    "%matplotlib inline"
   ]
  },
  {
   "cell_type": "code",
   "execution_count": null,
   "id": "49f4fef8",
   "metadata": {},
   "outputs": [],
   "source": [
    "base_path = '/storage/fits/neurobiases/exp15'"
   ]
  },
  {
   "cell_type": "code",
   "execution_count": null,
   "id": "43b44072",
   "metadata": {},
   "outputs": [],
   "source": [
    "# Hyperparameter 1\n",
    "n_coupling_locs = 5\n",
    "coupling_loc_min = -1\n",
    "coupling_loc_max = 1\n",
    "coupling_locs = np.linspace(coupling_loc_min, coupling_loc_max, n_coupling_locs)\n",
    "# Hyperparameter 2\n",
    "n_tuning_locs = 5\n",
    "tuning_loc_min = -1\n",
    "tuning_loc_max = 1\n",
    "tuning_locs = np.linspace(tuning_loc_min, tuning_loc_max, n_tuning_locs)\n",
    "# Hyperparameter 3\n",
    "n_models = 10\n",
    "# Hyperparameter 4\n",
    "n_datasets = 20"
   ]
  },
  {
   "cell_type": "code",
   "execution_count": null,
   "id": "5a122326",
   "metadata": {},
   "outputs": [],
   "source": [
    "N = 10\n",
    "M = 10\n",
    "K = 1\n",
    "D = 500\n",
    "n_folds = 3"
   ]
  },
  {
   "cell_type": "markdown",
   "id": "550c60a4",
   "metadata": {},
   "source": [
    "# Triangular Model"
   ]
  },
  {
   "cell_type": "code",
   "execution_count": null,
   "id": "8a8192d6",
   "metadata": {},
   "outputs": [],
   "source": [
    "shape_tuple = (n_coupling_locs, n_tuning_locs, n_models, n_datasets)\n",
    "a_true = np.zeros(shape_tuple + (N,))\n",
    "a_est = np.zeros(shape_tuple + (n_folds, N))\n",
    "b_true = np.zeros(shape_tuple + (M,))\n",
    "b_est = np.zeros(shape_tuple + (n_folds, M))\n",
    "B_true = np.zeros(shape_tuple + (N, M))\n",
    "B_est = np.zeros(shape_tuple + (n_folds, N, M))\n",
    "L_true = np.zeros(shape_tuple + (K, N + 1))\n",
    "L_est = np.zeros(shape_tuple + (n_folds, K, N + 1))\n",
    "Psi_true = np.zeros(shape_tuple + (N + 1,))\n",
    "Psi_est = np.zeros(shape_tuple + (n_folds, N + 1))\n",
    "bics = np.zeros(shape_tuple + (n_folds,))\n",
    "mlls = np.zeros(shape_tuple + (n_folds,))\n",
    "best_coupling_lambdas = np.zeros(shape_tuple)\n",
    "best_tuning_lambdas = np.zeros(shape_tuple)\n",
    "\n",
    "for ii, coupling_loc in enumerate(coupling_locs):\n",
    "    for jj, tuning_loc in enumerate(tuning_locs):\n",
    "        for kk in range(n_models):\n",
    "            for ll in range(n_datasets):\n",
    "                file = f\"exp15_em_{ii}_{jj}_{kk}_{ll}.h5\"\n",
    "                path = os.path.join(base_path, file)\n",
    "                \n",
    "                with h5py.File(path, 'r') as results:\n",
    "                    a_true[ii, jj, kk, ll] = results['a_true'][:]\n",
    "                    a_est[ii, jj, kk, ll] = results['a_est'][:]\n",
    "                    b_true[ii, jj, kk, ll] = results['b_true'][:]\n",
    "                    b_est[ii, jj, kk, ll] = results['b_est'][:]\n",
    "                    B_true[ii, jj, kk, ll] = results['B_true'][:]\n",
    "                    B_est[ii, jj, kk, ll] = results['B_est'][:]\n",
    "                    L_true[ii, jj, kk, ll] = results['L_true'][:]\n",
    "                    L_est[ii, jj, kk, ll] = results['L_est'][:]\n",
    "                    Psi_true[ii, jj, kk, ll] = results['Psi_true'][:]\n",
    "                    Psi_est[ii, jj, kk, ll] = results['Psi_est'][:]\n",
    "                    bics[ii, jj, kk, ll] = results['bics'][:]\n",
    "                    mlls[ii, jj, kk, ll] = results['mlls'][:]\n",
    "                    best_coupling_lambdas[ii, jj, kk, ll] = results.attrs['best_coupling_lambda']\n",
    "                    best_tuning_lambdas[ii, jj, kk, ll] = results.attrs['best_tuning_lambda']"
   ]
  },
  {
   "cell_type": "code",
   "execution_count": null,
   "id": "2f4dc863",
   "metadata": {},
   "outputs": [],
   "source": [
    "exp15 = h5py.File(os.path.join(base_path, \"exp15_em.h5\"), \"a\")\n",
    "exp15['a_true'] = a_true\n",
    "exp15['a_est'] = a_est\n",
    "exp15['b_true'] = b_true\n",
    "exp15['b_est'] = b_est\n",
    "exp15['B_true'] = B_true\n",
    "exp15['B_est'] = B_est\n",
    "exp15['L_true'] = L_true\n",
    "exp15['L_est'] = L_est\n",
    "exp15['Psi_true'] = Psi_true\n",
    "exp15['Psi_est'] = Psi_est\n",
    "exp15['bics'] = bics\n",
    "exp15['mlls'] = mlls\n",
    "exp15['best_coupling_lambdas'] = best_coupling_lambdas\n",
    "exp15['best_tuning_lambdas'] = best_tuning_lambdas\n",
    "exp15.attrs['N'] = N\n",
    "exp15.attrs['M'] = M\n",
    "exp15.attrs['K'] = K\n",
    "exp15.attrs['D'] = D\n",
    "exp15.attrs['tuning_sparsity'] = 0.5\n",
    "exp15.attrs['coupling_sparsity'] = 0.5\n",
    "exp15.close()"
   ]
  },
  {
   "cell_type": "markdown",
   "id": "6368e616",
   "metadata": {},
   "source": [
    "# Tuning and Coupling Model"
   ]
  },
  {
   "cell_type": "code",
   "execution_count": null,
   "id": "12efc360",
   "metadata": {},
   "outputs": [],
   "source": [
    "shape_tuple = (n_coupling_locs, n_tuning_locs, n_models, n_datasets)\n",
    "a_true = np.zeros(shape_tuple + (N,))\n",
    "a_est = np.zeros(shape_tuple + (n_folds, N))\n",
    "b_true = np.zeros(shape_tuple + (M,))\n",
    "b_est = np.zeros(shape_tuple + (n_folds, M))\n",
    "B_true = np.zeros(shape_tuple + (N, M))\n",
    "B_est = np.zeros(shape_tuple + (n_folds, N, M))\n",
    "L_true = np.zeros(shape_tuple + (K, N + 1))\n",
    "L_est = np.zeros(shape_tuple + (n_folds, K, N + 1))\n",
    "Psi_true = np.zeros(shape_tuple + (N + 1,))\n",
    "Psi_est = np.zeros(shape_tuple + (n_folds, N + 1))\n",
    "bics = np.zeros(shape_tuple + (n_folds,))\n",
    "mlls = np.zeros(shape_tuple + (n_folds,))\n",
    "best_coupling_lambdas = np.zeros(shape_tuple)\n",
    "best_tuning_lambdas = np.zeros(shape_tuple)\n",
    "\n",
    "for ii, coupling_loc in enumerate(coupling_locs):\n",
    "    for jj, tuning_loc in enumerate(tuning_locs):\n",
    "        for kk in range(n_models):\n",
    "            for ll in range(n_datasets):\n",
    "                file = f\"exp15_tc_{ii}_{jj}_{kk}_{ll}.h5\"\n",
    "                path = os.path.join(base_path, file)\n",
    "                \n",
    "                with h5py.File(path, 'r') as results:\n",
    "                    a_true[ii, jj, kk, ll] = results['a_true'][:]\n",
    "                    a_est[ii, jj, kk, ll] = results['a_est'][:]\n",
    "                    b_true[ii, jj, kk, ll] = results['b_true'][:]\n",
    "                    b_est[ii, jj, kk, ll] = results['b_est'][:]\n",
    "                    bics[ii, jj, kk, ll] = results['bics'][:]\n",
    "                    mlls[ii, jj, kk, ll] = results['mses'][:]\n",
    "                    best_coupling_lambdas[ii, jj, kk, ll] = results.attrs['best_coupling_lambda']\n",
    "                    best_tuning_lambdas[ii, jj, kk, ll] = results.attrs['best_tuning_lambda']"
   ]
  },
  {
   "cell_type": "code",
   "execution_count": null,
   "id": "25b620f2",
   "metadata": {},
   "outputs": [],
   "source": [
    "exp15 = h5py.File(os.path.join(base_path, \"exp15_tc.h5\"), \"a\")\n",
    "exp15['a_true'] = a_true\n",
    "exp15['a_est'] = a_est\n",
    "exp15['b_true'] = b_true\n",
    "exp15['b_est'] = b_est\n",
    "exp15['bics'] = bics\n",
    "exp15['mses'] = mlls\n",
    "exp15['best_coupling_lambdas'] = best_coupling_lambdas\n",
    "exp15['best_tuning_lambdas'] = best_tuning_lambdas\n",
    "exp15.attrs['N'] = N\n",
    "exp15.attrs['M'] = M\n",
    "exp15.attrs['K'] = K\n",
    "exp15.attrs['D'] = D\n",
    "exp15.attrs['tuning_sparsity'] = 0.5\n",
    "exp15.attrs['coupling_sparsity'] = 0.5\n",
    "exp15.close()"
   ]
  },
  {
   "cell_type": "code",
   "execution_count": null,
   "id": "df9d178f",
   "metadata": {},
   "outputs": [],
   "source": []
  }
 ],
 "metadata": {
  "kernelspec": {
   "display_name": "neuro",
   "language": "python",
   "name": "neuro"
  },
  "language_info": {
   "codemirror_mode": {
    "name": "ipython",
    "version": 3
   },
   "file_extension": ".py",
   "mimetype": "text/x-python",
   "name": "python",
   "nbconvert_exporter": "python",
   "pygments_lexer": "ipython3",
   "version": "3.7.9"
  }
 },
 "nbformat": 4,
 "nbformat_minor": 5
}
